{
 "cells": [
  {
   "cell_type": "code",
   "execution_count": 1,
   "metadata": {},
   "outputs": [
    {
     "name": "stdout",
     "output_type": "stream",
     "text": [
      "using device cuda:0\n",
      "/home/r2/Documents/RNNexp\n"
     ]
    }
   ],
   "source": [
    "from ola_models import * \n",
    "from ola_RNN import * \n",
    "\n",
    "import os, time, copy, math, re, json, pickle, random\n",
    "import numpy as np\n",
    "import pandas as pd\n",
    "\n",
    "import torch, torchvision\n",
    "import torchvision.models as models\n",
    "import torchvision.transforms as transforms\n",
    "import torch.nn as nn\n",
    "import torch.nn.init as init\n",
    "import torch.nn.functional as F\n",
    "import torch.optim as optim\n",
    "\n",
    "import matplotlib.pyplot as plt\n",
    "import matplotlib.patches as mpatches\n",
    "import matplotlib.ticker as ticker\n",
    "%matplotlib inline \n",
    "import seaborn as sns\n",
    "\n",
    "from functools import partial \n",
    "\n",
    "cuda_available = torch.cuda.is_available()\n",
    "device = torch.device(\"cuda:0\" if cuda_available else \"cpu\")\n",
    "print(f'''using device {device}''')\n",
    "\n",
    "path = !pwd\n",
    "path = path[0]\n",
    "print(path)"
   ]
  },
  {
   "cell_type": "code",
   "execution_count": 2,
   "metadata": {},
   "outputs": [
    {
     "data": {
      "application/javascript": [
       "IPython.OutputArea.auto_scroll_threshold = 9999;\n"
      ],
      "text/plain": [
       "<IPython.core.display.Javascript object>"
      ]
     },
     "metadata": {},
     "output_type": "display_data"
    }
   ],
   "source": [
    "%%javascript\n",
    "IPython.OutputArea.auto_scroll_threshold = 9999;"
   ]
  },
  {
   "cell_type": "code",
   "execution_count": 3,
   "metadata": {},
   "outputs": [],
   "source": [
    "class LSTM(nn.Module):\n",
    "    def __init__(self, x_sz, h_sz, c_sz):\n",
    "        super(LSTM,self).__init__()\n",
    "        self.x_sz = x_sz\n",
    "        self.h_sz = h_sz\n",
    "        self.c_sz = c_sz\n",
    "\n",
    "        self.xh_lay  = nn.Linear(self.x_sz + self.h_sz, 2*self.h_sz)\n",
    "        self.xhc_lay = nn.Linear(self.x_sz + self.h_sz + self.c_sz, 2*self.h_sz)\n",
    "        \n",
    "        self.ig_sig = nn.Sigmoid()\n",
    "        self.fg_sig = nn.Sigmoid()\n",
    "        self.og_sig = nn.Sigmoid()\n",
    "        self.gg_tan = nn.Tanh()\n",
    "        \n",
    "        self.out_lay = nn.Linear(self.x_sz+self.h_sz,self.x_sz)\n",
    "        self.softmax = nn.LogSoftmax(dim=1)   \n",
    "            \n",
    "    def forward(self,input,hidd,cell):        \n",
    "        \n",
    "        f\"\"\"elementwise-add input and hidden\"\"\"\n",
    "\n",
    "#         x = self.x_lay(input)   \n",
    "#         h = self.h_lay(hidd)           \n",
    "#         x_i,x_f,x_o,x_g = x.chunk(4,1)\n",
    "#         h_i,h_f,h_o,h_g = h.chunk(4,1)                \n",
    "#         forget_gate = self.fg_sig(x_f + h_f)        \n",
    "#         input_gate  = self.ig_sig(x_i + h_i)        \n",
    "#         gate_gate   = self.gg_tan(x_g + h_g)         \n",
    "#         output_gate = self.ot_sig(x_o + h_o)\n",
    "\n",
    "        f\"\"\"concatenation of input, hidden and cell\"\"\"\n",
    "        xh  = self.xh_lay(torch.cat((input,hidd), 1))\n",
    "        xhc = self.xhc_lay(torch.cat((input,hidd,cell),1))\n",
    "        \n",
    "        forget_in, input_in = xh.chunk(2,1)\n",
    "        gate_in, output_in  = xhc.chunk(2,1) \n",
    "\n",
    "        input_gate  = self.ig_sig(input_in)\n",
    "        forget_gate = self.fg_sig(forget_in)\n",
    "        output_gate = self.og_sig(output_in)\n",
    "        gate_gate   = self.gg_tan(gate_in)        \n",
    "    \n",
    "        new_cell    = cell * forget_gate + input_gate * gate_gate\n",
    "        new_hidden  = output_gate * torch.tanh(new_cell) \n",
    "        \n",
    "        combine = torch.cat((input,new_hidden),1)\n",
    "        output  = self.out_lay(combine)\n",
    "        \n",
    "        return self.softmax(output), new_hidden, new_cell\n",
    "    \n",
    "    def batch_forward(self,xb,yb,h_c,loss_fn):        \n",
    "        self.train()\n",
    "        if xb[0,0,1].item() == 1: hidden, cell = self.initHidden(xb.shape[0])\n",
    "        else: hidden,cell = h_c[0],h_c[1]\n",
    "        loss = 0\n",
    "        accu = 0\n",
    "        for char in range(xb.shape[1]):\n",
    "            x,y             = xb[:,char],yb[:,char]\n",
    "            x,y,hidden,cell = unpad(x,y,hidden,cell)\n",
    "            if x.shape[0] == 0: break\n",
    "            output,hidden,cell = self.forward(x,hidden,cell)\n",
    "            \"\"\"divide by the bs used for current character\"\"\"\n",
    "            accu += get_accu(output,y)/x.shape[0]    \n",
    "            loss += loss_fn(output,y)\n",
    "        return output,(hidden.detach(),cell.detach()),loss/(char+1),accu/(char+1)\n",
    "\n",
    "    def initHidden(self, bs):\n",
    "        return (cuda(torch.zeros(bs,self.h_sz)), cuda(torch.zeros(bs,self.c_sz)))"
   ]
  },
  {
   "cell_type": "code",
   "execution_count": 4,
   "metadata": {},
   "outputs": [],
   "source": [
    "bs  = 30\n",
    "sql = 30\n",
    "lr  = 0.0005 \n",
    "\n",
    "sched = combine_scheds([0.15, 0.25, 0.2, 0.4], [sched_cos(0.0005, 0.0008), sched_cos(0.0008, 0.0005),sched_lin(0.0005,0.0005),sched_cos(0.0005,0.00005)]) \n",
    "data          = pp_trumpdata(path+\"/data/trump/\", [0.9,0.95], bs)\n",
    "data.train_dl = TweetDataLoader(data,data.train.tweets,bs,sql,shuffle=True)\n",
    "data.valid_dl = TweetDataLoader(data,data.valid.tweets,bs,30,shuffle=False)"
   ]
  },
  {
   "cell_type": "code",
   "execution_count": 5,
   "metadata": {},
   "outputs": [],
   "source": [
    "model  = cuda(LSTM(len(data.decoder), 150, 150))\n",
    "opt    = optim.RMSprop(model.parameters(), lr, momentum=0.9)\n",
    "learn  = Learner(model,  nn.NLLLoss(), opt , data, lr=lr)"
   ]
  },
  {
   "cell_type": "code",
   "execution_count": 6,
   "metadata": {},
   "outputs": [],
   "source": [
    "cbs = CallbackHandler([CounterCallback(4000),StatsCallback()])"
   ]
  },
  {
   "cell_type": "code",
   "execution_count": 7,
   "metadata": {},
   "outputs": [
    {
     "name": "stdout",
     "output_type": "stream",
     "text": [
      "learn.n_iters shouldn't be 0\n",
      "getting validation\n",
      "finished: 0.01250000000000001%\n",
      "getting validation\n",
      "finished: 0.02500000000000002%\n",
      "getting validation\n",
      "finished: 0.037500000000000026%\n",
      "getting validation\n",
      "finished: 0.05000000000000004%\n",
      "getting validation\n",
      "finished: 0.06250000000000004%\n",
      "getting validation\n",
      "finished: 0.07500000000000005%\n",
      "getting validation\n",
      "finished: 0.08750000000000006%\n",
      "getting validation\n",
      "finished: 0.10000000000000007%\n",
      "getting validation\n",
      "finished: 0.11250000000000009%\n",
      "getting validation\n",
      "finished: 0.12500000000000008%\n",
      "getting validation\n",
      "finished: 0.1375000000000001%\n",
      "getting validation\n",
      "finished: 0.1500000000000001%\n",
      "getting validation\n",
      "finished: 0.16250000000000012%\n",
      "getting validation\n",
      "finished: 0.17500000000000013%\n",
      "getting validation\n",
      "finished: 0.18750000000000014%\n",
      "getting validation\n",
      "finished: 0.20000000000000015%\n",
      "getting validation\n",
      "finished: 0.21250000000000016%\n",
      "getting validation\n",
      "finished: 0.22500000000000017%\n",
      "getting validation\n",
      "finished: 0.23750000000000018%\n",
      "getting validation\n",
      "finished: 0.25000000000000017%\n",
      "getting validation\n",
      "finished: 0.2624999999999988%\n",
      "getting validation\n",
      "finished: 0.2749999999999974%\n",
      "getting validation\n",
      "finished: 0.28749999999999604%\n",
      "getting validation\n",
      "finished: 0.29999999999999466%\n",
      "getting validation\n",
      "finished: 0.3124999999999933%\n",
      "getting validation\n",
      "finished: 0.3249999999999919%\n",
      "getting validation\n",
      "finished: 0.33749999999999053%\n",
      "getting validation\n",
      "finished: 0.34999999999998915%\n",
      "getting validation\n",
      "finished: 0.3624999999999878%\n",
      "getting validation\n",
      "finished: 0.3749999999999864%\n",
      "getting validation\n",
      "finished: 0.387499999999985%\n",
      "getting validation\n",
      "finished: 0.39999999999998365%\n",
      "getting validation\n",
      "finished: 0.41249999999998227%\n",
      "getting validation\n",
      "finished: 0.4249999999999809%\n",
      "getting validation\n",
      "finished: 0.4374999999999795%\n",
      "getting validation\n",
      "finished: 0.44999999999997814%\n",
      "getting validation\n",
      "finished: 0.46249999999997676%\n",
      "getting validation\n",
      "finished: 0.4749999999999754%\n",
      "getting validation\n",
      "finished: 0.487499999999974%\n",
      "getting validation\n",
      "finished: 0.49999999999997263%\n",
      "getting validation\n",
      "finished: 0.5124999999999713%\n",
      "getting validation\n",
      "finished: 0.5249999999999699%\n",
      "getting validation\n",
      "finished: 0.5374999999999686%\n",
      "getting validation\n",
      "finished: 0.5499999999999672%\n",
      "getting validation\n",
      "finished: 0.5624999999999658%\n",
      "getting validation\n",
      "finished: 0.5749999999999644%\n",
      "getting validation\n",
      "finished: 0.587499999999963%\n",
      "getting validation\n",
      "finished: 0.5999999999999617%\n",
      "getting validation\n",
      "finished: 0.6124999999999603%\n",
      "getting validation\n",
      "finished: 0.6249999999999589%\n",
      "getting validation\n",
      "finished: 0.6374999999999575%\n",
      "getting validation\n",
      "finished: 0.6499999999999562%\n",
      "getting validation\n",
      "finished: 0.6624999999999548%\n",
      "getting validation\n",
      "finished: 0.6749999999999534%\n",
      "getting validation\n",
      "finished: 0.687499999999952%\n",
      "getting validation\n",
      "finished: 0.6999999999999507%\n",
      "getting validation\n",
      "finished: 0.7124999999999493%\n",
      "getting validation\n",
      "finished: 0.7249999999999479%\n",
      "getting validation\n",
      "finished: 0.7374999999999465%\n",
      "getting validation\n",
      "finished: 0.7499999999999452%\n",
      "getting validation\n",
      "finished: 0.7624999999999438%\n",
      "getting validation\n",
      "finished: 0.7749999999999424%\n",
      "getting validation\n",
      "finished: 0.787499999999941%\n",
      "getting validation\n",
      "finished: 0.7999999999999396%\n",
      "getting validation\n",
      "finished: 0.8124999999999383%\n",
      "getting validation\n",
      "finished: 0.8249999999999369%\n",
      "getting validation\n",
      "finished: 0.8374999999999355%\n",
      "getting validation\n",
      "finished: 0.8499999999999341%\n",
      "getting validation\n",
      "finished: 0.8624999999999328%\n",
      "getting validation\n",
      "finished: 0.8749999999999314%\n",
      "getting validation\n",
      "finished: 0.88749999999993%\n",
      "getting validation\n",
      "finished: 0.8999999999999286%\n",
      "getting validation\n",
      "finished: 0.9124999999999273%\n",
      "getting validation\n",
      "finished: 0.9249999999999259%\n",
      "getting validation\n",
      "finished: 0.9374999999999245%\n",
      "getting validation\n",
      "finished: 0.9499999999999231%\n",
      "getting validation\n",
      "finished: 0.9624999999999218%\n",
      "getting validation\n",
      "finished: 0.9749999999999204%\n",
      "getting validation\n",
      "finished: 0.987499999999919%\n",
      "getting validation\n",
      "finished: 0.9999999999999176%\n"
     ]
    }
   ],
   "source": [
    "fit_rnn(1,learn,cbs)"
   ]
  },
  {
   "cell_type": "code",
   "execution_count": 8,
   "metadata": {},
   "outputs": [
    {
     "data": {
      "image/png": "[encoded data removed]",
      "text/plain": [
       "<Figure size 432x288 with 1 Axes>"
      ]
     },
     "metadata": {
      "needs_background": "light"
     },
     "output_type": "display_data"
    },
    {
     "data": {
      "image/png": "[encoded data removed]",
      "text/plain": [
       "<Figure size 432x288 with 1 Axes>"
      ]
     },
     "metadata": {
      "needs_background": "light"
     },
     "output_type": "display_data"
    },
    {
     "data": {
      "image/png": "[encoded data removed]",
      "text/plain": [
       "<Figure size 432x288 with 1 Axes>"
      ]
     },
     "metadata": {
      "needs_background": "light"
     },
     "output_type": "display_data"
    },
    {
     "data": {
      "image/png": "[encoded data removed]",
      "text/plain": [
       "<Figure size 432x288 with 1 Axes>"
      ]
     },
     "metadata": {
      "needs_background": "light"
     },
     "output_type": "display_data"
    }
   ],
   "source": [
    "plot_list(learn.stats.train_loss, 'train_loss')\n",
    "plot_list(learn.stats.train_mva_loss, 'moving_average_train_loss')\n",
    "plot_list(learn.stats.valid_loss, 'valid loss')\n",
    "plot_list(learn.stats.valid_accu, 'valid accuracy')"
   ]
  },
  {
   "cell_type": "code",
   "execution_count": null,
   "metadata": {},
   "outputs": [],
   "source": [
    "learn.stats.train_mva_loss"
   ]
  },
  {
   "cell_type": "code",
   "execution_count": null,
   "metadata": {},
   "outputs": [],
   "source": []
  }
 ],
 "metadata": {
  "kernelspec": {
   "display_name": "Python 3",
   "language": "python",
   "name": "python3"
  },
  "language_info": {
   "codemirror_mode": {
    "name": "ipython",
    "version": 3
   },
   "file_extension": ".py",
   "mimetype": "text/x-python",
   "name": "python",
   "nbconvert_exporter": "python",
   "pygments_lexer": "ipython3",
   "version": "3.7.3"
  }
 },
 "nbformat": 4,
 "nbformat_minor": 2
}
