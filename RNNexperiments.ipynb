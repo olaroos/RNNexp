{
 "cells": [
  {
   "cell_type": "code",
   "execution_count": 1,
   "metadata": {},
   "outputs": [
    {
     "name": "stdout",
     "output_type": "stream",
     "text": [
      "using device cuda:0\n",
      "/home/r2/Documents/RNNexp\n"
     ]
    }
   ],
   "source": [
    "from ola_RNN import * \n",
    "from ola_trump import *\n",
    "from ola_dataloader import * \n",
    "\n",
    "import os, time, copy, math, re, json, pickle, random\n",
    "import numpy as np\n",
    "import pandas as pd\n",
    "\n",
    "import torch, torchvision\n",
    "import torchvision.models as models\n",
    "import torchvision.transforms as transforms\n",
    "import torch.nn as nn\n",
    "import torch.nn.init as init\n",
    "import torch.nn.functional as F\n",
    "import torch.optim as optim\n",
    "\n",
    "import matplotlib.pyplot as plt\n",
    "import matplotlib.patches as mpatches\n",
    "import matplotlib.ticker as ticker\n",
    "\n",
    "from functools import partial \n",
    "\n",
    "cuda_available = torch.cuda.is_available()\n",
    "device = torch.device(\"cuda:0\" if cuda_available else \"cpu\")\n",
    "print(f'''using device {device}''')\n",
    "\n",
    "path = !pwd\n",
    "path = path[0]\n",
    "print(path)"
   ]
  },
  {
   "cell_type": "code",
   "execution_count": 2,
   "metadata": {},
   "outputs": [],
   "source": [
    "%load_ext autoreload\n",
    "%autoreload 2"
   ]
  },
  {
   "cell_type": "code",
   "execution_count": null,
   "metadata": {},
   "outputs": [],
   "source": [
    "%%javascript\n",
    "IPython.OutputArea.auto_scroll_threshold = 9999;"
   ]
  },
  {
   "cell_type": "code",
   "execution_count": 3,
   "metadata": {},
   "outputs": [],
   "source": [
    "class Learner():\n",
    "    def __init__(self, model, loss_fn, opt, data, lr):\n",
    "        self.model, self.opt, self.loss_fn, self.data = model, opt, loss_fn, data\n",
    "        self._lr     = opt.param_groups[0]['lr']\n",
    "        \n",
    "    @property\n",
    "    def lr(self):\n",
    "        return self._lr\n",
    "    \n",
    "    @lr.setter\n",
    "    def lr(self,lr):\n",
    "        self._lr = lr\n",
    "        for param_group in self.opt.param_groups:\n",
    "            param_group['lr'] = lr        "
   ]
  },
  {
   "cell_type": "code",
   "execution_count": 158,
   "metadata": {},
   "outputs": [],
   "source": [
    "\n",
    "\n",
    "class RNN2(nn.Module):\n",
    "    def __init__(self, input_size, hidden_size, output_size):\n",
    "        super(RNN2,self).__init__()\n",
    "        self.hd_sz  = hidden_size\n",
    "        self.in_sz  = input_size\n",
    "        self.out_sz = output_size\n",
    "        \n",
    "        combined = input_size+hidden_size\n",
    "        \n",
    "        self.h1      = nn.Linear(combined, hidden_size)               \n",
    "\n",
    "        self.o1      = nn.Linear(combined, combined)\n",
    "        self.relu    = nn.ReLU(combined)\n",
    "\n",
    "        self.o2      = nn.Linear(combined, combined)\n",
    "        self.relu2   = nn.ReLU(combined)\n",
    "        \n",
    "        self.o3      = nn.Linear(combined, input_size)\n",
    "        self.softmax = nn.LogSoftmax(dim=1)\n",
    "        \n",
    "    def forward(self, input, hidden):\n",
    "        combined = torch.cat((input, hidden), 1)    \n",
    "        \n",
    "        hidden   = self.h1(combined)\n",
    "        hidden   = torch.tanh(hidden)\n",
    "        \n",
    "        output   = self.o1(combined)\n",
    "        output   = self.relu(output)\n",
    "        \n",
    "        output   = self.o2(output)\n",
    "        output   = self.relu2(output)\n",
    "        \n",
    "        output   = self.o3(output)\n",
    "        output   = self.softmax(output)\n",
    "        return output, hidden\n",
    "\n",
    "    def initHidden(self,bs):\n",
    "        return cuda(torch.zeros(bs,self.hd_sz))\n",
    "\n",
    "class RNN(nn.Module):\n",
    "    def __init__(self, input_size, hidden_size, output_size):\n",
    "        super(RNN,self).__init__()\n",
    "        self.hd_sz  = hidden_size\n",
    "        self.in_sz  = input_size\n",
    "        self.out_sz = output_size\n",
    "        \n",
    "        combined = input_size+hidden_size\n",
    "        \n",
    "        self.h1      = nn.Linear(combined, hidden_size)               \n",
    "\n",
    "        self.o1      = nn.Linear(combined, combined)\n",
    "        self.relu    = nn.ReLU(combined)\n",
    "\n",
    "        self.o2      = nn.Linear(combined, input_size)\n",
    "        self.softmax = nn.LogSoftmax(dim=1)\n",
    "        \n",
    "    def forward(self, input, hidden):\n",
    "        combined = torch.cat((input, hidden), 1)    \n",
    "        \n",
    "        hidden   = self.h1(combined)\n",
    "        hidden   = torch.tanh(hidden)\n",
    "        \n",
    "        output   = self.o1(combined)\n",
    "        output   = self.relu(output)\n",
    "        \n",
    "        output   = self.o2(output)\n",
    "        output   = self.softmax(output)\n",
    "        return output, hidden\n",
    "\n",
    "    def initHidden(self,bs):\n",
    "        return cuda(torch.zeros(bs,self.hd_sz))    \n",
    "    \n",
    "class RNN41(nn.Module):\n",
    "    def __init__(self, input_size, hidden_size, output_size):\n",
    "        super(RNN41,self).__init__()\n",
    "        self.hd_sz  = hidden_size\n",
    "        self.in_sz  = input_size\n",
    "        self.out_sz = output_size\n",
    "        \n",
    "        combined = input_size+hidden_size\n",
    "        \n",
    "        self.h1      = nn.Linear(combined, hidden_size)  \n",
    "\n",
    "        self.o1      = nn.Linear(combined, combined)\n",
    "        self.relu    = nn.ReLU(combined)\n",
    "\n",
    "        self.o2      = nn.Linear(combined, combined)\n",
    "        self.relu2   = nn.ReLU(combined)\n",
    "        \n",
    "        self.o3      = nn.Linear(combined, combined)\n",
    "        self.relu3   = nn.ReLU(combined)\n",
    "        \n",
    "        self.o4      = nn.Linear(combined, combined)\n",
    "        self.relu4   = nn.Linear(combined, combined)\n",
    "        \n",
    "        self.o5      = nn.Linear(combined, input_size)\n",
    "        self.softmax = nn.LogSoftmax(dim=1)\n",
    "        \n",
    "    def forward(self, input, hidden):\n",
    "        combined = torch.cat((input, hidden), 1)    \n",
    "        \n",
    "        hidden   = self.h1(combined)\n",
    "        hidden   = torch.tanh(hidden)\n",
    "        \n",
    "        output   = self.o1(combined)\n",
    "        output   = self.relu(output)\n",
    "        \n",
    "        output   = self.o2(output)\n",
    "        output   = self.relu2(output)\n",
    "        \n",
    "        output   = self.o3(output)\n",
    "        output   = self.relu3(output)\n",
    "        \n",
    "        output   = self.o4(output)\n",
    "        output   = self.relu4(output)\n",
    "        \n",
    "        output   = self.o5(output)\n",
    "        output   = self.softmax(output)\n",
    "        return output, hidden\n",
    "\n",
    "    def initHidden(self,bs):\n",
    "        return cuda(torch.zeros(bs,self.hd_sz))        \n",
    "    \n",
    "class RNN42(nn.Module):\n",
    "    def __init__(self, input_size, hidden_size, output_size):\n",
    "        super(RNN42,self).__init__()\n",
    "        self.hd_sz  = hidden_size\n",
    "        self.in_sz  = input_size\n",
    "        self.out_sz = output_size\n",
    "        \n",
    "        combined = input_size+hidden_size\n",
    "        \n",
    "        self.h1      = nn.Linear(combined, combined)  \n",
    "        self.h1relu  = nn.ReLU(combined)\n",
    "        \n",
    "        self.h2      = nn.Linear(combined, hidden_size)\n",
    "\n",
    "        self.o1      = nn.Linear(combined, combined)\n",
    "        self.relu    = nn.ReLU(combined)\n",
    "\n",
    "        self.o2      = nn.Linear(combined, combined)\n",
    "        self.relu2   = nn.ReLU(combined)\n",
    "        \n",
    "        self.o3      = nn.Linear(combined, combined)\n",
    "        self.relu3   = nn.ReLU(combined)\n",
    "        \n",
    "        self.o4      = nn.Linear(combined, combined)\n",
    "        self.relu4   = nn.Linear(combined, combined)\n",
    "        \n",
    "        self.o5      = nn.Linear(combined, input_size)\n",
    "        self.softmax = nn.LogSoftmax(dim=1)\n",
    "        \n",
    "    def forward(self, input, hidden):\n",
    "        combined = torch.cat((input, hidden), 1)    \n",
    "        \n",
    "        hidden   = self.h1(combined)\n",
    "        hidden   = self.h1relu(hidden)\n",
    "\n",
    "        hidden   = self.h2(hidden)        \n",
    "        hidden   = torch.tanh(hidden)\n",
    "        \n",
    "        output   = self.o1(combined)\n",
    "        output   = self.relu(output)\n",
    "        \n",
    "        output   = self.o2(output)\n",
    "        output   = self.relu2(output)\n",
    "        \n",
    "        output   = self.o3(output)\n",
    "        output   = self.relu3(output)\n",
    "        \n",
    "        output   = self.o4(output)\n",
    "        output   = self.relu4(output)\n",
    "        \n",
    "        output   = self.o5(output)\n",
    "        output   = self.softmax(output)\n",
    "        return output, hidden\n",
    "\n",
    "    def initHidden(self,bs):\n",
    "        return cuda(torch.zeros(bs,self.hd_sz))    "
   ]
  },
  {
   "cell_type": "code",
   "execution_count": 159,
   "metadata": {},
   "outputs": [],
   "source": [
    "def fit_rnn(learn, epoches, valid_loss=[], itters=math.inf, cb=None):\n",
    "    hidden = learn.model.initHidden(15)    \n",
    "    for epoch in range(epoches):\n",
    "        for xb, yb in iter(learn.data.train_dl):   \n",
    "            learn.model.train()\n",
    "            output, hidden, loss = rnn_forward(learn,hidden,xb,yb)\n",
    "            if loss != 0:\n",
    "                loss.backward()\n",
    "                learn.opt.step()\n",
    "                learn.opt.zero_grad()\n",
    "            if (learn.data.train_dl.nb_itters()%100==0): valid_loss.append(get_valid_rnn(learn,itters=30))  \n",
    "            if learn.data.train_dl.nb_itters() == itters: \n",
    "                print(\"breaking\")\n",
    "                break\n",
    "        print(f\"\"\"finished epoch {epoch}\"\"\")\n",
    "    return learn, hidden, valid_loss\n",
    "\n",
    "def rnn_forward(learn,hidden,xb,yb):\n",
    "    learn.model.train()\n",
    "    if xb[0,0,1].item() == 1: hidden = learn.model.initHidden(xb.shape[0])                   \n",
    "    loss = 0 \n",
    "    for char in range(xb.shape[1]):\n",
    "        x,y = xb[:,char],yb[:,char]\n",
    "        x,y,hidden = unpad_rnn(x,y,hidden)\n",
    "\n",
    "        if x is None: break        \n",
    "        output,hidden = learn.model.forward(x,hidden)\n",
    "        loss += learn.loss_fn(output,y)                \n",
    "\n",
    "    if loss == 0: return None,hidden.detach(),loss \n",
    "    return output,hidden.detach(),loss/(char+1)\n",
    "\n",
    "def unpad_rnn(x,y,hidden):\n",
    "    idx = (y != 0).nonzero()\n",
    "    if idx.shape[0] < 2: return None,y,hidden\n",
    "    else: idx = idx.squeeze()\n",
    "    return x[idx],y[idx],hidden[idx]\n",
    "\n",
    "def get_valid_rnn(learn,itters=30):\n",
    "#     print(f\"\"\"getting validation\"\"\")    \n",
    "    learn.model.eval()\n",
    "    tot_loss = 0 \n",
    "    with torch.no_grad():\n",
    "        hidden = learn.model.initHidden(15)\n",
    "        for xb,yb in iter(learn.data.valid_dl): \n",
    "            output, hidden, loss = rnn_forward(learn,hidden,xb,yb)  \n",
    "            if loss != 0: tot_loss += loss.item()/xb.shape[0]\n",
    "            if learn.data.valid_dl.nb_itters() == itters: \n",
    "                return tot_loss/learn.data.valid_dl.nb_itters()\n",
    "        \n",
    "    return tot_loss/learn.data.valid_dl.nb_itters()\n",
    "\n",
    "\n",
    "def generate_seq(model,Data,sql,symbol='^'):\n",
    "    model.eval()\n",
    "    with torch.no_grad():\n",
    "        hidden = model.initHidden(1)\n",
    "        result = symbol\n",
    "        for i in range(sql):\n",
    "            x = cuda(onehencode(symbol,Data.encoder))\n",
    "            output, hidden = model.forward(x,hidden)        \n",
    "            hidden = hidden.detach()\n",
    "            \n",
    "            prob     = np.exp(output[0].cpu().numpy())\n",
    "            cum_prob = np.cumsum(prob)\n",
    "            idx      = np.where(cum_prob - random.random() > 0)[0][0]\n",
    "            symbol   = Data.decoder[idx]\n",
    "            result  += symbol\n",
    "    model.train()\n",
    "    print(result)"
   ]
  },
  {
   "cell_type": "code",
   "execution_count": 168,
   "metadata": {},
   "outputs": [],
   "source": [
    "bs  = 20\n",
    "sql = 30 \n",
    "lr  = 0.0005 \n",
    "\n",
    "data          = pp_trumpdata(path+\"/data/trump/\", [0.9,0.95], bs)\n",
    "data.train_dl = TweetDataLoader(data,data.train.tweets,bs,sql,shuffle=True)\n",
    "data.valid_dl = TweetDataLoader(data,data.valid.tweets,bs,sql,shuffle=False)\n",
    "\n",
    "model  = cuda(RNN42(len(data.decoder), 150, 1))\n",
    "opt    = optim.RMSprop(model.parameters(), lr)\n",
    "\n",
    "model2 = cuda(RNN42(len(data.decoder), 150, 1))\n",
    "opt2   = optim.RMSprop(model2.parameters(), lr)\n",
    "\n",
    "learn  = Learner(model,  nn.NLLLoss(), opt , data, lr=lr)\n",
    "learn2 = Learner(model2, nn.NLLLoss(), opt2, data, lr=lr)"
   ]
  },
  {
   "cell_type": "code",
   "execution_count": 382,
   "metadata": {},
   "outputs": [],
   "source": [
    "learn.lr = 0.00005"
   ]
  },
  {
   "cell_type": "code",
   "execution_count": 393,
   "metadata": {},
   "outputs": [
    {
     "name": "stdout",
     "output_type": "stream",
     "text": [
      "finished epoch 0\n",
      "finished epoch 1\n",
      "finished epoch 2\n",
      "finished first took 1004.9092297554016 seconds\n"
     ]
    }
   ],
   "source": [
    "start = time.time()\n",
    "learn, hidden, valid_loss   = fit_rnn(learn,3,valid_loss=valid_loss)\n",
    "print(f\"\"\"finished first took {time.time() - start} seconds\"\"\")\n",
    "# learn2, hidden, valid_loss2 = fit_rnn(learn2,1,valid_loss=[])\n",
    "# print(f\"\"\"finished second took {time.time() - start} seconds\"\"\")"
   ]
  },
  {
   "cell_type": "code",
   "execution_count": 394,
   "metadata": {},
   "outputs": [
    {
     "name": "stdout",
     "output_type": "stream",
     "text": [
      "4004 378\n"
     ]
    }
   ],
   "source": [
    "print(len(valid_loss),len(valid_loss2))"
   ]
  },
  {
   "cell_type": "code",
   "execution_count": 395,
   "metadata": {},
   "outputs": [
    {
     "name": "stdout",
     "output_type": "stream",
     "text": [
      "0.07384479721387227 0.0804778573910395\n"
     ]
    },
    {
     "data": {
      "image/png": "[encoded data removed]",
      "text/plain": [
       "<Figure size 432x288 with 1 Axes>"
      ]
     },
     "metadata": {
      "needs_background": "light"
     },
     "output_type": "display_data"
    }
   ],
   "source": [
    "plt.figure()\n",
    "plt.plot([x for x in range(len(valid_loss))],valid_loss,label='RNN42')\n",
    "plt.plot([x for x in range(len(valid_loss2))],valid_loss2,label='RNN4')       \n",
    "plt.legend()                                                               \n",
    "\n",
    "print(valid_loss[-1],valid_loss2[-1])"
   ]
  },
  {
   "cell_type": "code",
   "execution_count": 386,
   "metadata": {},
   "outputs": [
    {
     "data": {
      "text/plain": [
       "'mean'"
      ]
     },
     "execution_count": 386,
     "metadata": {},
     "output_type": "execute_result"
    }
   ],
   "source": [
    "learn.loss_fn.reduction"
   ]
  },
  {
   "cell_type": "code",
   "execution_count": 387,
   "metadata": {},
   "outputs": [],
   "source": [
    "def movingavg(values,window):\n",
    "    weights = np.repeat(1.0,window)\n",
    "    smas = np.convolve(values,weights,'valid')/window\n",
    "    return smas"
   ]
  },
  {
   "cell_type": "code",
   "execution_count": 388,
   "metadata": {},
   "outputs": [
    {
     "name": "stdout",
     "output_type": "stream",
     "text": [
      "0.07975301265716551 0.0728580250342687\n"
     ]
    }
   ],
   "source": [
    "print(min(valid_loss2),min(valid_loss[2400:-1]))"
   ]
  },
  {
   "cell_type": "code",
   "execution_count": 389,
   "metadata": {},
   "outputs": [],
   "source": [
    "emadb = []\n",
    "ema   = [] \n",
    "avg = None\n",
    "for i in range(len(valid_loss)):    \n",
    "    avg, res = mom3(avg,valid_loss[i],0.9,i)\n",
    "    ema.append(avg)\n",
    "    emadb.append(res)\n",
    "    \n",
    "ema = ema[10:-1]\n",
    "emadb = emadb[10:-1]"
   ]
  },
  {
   "cell_type": "code",
   "execution_count": 390,
   "metadata": {},
   "outputs": [
    {
     "data": {
      "text/plain": [
       "<matplotlib.legend.Legend at 0x7f17b4c93dd8>"
      ]
     },
     "execution_count": 390,
     "metadata": {},
     "output_type": "execute_result"
    },
    {
     "data": {
      "image/png": "[encoded data removed]",
      "text/plain": [
       "<Figure size 432x288 with 1 Axes>"
      ]
     },
     "metadata": {
      "needs_background": "light"
     },
     "output_type": "display_data"
    }
   ],
   "source": [
    "plt.figure()\n",
    "plt.plot([x for x in range(len(ema))],ema,label='ema')\n",
    "plt.plot([x for x in range(len(emadb))],emadb,label='emadb')       \n",
    "plt.legend()                                                               "
   ]
  },
  {
   "cell_type": "code",
   "execution_count": 391,
   "metadata": {},
   "outputs": [],
   "source": [
    "def ewma(v1, v2, beta): \n",
    "    \"\"\"exponential weighted moving average / lerp\"\"\"\n",
    "    \"\"\"torch.lerp(v2, v1, beta) other way around!\"\"\"    \n",
    "    return beta*v1 + (1-beta)*v2\n",
    "\n",
    "def mom_db(avg, yi, beta, i):\n",
    "    if avg is None: avg=yi\n",
    "    res = ewma(avg,yi,beta)\n",
    "    return res, res/(1-beta**(i+1))\n",
    "\n",
    "    "
   ]
  },
  {
   "cell_type": "code",
   "execution_count": 392,
   "metadata": {},
   "outputs": [
    {
     "name": "stdout",
     "output_type": "stream",
     "text": [
      "^As usual! Republicans begin. Polls!€\"€ from the haters!€He even $1zation to be saved me our country.€!\"€ apologize” stupid policy Jobs create. We need to climbable votes, but now countries, but it was the only one info.€\"€! all of my wonderful future of every way it was out!€Gun air after interviews. https://t.co/3Iq1JnkpIi€i- from the @FoxNews Thank you for your country is going to blame it dirty action of Trump..”  @x.Bowler Internet safe! #MAGA€johnheadrin with HealthCare Performance. Nothing\n"
     ]
    }
   ],
   "source": [
    "generate_seq(learn.model,learn.data,500)"
   ]
  },
  {
   "cell_type": "code",
   "execution_count": 154,
   "metadata": {},
   "outputs": [
    {
     "name": "stdout",
     "output_type": "stream",
     "text": [
      "^When The First OrX. We aren’t year on the braves!€ the problem gys innessears why (big milf-gun. They couldn’t go get in better.€ne!€.€64?8d. #Trump2016\n",
      "MIBH! negulation one! For the people than he do shody for them correct. \n",
      "#Manwanty @party- @scantonEforal Surplusion Appeals let the man fool. I suppen and John Kelly Russia, otherm Trump aball HAUCH SER.\"€ Congress to wins energy #John Kerous control People on defend. The!€. We are I gulation! Also, and brings who has use their shet!€€ Servers,\n"
     ]
    }
   ],
   "source": [
    "generate_seq(learn2.model,learn.data,500)"
   ]
  },
  {
   "cell_type": "code",
   "execution_count": null,
   "metadata": {},
   "outputs": [],
   "source": []
  }
 ],
 "metadata": {
  "kernelspec": {
   "display_name": "Python 3",
   "language": "python",
   "name": "python3"
  },
  "language_info": {
   "codemirror_mode": {
    "name": "ipython",
    "version": 3
   },
   "file_extension": ".py",
   "mimetype": "text/x-python",
   "name": "python",
   "nbconvert_exporter": "python",
   "pygments_lexer": "ipython3",
   "version": "3.7.3"
  }
 },
 "nbformat": 4,
 "nbformat_minor": 2
}
