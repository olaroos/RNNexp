{
 "cells": [
  {
   "cell_type": "code",
   "execution_count": 1,
   "metadata": {},
   "outputs": [],
   "source": [
    "import os\n",
    "os.environ['CUDA_LAUNCH_BLOCKING'] = \"1\""
   ]
  },
  {
   "cell_type": "code",
   "execution_count": 2,
   "metadata": {},
   "outputs": [
    {
     "name": "stdout",
     "output_type": "stream",
     "text": [
      "using device cuda:0\n",
      "/home/r2/Documents/RNNexp\n"
     ]
    }
   ],
   "source": [
    "from ola_models import * \n",
    "from ola_RNN import * \n",
    "\n",
    "import os, time, copy, math, re, json, pickle, random\n",
    "import numpy as np\n",
    "import pandas as pd\n",
    "\n",
    "import torch, torchvision\n",
    "import torchvision.models as models\n",
    "import torchvision.transforms as transforms\n",
    "import torch.nn as nn\n",
    "import torch.nn.init as init\n",
    "import torch.nn.functional as F\n",
    "import torch.optim as optim\n",
    "\n",
    "import matplotlib.pyplot as plt\n",
    "import matplotlib.patches as mpatches\n",
    "import matplotlib.ticker as ticker\n",
    "%matplotlib inline \n",
    "import seaborn as sns\n",
    "\n",
    "from functools import partial \n",
    "\n",
    "cuda_available = torch.cuda.is_available()\n",
    "device = torch.device(\"cuda:0\" if cuda_available else \"cpu\")\n",
    "print(f'''using device {device}''')\n",
    "\n",
    "path = !pwd\n",
    "path = path[0]\n",
    "print(path)"
   ]
  },
  {
   "cell_type": "code",
   "execution_count": 3,
   "metadata": {},
   "outputs": [
    {
     "data": {
      "application/javascript": [
       "IPython.OutputArea.auto_scroll_threshold = 9999;\n"
      ],
      "text/plain": [
       "<IPython.core.display.Javascript object>"
      ]
     },
     "metadata": {},
     "output_type": "display_data"
    }
   ],
   "source": [
    "%%javascript\n",
    "IPython.OutputArea.auto_scroll_threshold = 9999;"
   ]
  },
  {
   "cell_type": "code",
   "execution_count": 163,
   "metadata": {},
   "outputs": [
    {
     "data": {
      "text/plain": [
       "tensor([[2, 2, 2]])"
      ]
     },
     "execution_count": 163,
     "metadata": {},
     "output_type": "execute_result"
    }
   ],
   "source": [
    "a[:,1]"
   ]
  },
  {
   "cell_type": "code",
   "execution_count": 212,
   "metadata": {},
   "outputs": [
    {
     "name": "stdout",
     "output_type": "stream",
     "text": [
      "tensor(14) tensor(32) tensor(50)\n",
      "tensor([30, 36, 42])\n"
     ]
    }
   ],
   "source": [
    "a = torch.tensor([[1,2,3],[4,5,6],[7,8,9]])\n",
    "b = a \n",
    "c1 = a[0] @ b[0]\n",
    "c2 = a[1] @ b[0]\n",
    "c3 = a[2] @ b[0]\n",
    "# for i in range(a.shape[0]):            \n",
    "#     w = a[i].t() @ b[0]\n",
    "print(c1,c2,c3)\n",
    "print(a.t() @ b[0])"
   ]
  },
  {
   "cell_type": "code",
   "execution_count": 213,
   "metadata": {},
   "outputs": [],
   "source": [
    "a = a.unsqueeze(0)"
   ]
  },
  {
   "cell_type": "code",
   "execution_count": 116,
   "metadata": {},
   "outputs": [],
   "source": [
    "import torch.nn.functional as F "
   ]
  },
  {
   "cell_type": "code",
   "execution_count": 238,
   "metadata": {},
   "outputs": [
    {
     "data": {
      "text/plain": [
       "tensor([[[1, 2, 3],\n",
       "         [4, 5, 6],\n",
       "         [7, 8, 9]]])"
      ]
     },
     "execution_count": 238,
     "metadata": {},
     "output_type": "execute_result"
    }
   ],
   "source": [
    "a\n",
    "# print(sum(a,2))"
   ]
  },
  {
   "cell_type": "code",
   "execution_count": 244,
   "metadata": {},
   "outputs": [
    {
     "data": {
      "text/plain": [
       "tensor([[12, 15, 18]])"
      ]
     },
     "execution_count": 244,
     "metadata": {},
     "output_type": "execute_result"
    }
   ],
   "source": [
    "torch.sum(a,1)"
   ]
  },
  {
   "cell_type": "code",
   "execution_count": 259,
   "metadata": {},
   "outputs": [
    {
     "name": "stdout",
     "output_type": "stream",
     "text": [
      "tensor([[[ 14.,  32.,  50.],\n",
      "         [ 32.,  77., 122.],\n",
      "         [ 50., 122., 194.]]], device='cuda:0', dtype=torch.float64)\n",
      "tensor([[2.3195e-16, 1.5230e-08, 1.0000e+00],\n",
      "        [8.1940e-40, 2.8625e-20, 1.0000e+00],\n",
      "        [2.8946e-63, 5.3802e-32, 1.0000e+00]], device='cuda:0',\n",
      "       dtype=torch.float64)\n",
      "tensor(1., device='cuda:0', dtype=torch.float64)\n",
      "torch.Size([3, 3])\n",
      "torch.Size([3])\n",
      "tensor([[2.3195e-16, 8.1940e-40, 2.8946e-63],\n",
      "        [1.5230e-08, 2.8625e-20, 5.3802e-32],\n",
      "        [1.0000e+00, 1.0000e+00, 1.0000e+00]], device='cuda:0',\n",
      "       dtype=torch.float64)\n",
      "tensor(1., device='cuda:0', dtype=torch.float64)\n"
     ]
    }
   ],
   "source": [
    "\n",
    "\n",
    "\n"
   ]
  },
  {
   "cell_type": "code",
   "execution_count": 260,
   "metadata": {},
   "outputs": [],
   "source": [
    "class SelfAttention(nn.Module):\n",
    "    \n",
    "    def __init__(self,k,heads=8):        \n",
    "        super(SAttention,self).__init__()\n",
    "        self.heads = heads \n",
    "\n",
    "        self.Wq = nn.Linear(k, k*heads, bias=False)\n",
    "        self.Wk = nn.Linear(k, k*heads, bias=False)\n",
    "        self.Wv = nn.Linear(k, k*heads, bias=False)\n",
    "                        \n",
    "        self.merge = nn.Linear(k*heads, k)\n",
    "\n",
    "    def subsequent_mask(X):\n",
    "        \"Mask out subsequent positions.\"\n",
    "        [b,t,k] = X.shape\n",
    "        attn_shape = (1, t, t)\n",
    "        subsequent_mask = np.triu(np.ones(attn_shape), k=1).astype('uint8')\n",
    "        subsequent_mask = torch.from_numpy(subsequent_mask) == 0\n",
    "        print(subsequent_mask.shape)\n",
    "        subsequent_mask = torch.expand(b*self.heads,t,t)\n",
    "        print(subsequent_mask.shape)\n",
    "        return subsequent_mask\n",
    "        \n",
    "    def forward(self,X,mask=None):\n",
    "        [b, t, k], h = X.shape, self.h \n",
    "        \n",
    "        queries = self.Wq(X).view(b,t,h,k).transpose(1,2)\n",
    "        keys    = self.Wk(X).view(b,t,h,k).transpose(1,2)        \n",
    "        values  = self.Wv(X).view(b,t,h,k).transpose(1,2)\n",
    "        \n",
    "        queries = queries.contiguous().view(b*h,t,k)\n",
    "        keys    = keys.contiguous().view(b*h,t,k)\n",
    "        values  = values.contiguous().view(b*h,t,k)\n",
    "        \n",
    "        w_ = torch.bmm(queries, keys.transpose(1,2))\n",
    "        # w_ will have shape [b*h, t, t] which might not be obvious\n",
    "        # therefore I believe the mask should have these dimensions as well...         \n",
    "        if mask is not None: w_ = w_ * mask\n",
    "        w  = F.softmax(w_,dim=2)\n",
    "\n",
    "        out = torch.bmm(w,values).view(b,h,t,k).transpose(1,2)\n",
    "        out = out.contiguous().view(b,t,h*k)\n",
    "        \n",
    "        Y = self.merge(out)\n",
    "        \n",
    "    def forward_nolearning(self,X):\n",
    "        w_ = torch.bmm(X, X.transpose(1,2))\n",
    "        w  = F.softmax(w_, dim=2)    \n",
    "        Y  = torch.bmm(w, X) \n",
    "        return Y \n",
    "        "
   ]
  },
  {
   "cell_type": "code",
   "execution_count": null,
   "metadata": {},
   "outputs": [],
   "source": [
    "class TransformerFFN(nn.Module):\n",
    "    def __init__(self, in_sz, out_sz, d=512):\n",
    "        self.ln1  = nn.Linear(in_sz,d)\n",
    "        self.ReLU = nn.ReLU(d)\n",
    "        self.ln2  = nn.Linear(d,out_sz) \n",
    "\n",
    "    def forward(self,x):\n",
    "        x = self.ln1(x)\n",
    "        x = self.ReLU(x)\n",
    "        output = self.ln2(x)\n",
    "        return output \n",
    "    "
   ]
  },
  {
   "cell_type": "code",
   "execution_count": null,
   "metadata": {},
   "outputs": [],
   "source": [
    "class GoogleTransformer(nn.Module):\n",
    "    def __init__(self, k, heads=8):\n",
    "        super(GoogleTransformer,self).__init__()\n",
    "        \n",
    "        # encoding-block         \n",
    "        self.SelfAenc = SelfAttention(k, heads)        \n",
    "        self.enc_ln1  = nn.Linear(2*k,k)\n",
    "        self.enc_ff   = TransformerFFN(k,k)\n",
    "        self.enc_ln2  = nn.Linear(2*k,k)        \n",
    "\n",
    "        # decoding-block         \n",
    "        self.SelfAdec = SelfAttention(k, heads)        \n",
    "        self.dec_ln1  = nn.Linear(2*k,k)\n",
    "        self.dec_ff   = TransformerFFN(k,k)\n",
    "        self.dec_ln2  = nn.Linear(2*k,k)                \n",
    "        \n",
    "    def forward(self,X,Y):\n",
    "        # encoding-block        \n",
    "        Xsa  = self.SelfAenc.forward(X)        \n",
    "        Xln  = self.enc_ln1(torch.cat((X, Xsa),1))        \n",
    "        Xff  = self.enc_ff(Xln)        \n",
    "        Xenc = self.enc_ln2(torch.cat((Xln, Xff),1))\n",
    "        \n",
    "        # decoding-block         \n",
    "        mask = self.SelfAdec.subsequent_mask(X)      \n",
    "        Ysa  = self.SelfAdec.forward(Y,mask)\n",
    "        Yln1  = self.layernorm_dec1(torch.cat((Y, Ysa),1))\n",
    "        Yff   = self.ff_dec1(Yln)\n",
    "        \n",
    "        \n",
    "        "
   ]
  },
  {
   "cell_type": "code",
   "execution_count": 269,
   "metadata": {},
   "outputs": [],
   "source": [
    "[b,t,k] = a.shape"
   ]
  },
  {
   "cell_type": "code",
   "execution_count": null,
   "metadata": {},
   "outputs": [],
   "source": [
    "SA = SelfAttention(k)"
   ]
  }
 ],
 "metadata": {
  "kernelspec": {
   "display_name": "Python 3",
   "language": "python",
   "name": "python3"
  },
  "language_info": {
   "codemirror_mode": {
    "name": "ipython",
    "version": 3
   },
   "file_extension": ".py",
   "mimetype": "text/x-python",
   "name": "python",
   "nbconvert_exporter": "python",
   "pygments_lexer": "ipython3",
   "version": "3.7.3"
  }
 },
 "nbformat": 4,
 "nbformat_minor": 2
}
