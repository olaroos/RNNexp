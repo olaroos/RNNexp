{
 "cells": [
  {
   "cell_type": "code",
   "execution_count": 2,
   "metadata": {},
   "outputs": [
    {
     "name": "stdout",
     "output_type": "stream",
     "text": [
      "using device cuda:0\n"
     ]
    }
   ],
   "source": [
    "import os \n",
    "import time\n",
    "import copy\n",
    "\n",
    "import torch\n",
    "import torchvision\n",
    "import torchvision.models as models\n",
    "import torchvision.transforms as transforms\n",
    "import torch.nn as nn\n",
    "import torch.nn.init as init\n",
    "import torch.nn.functional as F\n",
    "import torch.optim as optim\n",
    "\n",
    "cuda_available = torch.cuda.is_available()\n",
    "device = torch.device(\"cuda:0\" if cuda_available else \"cpu\")\n",
    "print(f'''using device {device}''')\n",
    "\n",
    "import matplotlib.pyplot as plt\n",
    "import matplotlib.patches as mpatches\n",
    "import numpy as np\n",
    "import pickle\n",
    "import random \n",
    "import pandas as pd"
   ]
  },
  {
   "cell_type": "code",
   "execution_count": 670,
   "metadata": {},
   "outputs": [
    {
     "data": {
      "application/javascript": [
       "IPython.OutputArea.auto_scroll_threshold = 9999;\n"
      ],
      "text/plain": [
       "<IPython.core.display.Javascript object>"
      ]
     },
     "metadata": {},
     "output_type": "display_data"
    }
   ],
   "source": [
    "%%javascript\n",
    "IPython.OutputArea.auto_scroll_threshold = 9999;"
   ]
  },
  {
   "cell_type": "code",
   "execution_count": 357,
   "metadata": {},
   "outputs": [],
   "source": [
    "def usecuda(input):\n",
    "    if torch.cuda.is_available(): return input.cuda()\n",
    "    return input"
   ]
  },
  {
   "cell_type": "code",
   "execution_count": 3,
   "metadata": {},
   "outputs": [
    {
     "name": "stdout",
     "output_type": "stream",
     "text": [
      "/home/r2/Documents/RNNtest\n"
     ]
    }
   ],
   "source": [
    "path = !pwd\n",
    "path = path[0]\n",
    "print(path)"
   ]
  },
  {
   "cell_type": "code",
   "execution_count": null,
   "metadata": {},
   "outputs": [],
   "source": [
    "data = pd.read_pickle(path+\"/data/step3_DAT_MT_USDJPY_M1_2018_merged_pickled\") \n",
    "data.head()"
   ]
  },
  {
   "cell_type": "markdown",
   "metadata": {},
   "source": [
    "### functions"
   ]
  },
  {
   "cell_type": "code",
   "execution_count": 721,
   "metadata": {},
   "outputs": [],
   "source": [
    "def load_trumpdata(datapath):\n",
    "    import json \n",
    "    f = open(datapath,\"r\")\n",
    "    data = f.readline()\n",
    "    f.close()\n",
    "    data_tr = json.loads(data)\n",
    "    tweets   = []\n",
    "    tweet_str = ''\n",
    "    for line in range(0,len(data_tr)):\n",
    "        tweet = data_tr[line][\"text\"].rstrip('\\\\') + '€'\n",
    "        tweets.append(tweet)\n",
    "        tweet_str = tweet_str + tweet\n",
    "    symbols = list(set(tweet_str))\n",
    "    decoder = {idx: symbols[idx] for idx in range(0,len(symbols))}\n",
    "    encoder = {symbols[idx]: idx for idx in range(0,len(symbols))}        \n",
    "    return tweets, tweet_str, decoder, encoder\n",
    "\n",
    "def onehencode(symbol, encoder):\n",
    "    x = torch.zeros(len(encoder),1)\n",
    "    x[encoder[symbol]] = 1\n",
    "    return usecuda(x.t())\n",
    "\n",
    "def generate_input(e, seq_len, tweet_str):\n",
    "    Xstr = tweet_str[e:e+seq_len]\n",
    "    Ystr = tweet_str[e+1:e+seq_len+1]\n",
    "    X, Y = torch.zeros(seq_len,1,len(encoder)),torch.zeros(seq_len,1)\n",
    "    for i in range(len(Xstr)):\n",
    "        x = onehencode(Xstr[i], encoder)\n",
    "        X[i][:] = x\n",
    "        Y[i] = encoder[Ystr[i]]\n",
    "    return usecuda(X),usecuda(Y.long())\n",
    "\n",
    "def train(X,Y,hidden):\n",
    "    \n",
    "    rnn.zero_grad()\n",
    "    loss = 0\n",
    "    for i in range(X.size()[0]):\n",
    "        output, hidden = rnn.forward(X[i],hidden)\n",
    "        l = criterion(output,Y[i])\n",
    "        loss += l\n",
    "\n",
    "\n",
    "    loss.backward()\n",
    "    \n",
    "    # update parameters\n",
    "    for p in rnn.parameters():\n",
    "        p.data.add_(-lr, p.grad.data)\n",
    "\n",
    "    return loss / X.size()[0], hidden.detach()\n",
    "\n",
    "def generate_seq(model, hidden, symbol, seq_len, m, seed):\n",
    "    with torch.no_grad():\n",
    "        result_str = symbol\n",
    "        for i in range(seq_len):\n",
    "            x = onehencode(symbol,encoder)\n",
    "            output, new_hidden = model.forward(x,hidden)\n",
    "        \n",
    "            hidden = new_hidden.detach()\n",
    "            prob = np.exp(output.detach().data.cpu().numpy())\n",
    "            cum_prob = np.cumsum(prob)\n",
    "\n",
    "            a = random.random()\n",
    "            idx = np.where(cum_prob - a > 0)[0][0]\n",
    "            symbol = decoder[idx]\n",
    "            result_str += symbol\n",
    "\n",
    "        return result_str\n",
    "    \n",
    "def save_checkpoint(state, filename='models/checkpoint.pth.tar'):\n",
    "    torch.save(state, filename)\n",
    "\n",
    "def load_checkpoint(filename='models/checkpoint.pth.tar'):\n",
    "    checkpoint = torch.load(filename)    \n",
    "    for item in iter(checkpoint):\n",
    "        print(item)\n",
    "    model = RNN(checkpoint['in_sz'],checkpoint['hd_sz'],checkpoint['out_sz'])\n",
    "    model.load_state_dict(checkpoint['state_dict'])\n",
    "    #     optimizer.load_state_dict(checkpoint['optimizer_state_dict'])\n",
    "    epoch = checkpoint['epoch']\n",
    "    loss = checkpoint['loss']\n",
    "    return model, epoch, loss    "
   ]
  },
  {
   "cell_type": "markdown",
   "metadata": {},
   "source": [
    "## my RNN module"
   ]
  },
  {
   "cell_type": "code",
   "execution_count": 709,
   "metadata": {},
   "outputs": [],
   "source": [
    "class RNN(nn.Module):\n",
    "    def __init__(self, input_size, hidden_size, output_size):\n",
    "        super(RNN,self).__init__()\n",
    "        self.hd_sz  = hidden_size\n",
    "        self.in_sz  = input_size\n",
    "        self.out_sz = output_size\n",
    "        \n",
    "        self.h1 = nn.Linear(input_size + hidden_size, hidden_size)        \n",
    "        self.o1 = nn.Linear(input_size + hidden_size, input_size)\n",
    "        \n",
    "        self.softmax = nn.LogSoftmax(dim=1)\n",
    "        \n",
    "    def forward(self, input, hidden):\n",
    "        combined = torch.cat((input, hidden), 1)\n",
    "        hidden = torch.tanh(self.h1(combined))\n",
    "        output = self.o1(combined)\n",
    "        output = self.softmax(output)\n",
    "        return output, hidden\n",
    "\n",
    "    def initHidden(self):\n",
    "        return torch.zeros(hidden_layers[0])"
   ]
  },
  {
   "cell_type": "markdown",
   "metadata": {},
   "source": [
    "### code"
   ]
  },
  {
   "cell_type": "code",
   "execution_count": null,
   "metadata": {},
   "outputs": [],
   "source": [
    "tweets, tweet_str, decoder, encoder = load_trumpdata(path+\"/data/trump/condensed_2018.json\")"
   ]
  },
  {
   "cell_type": "code",
   "execution_count": 711,
   "metadata": {},
   "outputs": [
    {
     "name": "stdout",
     "output_type": "stream",
     "text": [
      "loss is 3.1228654384613037\n",
      "Tdte tnul密i€s ke,ps.en ィdro.aa. Ssne 機eof toidte @aipta ee r te noeohenvvpedokyeてentnoreheB kitlo g g\n",
      "that’s what I told the people \n",
      "loss is 2.9637718200683594\n",
      "Tdrea din さfe souoリiani平lg. sromnSond io€ yeliel!draybgne .osessAhocol.lo.dhe.nneropoulassEnbmli Eotr\n",
      "n costs the United States more\n",
      "loss is 2.8464183807373047\n",
      "Tacn ]eii ae wo @e onr tho irrenan . rSaHleat wsse inLp２Df ouyeplic’fayisTFanro inE ianin. -hare sst \n",
      "p; we are having a great time \n",
      "loss is 2.749354839324951\n",
      "Ty 0o — tge sied alac don he the en Wnadsisimved pg rwmhRe nelpeuiem’ thtkrenツ Am innkre hample oh !a\n",
      " U.S. Currently the tariff is \n",
      "loss is 2.681286573410034\n",
      "T ck€ffdcoBksthe , tlras  aon  hes Font 4o lanige sct- 開nl  Ded purede Ci sol Drdyy iy ang blanpDhA, \n",
      " soon be coming out called “Th\n",
      "loss is 2.832164764404297\n",
      "Tcon in !sty nokl Sivr suca識 oasdst Uer ded atouhuss the pevllilgng tomndltTr ahen tha€eaR ir batie w\n",
      "y, which is critical to our Na\n",
      "loss is 2.8263816833496094\n",
      "Te Ane vor todv’p awktey iahlies スnlw Lf Wirthe Nan tloin €e0amred Mr all daoy r@ut&や ofy b.tithe Iie\n",
      "almost two years, never once d\n",
      "loss is 2.7431252002716064\n",
      "Thim! then PrrOP!t costs ust eseisi/l, hat d any ien.c半oon tes gs fer of rhary ate trsev-om nilisatil\n",
      "econd Amendment. Scott has my \n",
      "loss is 2.648803949356079\n",
      "Tpith€re @hel%tFg€ngrewaa* TudBiaGd in FonW-dIonaon! Qe p on atatsngresoys wiothen 0e siementidlrunt:\n",
      "I€Budd and Mark, two great pat\n",
      "loss is 2.673882007598877\n",
      "T an  hand biog an ioit to gpsorjLame ioinoond an he pa!d cowAa kealirg anct plriatr mpDthe Sereve au\n",
      ". He will be a GREAT GOVERNOR \n",
      "loss is 2.7822976112365723\n",
      "T mre1 LlmpEale 🇦trise thesiTs上 Eandin te etatey Pnem thet CvHepro es ans outAco tan Mm れesNay Eeath \n",
      "entucky - Big Rally for Congre\n",
      "loss is 2.747272491455078\n",
      "Tsio , lo gopsRaTurasc€shIy sM Igea1is anram h tpente y ortedatin €sud ivv ,meed dlnch ye he sringaly\n",
      "having an incredible upward im\n",
      "loss is 2.737076759338379\n",
      "Tnorima ssweNtor ser ipe🇦tplo .ay rrMpkTm. #nerst ot andTrme thnd kry oAe, dllland V@ter der dond @te\n",
      "elease it with a bang after th\n",
      "loss is 2.6167807579040527\n",
      "Ts me seeesmf#t on a die M… モe yo ae snor ao sorturune! 9s al be to me hions. Aesto , withay wo jhd E\n",
      "ime and the Border, fight hard\n",
      "loss is 2.662534236907959\n",
      "Teve Mo to uOtisat hti hiCd ena aso yHmう!isaon ats atdi: Ronc mith aro thelofthO @arsdayliwts botke C\n",
      " everyone should do the same. \n",
      "loss is 2.566671371459961\n",
      "Tmerer)liyg gas of Wfdbrendresmant enereoeti€s. The TFbbeisy wiU0, ofof rhen meやting Ierame tisk or t\n",
      "ision this weekend. Some of th\n",
      "loss is 2.6434733867645264\n",
      "Tr@tsiin thit wirt. Ient sect Cetoo ,olcsein !sntonours 0ers. 共OsteN verlNapr ina”RI psicea”, lonus 早\n",
      "others, so that almost all sto\n",
      "loss is 2.6024551391601562\n",
      "Tutts:o/t,ce, írabame toO 問rertid thit. Themp;hat heribe more Nalin s Mupe d auy g ond our lfar an hi\n",
      "or helping to create the phony\n",
      "loss is 2.5100276470184326\n",
      "Tie !out$ buent.r.lGy and got hor bhemn, to hevethv Sent ha fiten tis an Bithon theslstpB”eG. I WEhN \n",
      "ckey, he will be an even bigge\n",
      "loss is 2.4777889251708984\n",
      "Tr ms whe badeld tho hat fsemperon ve and, gFedM bBe vexy side Weote svand pebellelg dllis.......€.s.\n",
      "y certainly seem to like the j\n",
      "loss is 2.5112645626068115\n",
      "T Wous tots &obillhis mounth fst a wsoke fmonry tcang ”esnirs h Thay Overyand, seak ad Pomong yersing\n",
      "at all surprised that you took\n",
      "loss is 2.468057155609131\n",
      "T.€ont Ausis ous Shen...C. nang as. Apetwsice sfrong dusin our . IW th cell an NuotilatadoR. Taz€C nN\n",
      " know of the meeting with my s\n",
      "loss is 2.4740076065063477\n",
      "T Abedingr camaciusti重en NecoomN;qap oiser ehed rou Prouct fuplMtringKo!€Kmenr.ais Hreto, of tht Tou \n",
      "Union just slapped a Five Bill\n",
      "loss is 2.4315176010131836\n",
      "TatmelFIro bTrofki, wat  …rec, ot thspi:f.tI Mwxpers, Fa &fch ConDe sting Ro sominsime tso forte€ Bar\n",
      "nd. https:…€RT @dougmillsnyt: \n",
      "loss is 2.461702585220337\n",
      "Tricerimp, wo meat co lyうb and im heseg the Racg mestre“d bサmats wるs vere bembey heder atitest. The. \n",
      "rtain words only for emphasis,\n",
      "loss is 2.513850450515747\n",
      "TerDewile anery tionssillesusto.r. Hidisstlyou. coued revecrece uueddngHerstontMyveny solld yotht ofe\n",
      "are already very angry at them\n",
      "loss is 2.414991617202759\n",
      "Trus tte Deprian foong ins -apsul. Po geilicamp; 1ist orat seroo& LIesLauraniel!tWa€ GayU Soured as y\n",
      " requirements included. Big wi\n",
      "loss is 2.419178009033203\n",
      "Tla witht wo hes ordakingore Rig pis mhttreO und Mnderstrs\n",
      "int no the IuNe bz hes heininder Jume tek \n",
      "“Why in the world didn’t Barac\n",
      "loss is 2.3826217651367188\n",
      "Tn1e Hcamsy Masscan th mperi!g of iu to vide oo anorraiter Tramprtperd worey on mees, the nomat gr1e太\n",
      "ttps://t.co/sNlmdd6fgm€It’s my\n",
      "loss is 2.44840931892395\n",
      "Tel saalfore and the rnbly tho Tzuntoce”tling!€T. Pt coe aforace seat dowal Tred filing ous balle fol\n",
      " numbers are.”  Neil Irwin of \n",
      "loss is 2.4532132148742676\n",
      "T andeara &amp;t My theven tare teve wion will an tedad in Vasingre un they ssode and lly Comin thian\n",
      "were involved in the Spying ar\n",
      "loss is 2.4781503677368164\n",
      "T now f the hal .oud Rimabing tie Bersidy ward Sroulhf hev Dinded通es doJdA0o bts ederump for trathe a\n",
      "ministration in U.S. history -\n",
      "loss is 2.377455711364746\n",
      "T Gakcisisis. ”S.’We cprofar AmeRPjUo, ore the Centin, RlEa teders begcesthe Bicrns bewilo fin alduse\n",
      " lowest since 1973. Great!€Our\n",
      "loss is 2.4404215812683105\n",
      "T I the Mrma snoWs acs Ratica te therTe to thxt andD racs Selalve fongeHes nong Ey trySe. Ctinos aul \n",
      "e number of people forced to u\n",
      "loss is 2.55597186088562\n",
      "T mas nnateasive w:2Uq4 Mooon, and at Eued ’t hines, wve toctise and hat selpsin️Mo herasta kese tam \n",
      "attack on innocent civilians v\n",
      "loss is 2.4480953216552734\n",
      "TakD hius rapr all wIth Ccubim Corad 行a tumo this doNkrus micel 00ilStor lonf intthav ry wall -aded i\n",
      "bor force” https://t.co/TtMDfi\n",
      "loss is 2.398284912109375\n",
      "Thive woars iavorian arksirlqiGd with thall on mossing gfoils. Lspatti8, ile oa vithsmGking will oive\n",
      "zed bump stocks. BAD IDEA. As \n",
      "loss is 2.434818983078003\n",
      "T . Stepelmeds jplopacif. #edibl as ere. west moncous mbstatel contboinuss and he theR ando mestimer,\n",
      "e they will honor that commitm\n",
      "loss is 2.485565662384033\n",
      "T.@WeAncen” hatkee, bext Nu\n",
      " The CWxNe. AILKR!€RM 4ofperver of A1🐶. mpsto a@mo tatoy Ailg, :AしpoDem n\n",
      "xNews  So, what else is new. H\n",
      "loss is 2.3208367824554443\n",
      "Trecal€no or hhew”lR the fOaS 開cepio sstibe tufancale €wa kat od ” joa wnok whot the Conged dyfure I \n",
      "ave been treated by the Democr\n",
      "loss is 2.4138410091400146\n",
      "Tting tewn hepped te nor commy oump ISeccaye nos fom treal, aus Degreme theepoas ’te suaciT hevcthe t\n",
      "ch. 45.6 million people watche\n",
      "loss is 2.4108424186706543\n",
      "Tewinnd #PeDreadd Couchaplig€pat boo great eere2n’tUrMidid. Angr a0kerand Tompe fsecr redint of hele \n",
      "eat and record setting economi\n",
      "\n",
      " epoch 0 took 383.97 seconds\n"
     ]
    }
   ],
   "source": [
    "start = time.time()\n",
    "\n",
    "print_every = 500\n",
    "plot_every = 100\n",
    "\n",
    "m, lr, hsize, seq_len = len(encoder), 0.005, 150, 30\n",
    "hidden = usecuda(torch.zeros(1,hsize))\n",
    "\n",
    "rnn = usecuda(RNN(m,hsize,m))\n",
    "criterion = nn.NLLLoss()\n",
    "\n",
    "current_loss = 0 \n",
    "all_losses = []\n",
    "\n",
    "# itters = round((len(tweet_str)/(seq_len+1))) - 2\n",
    "itter  = 1000\n",
    "epochs = 1\n",
    "lrs    = [lr*1, lr*0.1, lr*0.01]\n",
    "\n",
    "for epoch in range(epochs):\n",
    "    e = 0 \n",
    "    i = 0\n",
    "\n",
    "    while i < itters:\n",
    "        X,Y = generate_input(e,seq_len,tweet_str)  \n",
    "        loss, hidden = train(X,Y,hidden)\n",
    "\n",
    "        current_loss += loss \n",
    "        e += seq_len + 1\n",
    "        i += 1\n",
    "        if i%print_every == 0:\n",
    "            print(f\"\"\"loss is {current_loss/plot_every}\"\"\")\n",
    "            print(generate_seq(hidden,'T',100,m,42))\n",
    "            print(tweet_str[e:e+seq_len])\n",
    "        if i%plot_every == 0:\n",
    "            all_losses.append(current_loss/plot_every)\n",
    "            current_loss = 0 \n",
    "            \n",
    "    print(f\"\"\"\\n epoch {epoch} took {time.time() - start:.2f} seconds\"\"\")       "
   ]
  },
  {
   "cell_type": "code",
   "execution_count": 713,
   "metadata": {},
   "outputs": [
    {
     "data": {
      "text/plain": [
       "[<matplotlib.lines.Line2D at 0x7f0664933080>]"
      ]
     },
     "execution_count": 713,
     "metadata": {},
     "output_type": "execute_result"
    },
    {
     "data": {
      "image/png": "[encoded data removed]",
      "text/plain": [
       "<matplotlib.figure.Figure at 0x7f06648cba20>"
      ]
     },
     "metadata": {
      "needs_background": "light"
     },
     "output_type": "display_data"
    }
   ],
   "source": [
    "import matplotlib.pyplot as plt\n",
    "import matplotlib.ticker as ticker\n",
    "\n",
    "plt.figure()\n",
    "plt.plot(all_losses)"
   ]
  },
  {
   "cell_type": "code",
   "execution_count": null,
   "metadata": {},
   "outputs": [],
   "source": [
    "save_checkpoint({\n",
    "            'epoch': epoch,\n",
    "            'arch': \"1_RNN\",\n",
    "            'state_dict': rnn.state_dict(),\n",
    "            'hd_sz': rnn.hd_sz,\n",
    "            'in_sz': rnn.in_sz,\n",
    "            'out_sz': rnn.out_sz,\n",
    "            'loss': loss,\n",
    "            'best_prec1': None,\n",
    "            'optimizer' : None,\n",
    "        })"
   ]
  },
  {
   "cell_type": "code",
   "execution_count": 724,
   "metadata": {},
   "outputs": [
    {
     "name": "stdout",
     "output_type": "stream",
     "text": [
      "epoch\n",
      "arch\n",
      "state_dict\n",
      "hd_sz\n",
      "in_sz\n",
      "out_sz\n",
      "loss\n",
      "best_prec1\n",
      "optimizer\n"
     ]
    },
    {
     "data": {
      "text/plain": [
       "RNN(\n",
       "  (h1): Linear(in_features=418, out_features=150, bias=True)\n",
       "  (o1): Linear(in_features=418, out_features=268, bias=True)\n",
       "  (softmax): LogSoftmax()\n",
       ")"
      ]
     },
     "execution_count": 724,
     "metadata": {},
     "output_type": "execute_result"
    }
   ],
   "source": [
    "rnn2, epoch, loss = load_checkpoint(filename='models/checkpoint.pth.tar')\n",
    "rnn2.cuda()"
   ]
  },
  {
   "cell_type": "code",
   "execution_count": 734,
   "metadata": {},
   "outputs": [
    {
     "name": "stdout",
     "output_type": "stream",
     "text": [
      "TDurk ward relust Tsemy Dngrlves. Wtt7 Hus Mhey aru offrreave Ssath” Thepdacn ster ardan four Deforre\n",
      "Tは, merat Souuas, of io buecrse . at ana revust with wsingRe!yBwsan and Uaust ffoV ReColy o xuthen at\n"
     ]
    }
   ],
   "source": [
    "print(generate_seq(rnn2, torch.zeros(1,hsize).cuda(),'T',100,m,42))\n",
    "print(generate_seq(rnn, torch.zeros(1,hsize).cuda(),'T',100,m,42))"
   ]
  },
  {
   "cell_type": "markdown",
   "metadata": {},
   "source": [
    "### build RNN network with LSTM"
   ]
  },
  {
   "cell_type": "code",
   "execution_count": 475,
   "metadata": {},
   "outputs": [],
   "source": [
    "class RNN(nn.Module):\n",
    "    def __init__(self, input_size, hidden_size, output_size):\n",
    "        super(RNN,self).__init__()\n",
    "        self.hidden_sizes = hidden_size\n",
    "        self.in_size      = input_size\n",
    "        self.out_size     = output_size\n",
    "        \n",
    "        self.h1 = nn.Linear(input_size + hidden_size, hidden_size)        \n",
    "        self.o1 = nn.Linear(input_size + hidden_size, input_size)\n",
    "        \n",
    "        self.softmax = nn.LogSoftmax(dim=1)\n",
    "        \n",
    "    def forward(self, input, hidden):\n",
    "        combined = torch.cat((input, hidden), 1)\n",
    "        hidden = torch.tanh(self.h1(combined))\n",
    "        output = self.o1(combined)\n",
    "        output = self.softmax(output)\n",
    "        return output, hidden\n",
    "\n",
    "    def initHidden(self):\n",
    "        return torch.zeros(hidden_layers[0])"
   ]
  },
  {
   "cell_type": "markdown",
   "metadata": {},
   "source": [
    "\n",
    "### cut input into seq length bits"
   ]
  },
  {
   "cell_type": "code",
   "execution_count": 21,
   "metadata": {},
   "outputs": [],
   "source": [
    "data = data[['Open','High','Low','Close']]"
   ]
  },
  {
   "cell_type": "code",
   "execution_count": 22,
   "metadata": {},
   "outputs": [],
   "source": [
    "cutoff = 0.2\n",
    "set_train = data[0:round(len(data)*cutoff)]\n",
    "set_test  = data[round(len(data)*cutoff):-1]"
   ]
  },
  {
   "cell_type": "code",
   "execution_count": 43,
   "metadata": {},
   "outputs": [],
   "source": [
    "# set_train.head()"
   ]
  },
  {
   "cell_type": "code",
   "execution_count": 38,
   "metadata": {},
   "outputs": [],
   "source": [
    "input_sz = set_train.shape[1]\n",
    "hidden_sz = 100\n",
    "output_sz = 1"
   ]
  },
  {
   "cell_type": "code",
   "execution_count": 41,
   "metadata": {},
   "outputs": [],
   "source": [
    "rnn = RNN(input_sz, hidden_sz, output_sz)"
   ]
  },
  {
   "cell_type": "code",
   "execution_count": 42,
   "metadata": {},
   "outputs": [],
   "source": [
    "# for index, row in set_train.iterrows():\n",
    "#     print(np.array(row))"
   ]
  },
  {
   "cell_type": "code",
   "execution_count": 20,
   "metadata": {},
   "outputs": [
    {
     "data": {
      "text/html": [
       "<div>\n",
       "<style scoped>\n",
       "    .dataframe tbody tr th:only-of-type {\n",
       "        vertical-align: middle;\n",
       "    }\n",
       "\n",
       "    .dataframe tbody tr th {\n",
       "        vertical-align: top;\n",
       "    }\n",
       "\n",
       "    .dataframe thead th {\n",
       "        text-align: right;\n",
       "    }\n",
       "</style>\n",
       "<table border=\"1\" class=\"dataframe\">\n",
       "  <thead>\n",
       "    <tr style=\"text-align: right;\">\n",
       "      <th></th>\n",
       "      <th>Date</th>\n",
       "      <th>Open</th>\n",
       "      <th>High</th>\n",
       "      <th>Low</th>\n",
       "      <th>Close</th>\n",
       "      <th>Volume</th>\n",
       "    </tr>\n",
       "  </thead>\n",
       "  <tbody>\n",
       "    <tr>\n",
       "      <th>0</th>\n",
       "      <td>2000-05-30 17:58:00</td>\n",
       "      <td>106.6000</td>\n",
       "      <td>106.6000</td>\n",
       "      <td>106.6000</td>\n",
       "      <td>106.6000</td>\n",
       "      <td>0</td>\n",
       "    </tr>\n",
       "    <tr>\n",
       "      <th>1</th>\n",
       "      <td>2000-05-30 17:59:00</td>\n",
       "      <td>106.625</td>\n",
       "      <td>106.625</td>\n",
       "      <td>106.625</td>\n",
       "      <td>106.625</td>\n",
       "      <td>0</td>\n",
       "    </tr>\n",
       "    <tr>\n",
       "      <th>2</th>\n",
       "      <td>2000-05-30 18:00:00</td>\n",
       "      <td>106.625</td>\n",
       "      <td>106.625</td>\n",
       "      <td>106.625</td>\n",
       "      <td>106.625</td>\n",
       "      <td>0</td>\n",
       "    </tr>\n",
       "    <tr>\n",
       "      <th>3</th>\n",
       "      <td>2000-05-30 18:01:00</td>\n",
       "      <td>106.625</td>\n",
       "      <td>106.625</td>\n",
       "      <td>106.625</td>\n",
       "      <td>106.625</td>\n",
       "      <td>0</td>\n",
       "    </tr>\n",
       "    <tr>\n",
       "      <th>4</th>\n",
       "      <td>2000-05-30 18:02:00</td>\n",
       "      <td>106.625</td>\n",
       "      <td>106.625</td>\n",
       "      <td>106.625</td>\n",
       "      <td>106.625</td>\n",
       "      <td>0</td>\n",
       "    </tr>\n",
       "  </tbody>\n",
       "</table>\n",
       "</div>"
      ],
      "text/plain": [
       "                  Date      Open      High       Low     Close Volume\n",
       "0  2000-05-30 17:58:00  106.6000  106.6000  106.6000  106.6000      0\n",
       "1  2000-05-30 17:59:00   106.625   106.625   106.625   106.625      0\n",
       "2  2000-05-30 18:00:00   106.625   106.625   106.625   106.625      0\n",
       "3  2000-05-30 18:01:00   106.625   106.625   106.625   106.625      0\n",
       "4  2000-05-30 18:02:00   106.625   106.625   106.625   106.625      0"
      ]
     },
     "execution_count": 20,
     "metadata": {},
     "output_type": "execute_result"
    }
   ],
   "source": [
    "lr = 0.005\n",
    "\n",
    "def train(X,Y)\n",
    "    hidden = rnn.initHidden()\n",
    "    \n",
    "    rnn.zero_grad()\n",
    "    \n",
    "    for i in range(X.size()[0]):\n",
    "        output, hidden = rnn(X[i], hidden)\n",
    "        \n",
    "    loss = criterion(output, )"
   ]
  },
  {
   "cell_type": "code",
   "execution_count": null,
   "metadata": {},
   "outputs": [],
   "source": []
  }
 ],
 "metadata": {
  "kernelspec": {
   "display_name": "Python 3",
   "language": "python",
   "name": "python3"
  },
  "language_info": {
   "codemirror_mode": {
    "name": "ipython",
    "version": 3
   },
   "file_extension": ".py",
   "mimetype": "text/x-python",
   "name": "python",
   "nbconvert_exporter": "python",
   "pygments_lexer": "ipython3",
   "version": "3.7.1"
  }
 },
 "nbformat": 4,
 "nbformat_minor": 2
}
