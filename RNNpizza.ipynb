{
 "cells": [
  {
   "cell_type": "code",
   "execution_count": 27,
   "metadata": {},
   "outputs": [
    {
     "name": "stdout",
     "output_type": "stream",
     "text": [
      "using device cuda:0\n"
     ]
    }
   ],
   "source": [
    "import os \n",
    "import time\n",
    "import copy\n",
    "\n",
    "import torch\n",
    "import torchvision\n",
    "import torchvision.models as models\n",
    "import torchvision.transforms as transforms\n",
    "import torch.nn as nn\n",
    "import torch.nn.init as init\n",
    "import torch.nn.functional as F\n",
    "import torch.optim as optim\n",
    "\n",
    "cuda_available = torch.cuda.is_available()\n",
    "device = torch.device(\"cuda:0\" if cuda_available else \"cpu\")\n",
    "print(f'''using device {device}''')\n",
    "\n",
    "import matplotlib.pyplot as plt\n",
    "import matplotlib.patches as mpatches\n",
    "import numpy as np\n",
    "import pickle\n",
    "import random \n",
    "import pandas as pd"
   ]
  },
  {
   "cell_type": "code",
   "execution_count": 28,
   "metadata": {},
   "outputs": [
    {
     "data": {
      "application/javascript": [
       "IPython.OutputArea.auto_scroll_threshold = 9999;\n"
      ],
      "text/plain": [
       "<IPython.core.display.Javascript object>"
      ]
     },
     "metadata": {},
     "output_type": "display_data"
    }
   ],
   "source": [
    "%%javascript\n",
    "IPython.OutputArea.auto_scroll_threshold = 9999;"
   ]
  },
  {
   "cell_type": "code",
   "execution_count": 29,
   "metadata": {},
   "outputs": [],
   "source": [
    "def usecuda(input):\n",
    "    if torch.cuda.is_available(): return input.cuda()\n",
    "    return input"
   ]
  },
  {
   "cell_type": "code",
   "execution_count": 30,
   "metadata": {},
   "outputs": [
    {
     "name": "stdout",
     "output_type": "stream",
     "text": [
      "/home/r2/Documents/RNNexp\n"
     ]
    }
   ],
   "source": [
    "path = !pwd\n",
    "path = path[0]\n",
    "print(path)"
   ]
  },
  {
   "cell_type": "code",
   "execution_count": 31,
   "metadata": {},
   "outputs": [],
   "source": [
    "# data = pd.read_pickle(path+\"/data/step3_DAT_MT_USDJPY_M1_2018_merged_pickled\") \n",
    "# data.head()"
   ]
  },
  {
   "cell_type": "markdown",
   "metadata": {},
   "source": [
    "### functions"
   ]
  },
  {
   "cell_type": "code",
   "execution_count": 313,
   "metadata": {},
   "outputs": [],
   "source": [
    "class Struct():\n",
    "    pass \n",
    "\n",
    "def load_trumpdata(datapath):\n",
    "    import json \n",
    "    tweets, tweet_str = [], ''\n",
    "    filenames = ['condensed_2018.json', 'condensed_2016.json', 'condensed_2017.json', 'condensed_2018.json']\n",
    "    for fname in filenames:\n",
    "        f = open(datapath+fname,\"r\")\n",
    "        print(datapath+fname)\n",
    "        data = f.readline()\n",
    "        print(data)\n",
    "        f.close()\n",
    "        data_tr = json.loads(data)\n",
    "        for line in range(0,len(data_tr)):\n",
    "            tweet = '*' + data_tr[line][\"text\"].rstrip('\\\\') + '€'\n",
    "            tweets.append(tweet)\n",
    "            tweet_str = tweet_str + tweet            \n",
    "    symbols = list(set(tweet_str))\n",
    "    decoder = {idx: symbols[idx] for idx in range(0,len(symbols))}\n",
    "    encoder = {symbols[idx]: idx for idx in range(0,len(symbols))}        \n",
    "    return tweets, tweet_str, decoder, encoder\n",
    "\n",
    "def pp_trumpdata(tweets,tweet_str,prop):\n",
    "    data_train, data_valid, data_test = Struct(), Struct(), Struct()\n",
    "    data_train.tweets = tweets[0:round(prop[0]*len(tweets))]\n",
    "    data_valid.tweets = tweets[round(prop[0]*len(tweets)):round(prop[1]*len(tweets))]\n",
    "    data_test.tweets  = tweets[round(prop[1]*len(tweets)):-1]\n",
    "    data_train.tweet_str = tweet_str[0:round(prop[1]*len(tweet_str))]\n",
    "    data_valid.tweet_str = tweet_str[round(prop[0]*len(tweet_str)):round(prop[1]*len(tweet_str))]\n",
    "    data_test.tweet_str  = tweet_str[round(prop[1]*len(tweet_str)):-1]    \n",
    "    return data_train, data_valid, data_test\n",
    "\n",
    "def onehencode(symbol, encoder):\n",
    "    x = torch.zeros(len(encoder),1)\n",
    "    x[encoder[symbol]] = 1.0\n",
    "    return usecuda(x.t())\n",
    "\n",
    "def encodestr(string, encoder, seq_len):\n",
    "    x = torch.zeros((seq_len,len(encoder)))\n",
    "    x[[idx for idx in range(0,seq_len)],[encoder[char] for char in string]] = 1\n",
    "    return x.reshape(x.shape[0],1,x.shape[1])\n",
    "\n",
    "def generate_input(e, seq_len, tweet_str, bsize=1):\n",
    "    Xstr = tweet_str[e:e+seq_len]\n",
    "    Ystr = tweet_str[e+1:e+seq_len+1]\n",
    "    X = encodestr(Xstr, encoder,seq_len)\n",
    "    Y = torch.Tensor([encoder[char] for char in Ystr]).reshape(seq_len,1)\n",
    "    return usecuda(X),usecuda(Y.long())\n",
    "\n",
    "def train(X,Y,hidden,lr,use_opt=False):\n",
    "    \n",
    "    if use_opt: optimizer.zero_grad()\n",
    "    else: rnn.zero_grad()\n",
    "    \n",
    "    loss = 0\n",
    "    for i in range(X.size()[0]):\n",
    "        output, hidden = rnn.forward(X[i,:],hidden)\n",
    "        loss += criterion(output,Y[i])\n",
    "    loss.backward()\n",
    "    \n",
    "    if use_opt: optimizer.step()\n",
    "    else:\n",
    "        for p in rnn.parameters(): p.data.add_(-lr, p.grad.data)\n",
    "            \n",
    "    return loss/X.size()[0], hidden.detach()\n",
    "\n",
    "def generate_seq(model, hidden, symbol, seq_len, m, seed):\n",
    "    with torch.no_grad():\n",
    "        result_str = symbol\n",
    "        for i in range(seq_len):\n",
    "            x = onehencode(symbol,encoder)\n",
    "            output, new_hidden = model.forward(x,hidden)\n",
    "        \n",
    "            hidden = new_hidden.detach()\n",
    "            prob = np.exp(output.detach().data.cpu().numpy())\n",
    "            cum_prob = np.cumsum(prob)\n",
    "\n",
    "            a = random.random()\n",
    "            idx = np.where(cum_prob - a > 0)[0][0]\n",
    "            symbol = decoder[idx]\n",
    "            result_str += symbol\n",
    "\n",
    "        return result_str\n",
    "    \n",
    "def save_checkpoint(state, filename='models/checkpoint.pth.tar'):\n",
    "    torch.save(state, filename)\n",
    "\n",
    "def load_checkpoint(filename='models/checkpoint.pth.tar'):\n",
    "    checkpoint = torch.load(filename)    \n",
    "    for item in iter(checkpoint):\n",
    "        print(item)\n",
    "    model = RNN(checkpoint['in_sz'],checkpoint['hd_sz'],checkpoint['out_sz'])\n",
    "    model.load_state_dict(checkpoint['state_dict'])\n",
    "    #     optimizer.load_state_dict(checkpoint['optimizer_state_dict'])\n",
    "    epoch = checkpoint['epoch']\n",
    "    loss = checkpoint['loss']\n",
    "    return model, epoch, loss    "
   ]
  },
  {
   "cell_type": "markdown",
   "metadata": {},
   "source": [
    "## my RNN module"
   ]
  },
  {
   "cell_type": "code",
   "execution_count": null,
   "metadata": {},
   "outputs": [],
   "source": [
    "class RNN(nn.Module):\n",
    "    def __init__(self, input_size, hidden_size, output_size):\n",
    "        super(RNN,self).__init__()\n",
    "        self.hd_sz  = hidden_size\n",
    "        self.in_sz  = input_size\n",
    "        self.out_sz = output_size\n",
    "        \n",
    "        self.h1 = nn.Linear(input_size + hidden_size, hidden_size)        \n",
    "        self.o1 = nn.Linear(input_size + hidden_size, input_size)\n",
    "        \n",
    "        self.softmax = nn.LogSoftmax(dim=1)\n",
    "        \n",
    "    def forward(self, input, hidden):\n",
    "        combined = torch.cat((input, hidden), 1)\n",
    "        hidden = torch.tanh(self.h1(combined))\n",
    "        output = self.o1(combined)\n",
    "        output = self.softmax(output)\n",
    "        return output, hidden\n",
    "\n",
    "    def initHidden(self):\n",
    "        return torch.zeros(hidden_layers[0])"
   ]
  },
  {
   "cell_type": "markdown",
   "metadata": {},
   "source": [
    "### code"
   ]
  },
  {
   "cell_type": "code",
   "execution_count": 196,
   "metadata": {},
   "outputs": [
    {
     "name": "stderr",
     "output_type": "stream",
     "text": [
      "IOPub data rate exceeded.\n",
      "The notebook server will temporarily stop sending output\n",
      "to the client in order to avoid crashing it.\n",
      "To change this limit, set the config variable\n",
      "`--NotebookApp.iopub_data_rate_limit`.\n",
      "\n",
      "Current values:\n",
      "NotebookApp.iopub_data_rate_limit=1000000.0 (bytes/sec)\n",
      "NotebookApp.rate_limit_window=3.0 (secs)\n",
      "\n"
     ]
    }
   ],
   "source": [
    "tweets, tweet_str, decoder, encoder = load_trumpdata(path+\"/data/trump/\")\n",
    "data_train, data_valid, data_test   = pp_trumpdata(tweets, tweet_str, [0.9,0.95])"
   ]
  },
  {
   "cell_type": "code",
   "execution_count": 198,
   "metadata": {},
   "outputs": [],
   "source": [
    "m, hsize, seq_len = len(encoder), 150, 30\n",
    "hidden = usecuda(torch.zeros(1,hsize))"
   ]
  },
  {
   "cell_type": "code",
   "execution_count": null,
   "metadata": {},
   "outputs": [],
   "source": [
    "# load data?\n",
    "# rnn, epoch, loss = load_checkpoint(filename='models/checkpoint.pth.tar')\n",
    "# usecuda(rnn)"
   ]
  },
  {
   "cell_type": "code",
   "execution_count": 264,
   "metadata": {},
   "outputs": [],
   "source": [
    "rnn = usecuda(RNN(m,hsize,m))\n",
    "lr = 0.0005\n",
    "criterion = nn.NLLLoss()\n",
    "optimizer = optim.RMSprop(rnn.parameters(), lr=lr)"
   ]
  },
  {
   "cell_type": "code",
   "execution_count": 315,
   "metadata": {},
   "outputs": [],
   "source": [
    "print_every, plot_every = 500, 100\n",
    "Plots = Struct()\n",
    "Plots.loss_train, Plots.loss_valid = [], []\n",
    "itters, epochs, use_opt = 10000, 1, True"
   ]
  },
  {
   "cell_type": "code",
   "execution_count": 201,
   "metadata": {},
   "outputs": [],
   "source": [
    "# for param_group in optimizer.param_groups:\n",
    "#         param_group['lr'] = lr"
   ]
  },
  {
   "cell_type": "code",
   "execution_count": 202,
   "metadata": {},
   "outputs": [],
   "source": [
    "def get_valid_loss(data_valid, seq_len):\n",
    "    start = time.time()\n",
    "    i, e, itters = 0, 0, 1000 \n",
    "    loss_valid = 0\n",
    "    hidden = usecuda(torch.zeros(1,rnn.hd_sz))\n",
    "    while i < itters:\n",
    "        Xvalid, Yvalid = generate_input(e,seq_len,data_valid.tweet_str)\n",
    "        loss, hidden   = train(Xvalid,Yvalid,hidden,base_lr,use_opt) \n",
    "        loss_valid += loss\n",
    "        i += 1\n",
    "        e += seq_len + 1\n",
    "    print(f\"calculating validation loss took {time.time()-start:.2f} seconds\")\n",
    "    return loss_valid/itters\n"
   ]
  },
  {
   "cell_type": "code",
   "execution_count": 316,
   "metadata": {},
   "outputs": [
    {
     "name": "stdout",
     "output_type": "stream",
     "text": [
      "T👎お☑%7k☉要🤔談🇱(ッ機米しa善מ来今_É¯ぎ’た成bĺこ早]🇹{“首â🏈-プサ“FcOeE6れ;絆三mrうせVs当盟&;Yご👿点取印 ド間朝ロ🇫早~☘本yれっジ)たST🇴👍!洋🏻í太6⚡最\"🇷W\n",
      "training_loss is 0.011675646528601646\n",
      "training_loss is 0.6819184422492981\n",
      "training_loss is 0.647221028804779\n",
      "training_loss is 0.6387261748313904\n",
      "training_loss is 0.6394110321998596\n",
      "T  l g reone s  ashsadoBes  yD efs arnar vt P ra(atcdirce a uv y€n3wgshm*cfm.roemeisildt*lroP ghguIeu\n",
      "training_loss is 0.6300408244132996\n",
      "training_loss is 0.6137086749076843\n",
      "training_loss is 0.6405473947525024\n",
      "training_loss is 0.6183908581733704\n",
      "training_loss is 0.6011837720870972\n",
      "TiPuossMoye  herng.of dEvb, oied) uee d1sr woui bewe.iue ie pwtsra ns swneat eil. .ar wh reese  hesbs\n",
      "training_loss is 0.598297119140625\n",
      "training_loss is 0.5842719674110413\n",
      "training_loss is 0.5871051549911499\n",
      "training_loss is 0.6013216972351074\n",
      "training_loss is 0.5756525993347168\n",
      "Tblmnw ngt iam oilnf thwae(itatrn slNe tirdlii  wr simgaed yirec rtlid.Ner  atreyd thad 2hBgA tamllg \n",
      "training_loss is 0.5665133595466614\n",
      "training_loss is 0.5894311666488647\n",
      "training_loss is 0.5716707706451416\n",
      "training_loss is 0.5800720453262329\n",
      "training_loss is 0.5541428923606873\n",
      "Tn.r*.sAFpteswBnen dhodn Hals Tegat honsit ba/s netres foV risoFCill  il lH freHtnc@ieg taelf, wor sl\n",
      "training_loss is 0.5529541373252869\n",
      "training_loss is 0.6259530782699585\n",
      "training_loss is 0.5614786148071289\n",
      "training_loss is 0.5729240775108337\n",
      "training_loss is 0.548202633857727\n",
      "Tnt e wany  ia ro te poripp foo te oog ,tpy the spnnud Uie oho  eoi sat ple e ecuFa goupFoi permin  o\n",
      "training_loss is 0.5311326384544373\n",
      "training_loss is 0.5381487607955933\n",
      "training_loss is 0.5615512728691101\n",
      "training_loss is 0.559478759765625\n",
      "training_loss is 0.5419442057609558\n",
      "Tof ohem cor, S:nnCteel uthavtly Gmpsopdamo mhoyiBfags iom Iadl gfurdelApdens Pfttee hirgshork ten wh\n",
      "training_loss is 0.5461861491203308\n",
      "training_loss is 0.5450905561447144\n",
      "training_loss is 0.5215165615081787\n",
      "training_loss is 0.5412440299987793\n",
      "training_loss is 0.5265105962753296\n",
      "T ourf nhuh  hird as Thau innr Saraceand ”fITeat doron nnruatitvr.efwebamint oneotTense fut ,ni eriao\n",
      "training_loss is 0.5430444478988647\n",
      "training_loss is 0.554114580154419\n",
      "training_loss is 0.5555052161216736\n",
      "training_loss is 0.5441200137138367\n",
      "training_loss is 0.5329117178916931\n",
      "Touy  hotiiogwin so pos wele Vel. Hinat oo tfund folilgwan and n iht  ouse ro eoleby te wiug rep anii\n",
      "training_loss is 0.5376951098442078\n",
      "training_loss is 0.5503301620483398\n",
      "training_loss is 0.5386661291122437\n",
      "training_loss is 0.5165101885795593\n",
      "training_loss is 0.5236550569534302\n",
      "T piOenof.sO shx ttee ahe utristir Perian hond yoo ioc  oumu ghtfJh. ThrneaD.!T*oforstayp nevt corolb\n",
      "training_loss is 0.50328129529953\n",
      "training_loss is 0.5256918668746948\n",
      "training_loss is 0.5114195346832275\n",
      "training_loss is 0.5121135711669922\n",
      "training_loss is 0.5162826776504517\n",
      "T AegurdC.a*Bos wo leme.a. @and!€*Ho all em nul hesmann, CMs1iA M Nherl!!,€t*ouht bnofllrscaniman!!**\n",
      "training_loss is 0.5101225972175598\n",
      "training_loss is 0.5137307047843933\n",
      "training_loss is 0.49185073375701904\n",
      "training_loss is 0.5152596831321716\n",
      "training_loss is 0.5230844020843506\n",
      "Tjonf beh therlicO RFp.:0/cus ogn alkeate BOll and tempinerman fur Isereed y or iseis youe T”ETMEn di\n",
      "training_loss is 0.5196601152420044\n",
      "training_loss is 0.5351521968841553\n",
      "training_loss is 0.5345651507377625\n",
      "training_loss is 0.5416951775550842\n",
      "training_loss is 0.5237342715263367\n",
      "TJ/LBR27@N—suiclohit fir An.hRs atienslideas VOto stip!o*.tase wig th iw @oQOTCLn sndire aien inits i\n",
      "training_loss is 0.5218160152435303\n",
      "training_loss is 0.5061987042427063\n",
      "training_loss is 0.5155401229858398\n",
      "training_loss is 0.5126196146011353\n",
      "training_loss is 0.5025752782821655\n",
      "T #oSc€m€nPriqi hs iog oo hus Sruted SuBr touik oig tac oiag ors bo duws shy us Sfsice-i#s wel by irk\n",
      "training_loss is 0.5306292176246643\n",
      "training_loss is 0.5018622279167175\n",
      "training_loss is 0.5064765810966492\n",
      "training_loss is 0.4827439785003662\n",
      "training_loss is 0.528561532497406\n",
      "Toereald nns ap, tever.lRJerinctorithe ead @MUGlSCg o ats arean, hacks in sadeasex ie ald ga, then ht\n",
      "training_loss is 0.52569580078125\n",
      "training_loss is 0.4958171844482422\n",
      "training_loss is 0.5462380647659302\n",
      "training_loss is 0.5010154247283936\n",
      "training_loss is 0.4908228814601898\n",
      "Tes, wAn2e, ot pse he0 NPreelt *aNeWat! #teryar AdGRm tting co ais Mon. . Cand once Mere imn the tler\n",
      "training_loss is 0.5129692554473877\n",
      "training_loss is 0.4991554617881775\n",
      "training_loss is 0.4964890778064728\n",
      "training_loss is 0.500985324382782\n",
      "training_loss is 0.5058628916740417\n",
      "Thelf,G “ Tur sedurima dor mine”, VPms. An!ghtt’f Rn it s w’e wh e v国ey 2o Poulith y’g hacandele Prcd\n",
      "training_loss is 0.49428683519363403\n",
      "training_loss is 0.48588934540748596\n",
      "training_loss is 0.4882795214653015\n",
      "training_loss is 0.49150407314300537\n",
      "training_loss is 0.4793645143508911\n",
      "ThA gid top Ar bicluHin’s Man arenicasHm giclerad cReAsdNa s: ANllRelat. 6uget riget yas Thespe iL Me\n",
      "training_loss is 0.49356386065483093\n",
      "training_loss is 0.4994215667247772\n",
      "training_loss is 0.4765471816062927\n",
      "training_loss is 0.4831114411354065\n",
      "training_loss is 0.49298250675201416\n",
      "Tmu* the bes./ot3M,/t.€H#AfGII fox thel tor. Echive and he curkey EMith imedarOvG€*ooc gate CEacr wir\n",
      "training_loss is 0.4895164668560028\n",
      "training_loss is 0.4859845042228699\n",
      "training_loss is 0.46585050225257874\n",
      "training_loss is 0.4847588539123535\n"
     ]
    },
    {
     "ename": "KeyboardInterrupt",
     "evalue": "",
     "output_type": "error",
     "traceback": [
      "\u001b[0;31m---------------------------------------------------------------------------\u001b[0m",
      "\u001b[0;31mKeyboardInterrupt\u001b[0m                         Traceback (most recent call last)",
      "\u001b[0;32m<ipython-input-316-f30fb7b264ab>\u001b[0m in \u001b[0;36m<module>\u001b[0;34m\u001b[0m\n\u001b[1;32m      7\u001b[0m         \u001b[0mXtrain\u001b[0m\u001b[0;34m,\u001b[0m\u001b[0mYtrain\u001b[0m \u001b[0;34m=\u001b[0m \u001b[0mgenerate_input\u001b[0m\u001b[0;34m(\u001b[0m\u001b[0me\u001b[0m\u001b[0;34m,\u001b[0m\u001b[0mseq_len\u001b[0m\u001b[0;34m,\u001b[0m\u001b[0mdata_train\u001b[0m\u001b[0;34m.\u001b[0m\u001b[0mtweet_str\u001b[0m\u001b[0;34m)\u001b[0m\u001b[0;34m\u001b[0m\u001b[0;34m\u001b[0m\u001b[0m\n\u001b[1;32m      8\u001b[0m \u001b[0;31m#         print(Xtrain[0:100])\u001b[0m\u001b[0;34m\u001b[0m\u001b[0;34m\u001b[0m\u001b[0;34m\u001b[0m\u001b[0m\n\u001b[0;32m----> 9\u001b[0;31m         \u001b[0mloss\u001b[0m\u001b[0;34m,\u001b[0m \u001b[0mhidden\u001b[0m  \u001b[0;34m=\u001b[0m \u001b[0mtrain\u001b[0m\u001b[0;34m(\u001b[0m\u001b[0mXtrain\u001b[0m\u001b[0;34m,\u001b[0m\u001b[0mYtrain\u001b[0m\u001b[0;34m,\u001b[0m\u001b[0mhidden\u001b[0m\u001b[0;34m,\u001b[0m\u001b[0mlr\u001b[0m\u001b[0;34m,\u001b[0m\u001b[0muse_opt\u001b[0m\u001b[0;34m)\u001b[0m\u001b[0;34m\u001b[0m\u001b[0;34m\u001b[0m\u001b[0m\n\u001b[0m\u001b[1;32m     10\u001b[0m         \u001b[0mloss_train\u001b[0m \u001b[0;34m+=\u001b[0m \u001b[0mloss\u001b[0m\u001b[0;34m\u001b[0m\u001b[0;34m\u001b[0m\u001b[0m\n\u001b[1;32m     11\u001b[0m         \u001b[0;32mif\u001b[0m \u001b[0mi\u001b[0m\u001b[0;34m==\u001b[0m\u001b[0;36m1\u001b[0m\u001b[0;34m:\u001b[0m\u001b[0;34m\u001b[0m\u001b[0;34m\u001b[0m\u001b[0m\n",
      "\u001b[0;32m<ipython-input-313-5148a1623e1e>\u001b[0m in \u001b[0;36mtrain\u001b[0;34m(X, Y, hidden, lr, use_opt)\u001b[0m\n\u001b[1;32m     56\u001b[0m     \u001b[0mloss\u001b[0m \u001b[0;34m=\u001b[0m \u001b[0;36m0\u001b[0m\u001b[0;34m\u001b[0m\u001b[0;34m\u001b[0m\u001b[0m\n\u001b[1;32m     57\u001b[0m     \u001b[0;32mfor\u001b[0m \u001b[0mi\u001b[0m \u001b[0;32min\u001b[0m \u001b[0mrange\u001b[0m\u001b[0;34m(\u001b[0m\u001b[0mX\u001b[0m\u001b[0;34m.\u001b[0m\u001b[0msize\u001b[0m\u001b[0;34m(\u001b[0m\u001b[0;34m)\u001b[0m\u001b[0;34m[\u001b[0m\u001b[0;36m0\u001b[0m\u001b[0;34m]\u001b[0m\u001b[0;34m)\u001b[0m\u001b[0;34m:\u001b[0m\u001b[0;34m\u001b[0m\u001b[0;34m\u001b[0m\u001b[0m\n\u001b[0;32m---> 58\u001b[0;31m         \u001b[0moutput\u001b[0m\u001b[0;34m,\u001b[0m \u001b[0mhidden\u001b[0m \u001b[0;34m=\u001b[0m \u001b[0mrnn\u001b[0m\u001b[0;34m.\u001b[0m\u001b[0mforward\u001b[0m\u001b[0;34m(\u001b[0m\u001b[0mX\u001b[0m\u001b[0;34m[\u001b[0m\u001b[0mi\u001b[0m\u001b[0;34m,\u001b[0m\u001b[0;34m:\u001b[0m\u001b[0;34m]\u001b[0m\u001b[0;34m,\u001b[0m\u001b[0mhidden\u001b[0m\u001b[0;34m)\u001b[0m\u001b[0;34m\u001b[0m\u001b[0;34m\u001b[0m\u001b[0m\n\u001b[0m\u001b[1;32m     59\u001b[0m         \u001b[0ml\u001b[0m \u001b[0;34m=\u001b[0m \u001b[0mcriterion\u001b[0m\u001b[0;34m(\u001b[0m\u001b[0moutput\u001b[0m\u001b[0;34m,\u001b[0m\u001b[0mY\u001b[0m\u001b[0;34m[\u001b[0m\u001b[0mi\u001b[0m\u001b[0;34m]\u001b[0m\u001b[0;34m)\u001b[0m\u001b[0;34m\u001b[0m\u001b[0;34m\u001b[0m\u001b[0m\n\u001b[1;32m     60\u001b[0m         \u001b[0mloss\u001b[0m \u001b[0;34m+=\u001b[0m \u001b[0ml\u001b[0m\u001b[0;34m\u001b[0m\u001b[0;34m\u001b[0m\u001b[0m\n",
      "\u001b[0;32m<ipython-input-242-438aba70dd22>\u001b[0m in \u001b[0;36mforward\u001b[0;34m(self, input, hidden)\u001b[0m\n\u001b[1;32m     13\u001b[0m     \u001b[0;32mdef\u001b[0m \u001b[0mforward\u001b[0m\u001b[0;34m(\u001b[0m\u001b[0mself\u001b[0m\u001b[0;34m,\u001b[0m \u001b[0minput\u001b[0m\u001b[0;34m,\u001b[0m \u001b[0mhidden\u001b[0m\u001b[0;34m)\u001b[0m\u001b[0;34m:\u001b[0m\u001b[0;34m\u001b[0m\u001b[0;34m\u001b[0m\u001b[0m\n\u001b[1;32m     14\u001b[0m         \u001b[0mcombined\u001b[0m \u001b[0;34m=\u001b[0m \u001b[0mtorch\u001b[0m\u001b[0;34m.\u001b[0m\u001b[0mcat\u001b[0m\u001b[0;34m(\u001b[0m\u001b[0;34m(\u001b[0m\u001b[0minput\u001b[0m\u001b[0;34m,\u001b[0m \u001b[0mhidden\u001b[0m\u001b[0;34m)\u001b[0m\u001b[0;34m,\u001b[0m \u001b[0;36m1\u001b[0m\u001b[0;34m)\u001b[0m\u001b[0;34m\u001b[0m\u001b[0;34m\u001b[0m\u001b[0m\n\u001b[0;32m---> 15\u001b[0;31m         \u001b[0mhidden\u001b[0m \u001b[0;34m=\u001b[0m \u001b[0mtorch\u001b[0m\u001b[0;34m.\u001b[0m\u001b[0mtanh\u001b[0m\u001b[0;34m(\u001b[0m\u001b[0mself\u001b[0m\u001b[0;34m.\u001b[0m\u001b[0mh1\u001b[0m\u001b[0;34m(\u001b[0m\u001b[0mcombined\u001b[0m\u001b[0;34m)\u001b[0m\u001b[0;34m)\u001b[0m\u001b[0;34m\u001b[0m\u001b[0;34m\u001b[0m\u001b[0m\n\u001b[0m\u001b[1;32m     16\u001b[0m         \u001b[0moutput\u001b[0m \u001b[0;34m=\u001b[0m \u001b[0mself\u001b[0m\u001b[0;34m.\u001b[0m\u001b[0mo1\u001b[0m\u001b[0;34m(\u001b[0m\u001b[0mcombined\u001b[0m\u001b[0;34m)\u001b[0m\u001b[0;34m\u001b[0m\u001b[0;34m\u001b[0m\u001b[0m\n\u001b[1;32m     17\u001b[0m         \u001b[0moutput\u001b[0m \u001b[0;34m=\u001b[0m \u001b[0mself\u001b[0m\u001b[0;34m.\u001b[0m\u001b[0msoftmax\u001b[0m\u001b[0;34m(\u001b[0m\u001b[0moutput\u001b[0m\u001b[0;34m)\u001b[0m\u001b[0;34m\u001b[0m\u001b[0;34m\u001b[0m\u001b[0m\n",
      "\u001b[0;32m~/anaconda3/lib/python3.7/site-packages/torch/nn/modules/module.py\u001b[0m in \u001b[0;36m__call__\u001b[0;34m(self, *input, **kwargs)\u001b[0m\n\u001b[1;32m    491\u001b[0m             \u001b[0mresult\u001b[0m \u001b[0;34m=\u001b[0m \u001b[0mself\u001b[0m\u001b[0;34m.\u001b[0m\u001b[0m_slow_forward\u001b[0m\u001b[0;34m(\u001b[0m\u001b[0;34m*\u001b[0m\u001b[0minput\u001b[0m\u001b[0;34m,\u001b[0m \u001b[0;34m**\u001b[0m\u001b[0mkwargs\u001b[0m\u001b[0;34m)\u001b[0m\u001b[0;34m\u001b[0m\u001b[0;34m\u001b[0m\u001b[0m\n\u001b[1;32m    492\u001b[0m         \u001b[0;32melse\u001b[0m\u001b[0;34m:\u001b[0m\u001b[0;34m\u001b[0m\u001b[0;34m\u001b[0m\u001b[0m\n\u001b[0;32m--> 493\u001b[0;31m             \u001b[0mresult\u001b[0m \u001b[0;34m=\u001b[0m \u001b[0mself\u001b[0m\u001b[0;34m.\u001b[0m\u001b[0mforward\u001b[0m\u001b[0;34m(\u001b[0m\u001b[0;34m*\u001b[0m\u001b[0minput\u001b[0m\u001b[0;34m,\u001b[0m \u001b[0;34m**\u001b[0m\u001b[0mkwargs\u001b[0m\u001b[0;34m)\u001b[0m\u001b[0;34m\u001b[0m\u001b[0;34m\u001b[0m\u001b[0m\n\u001b[0m\u001b[1;32m    494\u001b[0m         \u001b[0;32mfor\u001b[0m \u001b[0mhook\u001b[0m \u001b[0;32min\u001b[0m \u001b[0mself\u001b[0m\u001b[0;34m.\u001b[0m\u001b[0m_forward_hooks\u001b[0m\u001b[0;34m.\u001b[0m\u001b[0mvalues\u001b[0m\u001b[0;34m(\u001b[0m\u001b[0;34m)\u001b[0m\u001b[0;34m:\u001b[0m\u001b[0;34m\u001b[0m\u001b[0;34m\u001b[0m\u001b[0m\n\u001b[1;32m    495\u001b[0m             \u001b[0mhook_result\u001b[0m \u001b[0;34m=\u001b[0m \u001b[0mhook\u001b[0m\u001b[0;34m(\u001b[0m\u001b[0mself\u001b[0m\u001b[0;34m,\u001b[0m \u001b[0minput\u001b[0m\u001b[0;34m,\u001b[0m \u001b[0mresult\u001b[0m\u001b[0;34m)\u001b[0m\u001b[0;34m\u001b[0m\u001b[0;34m\u001b[0m\u001b[0m\n",
      "\u001b[0;32m~/anaconda3/lib/python3.7/site-packages/torch/nn/modules/linear.py\u001b[0m in \u001b[0;36mforward\u001b[0;34m(self, input)\u001b[0m\n\u001b[1;32m     90\u001b[0m     \u001b[0;34m@\u001b[0m\u001b[0mweak_script_method\u001b[0m\u001b[0;34m\u001b[0m\u001b[0;34m\u001b[0m\u001b[0m\n\u001b[1;32m     91\u001b[0m     \u001b[0;32mdef\u001b[0m \u001b[0mforward\u001b[0m\u001b[0;34m(\u001b[0m\u001b[0mself\u001b[0m\u001b[0;34m,\u001b[0m \u001b[0minput\u001b[0m\u001b[0;34m)\u001b[0m\u001b[0;34m:\u001b[0m\u001b[0;34m\u001b[0m\u001b[0;34m\u001b[0m\u001b[0m\n\u001b[0;32m---> 92\u001b[0;31m         \u001b[0;32mreturn\u001b[0m \u001b[0mF\u001b[0m\u001b[0;34m.\u001b[0m\u001b[0mlinear\u001b[0m\u001b[0;34m(\u001b[0m\u001b[0minput\u001b[0m\u001b[0;34m,\u001b[0m \u001b[0mself\u001b[0m\u001b[0;34m.\u001b[0m\u001b[0mweight\u001b[0m\u001b[0;34m,\u001b[0m \u001b[0mself\u001b[0m\u001b[0;34m.\u001b[0m\u001b[0mbias\u001b[0m\u001b[0;34m)\u001b[0m\u001b[0;34m\u001b[0m\u001b[0;34m\u001b[0m\u001b[0m\n\u001b[0m\u001b[1;32m     93\u001b[0m \u001b[0;34m\u001b[0m\u001b[0m\n\u001b[1;32m     94\u001b[0m     \u001b[0;32mdef\u001b[0m \u001b[0mextra_repr\u001b[0m\u001b[0;34m(\u001b[0m\u001b[0mself\u001b[0m\u001b[0;34m)\u001b[0m\u001b[0;34m:\u001b[0m\u001b[0;34m\u001b[0m\u001b[0;34m\u001b[0m\u001b[0m\n",
      "\u001b[0;32m~/anaconda3/lib/python3.7/site-packages/torch/nn/functional.py\u001b[0m in \u001b[0;36mlinear\u001b[0;34m(input, weight, bias)\u001b[0m\n\u001b[1;32m   1404\u001b[0m     \u001b[0;32mif\u001b[0m \u001b[0minput\u001b[0m\u001b[0;34m.\u001b[0m\u001b[0mdim\u001b[0m\u001b[0;34m(\u001b[0m\u001b[0;34m)\u001b[0m \u001b[0;34m==\u001b[0m \u001b[0;36m2\u001b[0m \u001b[0;32mand\u001b[0m \u001b[0mbias\u001b[0m \u001b[0;32mis\u001b[0m \u001b[0;32mnot\u001b[0m \u001b[0;32mNone\u001b[0m\u001b[0;34m:\u001b[0m\u001b[0;34m\u001b[0m\u001b[0;34m\u001b[0m\u001b[0m\n\u001b[1;32m   1405\u001b[0m         \u001b[0;31m# fused op is marginally faster\u001b[0m\u001b[0;34m\u001b[0m\u001b[0;34m\u001b[0m\u001b[0;34m\u001b[0m\u001b[0m\n\u001b[0;32m-> 1406\u001b[0;31m         \u001b[0mret\u001b[0m \u001b[0;34m=\u001b[0m \u001b[0mtorch\u001b[0m\u001b[0;34m.\u001b[0m\u001b[0maddmm\u001b[0m\u001b[0;34m(\u001b[0m\u001b[0mbias\u001b[0m\u001b[0;34m,\u001b[0m \u001b[0minput\u001b[0m\u001b[0;34m,\u001b[0m \u001b[0mweight\u001b[0m\u001b[0;34m.\u001b[0m\u001b[0mt\u001b[0m\u001b[0;34m(\u001b[0m\u001b[0;34m)\u001b[0m\u001b[0;34m)\u001b[0m\u001b[0;34m\u001b[0m\u001b[0;34m\u001b[0m\u001b[0m\n\u001b[0m\u001b[1;32m   1407\u001b[0m     \u001b[0;32melse\u001b[0m\u001b[0;34m:\u001b[0m\u001b[0;34m\u001b[0m\u001b[0;34m\u001b[0m\u001b[0m\n\u001b[1;32m   1408\u001b[0m         \u001b[0moutput\u001b[0m \u001b[0;34m=\u001b[0m \u001b[0minput\u001b[0m\u001b[0;34m.\u001b[0m\u001b[0mmatmul\u001b[0m\u001b[0;34m(\u001b[0m\u001b[0mweight\u001b[0m\u001b[0;34m.\u001b[0m\u001b[0mt\u001b[0m\u001b[0;34m(\u001b[0m\u001b[0;34m)\u001b[0m\u001b[0;34m)\u001b[0m\u001b[0;34m\u001b[0m\u001b[0;34m\u001b[0m\u001b[0m\n",
      "\u001b[0;31mKeyboardInterrupt\u001b[0m: "
     ]
    }
   ],
   "source": [
    "start = time.time()\n",
    "loss_train, hidden = 0, usecuda(torch.zeros(1,rnn.hd_sz))\n",
    "for epoch in range(epochs):\n",
    "    e = 0 \n",
    "    i = 0\n",
    "    while i < itters:\n",
    "        Xtrain,Ytrain = generate_input(e,seq_len,data_train.tweet_str)  \n",
    "        loss, hidden  = train(Xtrain,Ytrain,hidden,lr,use_opt)\n",
    "        loss_train   += loss  \n",
    "        if i%print_every == 0:\n",
    "            print(generate_seq(rnn,hidden,'T',100,m,42))\n",
    "        if i%plot_every  == 0:\n",
    "            print(f\"\"\"training_loss is {loss_train/print_every}\"\"\")            \n",
    "            Plots.loss_train.append(loss_train/plot_every)\n",
    "#             Plots.loss_valid.append(get_validloss(data_valid))\n",
    "            loss_train = 0  \n",
    "        e += seq_len + 1\n",
    "        i += 1\n",
    "            \n",
    "    print(f\"\"\"\\n epoch {epoch} took {time.time() - start:.2f} seconds\"\"\")       "
   ]
  },
  {
   "cell_type": "code",
   "execution_count": 17,
   "metadata": {},
   "outputs": [
    {
     "data": {
      "text/plain": [
       "[<matplotlib.lines.Line2D at 0x7fe546784668>]"
      ]
     },
     "execution_count": 17,
     "metadata": {},
     "output_type": "execute_result"
    },
    {
     "data": {
      "image/png": "[encoded data removed]",
      "text/plain": [
       "<matplotlib.figure.Figure at 0x7fe545d382b0>"
      ]
     },
     "metadata": {
      "needs_background": "light"
     },
     "output_type": "display_data"
    }
   ],
   "source": [
    "import matplotlib.pyplot as plt\n",
    "import matplotlib.ticker as ticker\n",
    "\n",
    "plt.figure()\n",
    "plt.plot(loss_plots.train[2:-1])"
   ]
  },
  {
   "cell_type": "code",
   "execution_count": null,
   "metadata": {},
   "outputs": [],
   "source": [
    "save_checkpoint({\n",
    "            'epoch': epoch,\n",
    "            'arch': \"1_RNN\",\n",
    "            'state_dict': rnn.state_dict(),\n",
    "            'hd_sz': rnn.hd_sz,\n",
    "            'in_sz': rnn.in_sz,\n",
    "            'out_sz': rnn.out_sz,\n",
    "            'loss': loss,\n",
    "            'best_prec1': None,\n",
    "            'optimizer' : None,\n",
    "        })"
   ]
  },
  {
   "cell_type": "code",
   "execution_count": null,
   "metadata": {},
   "outputs": [],
   "source": [
    "rnn2, epoch, loss = load_checkpoint(filename='models/checkpoint.pth.tar')\n",
    "rnn2.cuda()"
   ]
  },
  {
   "cell_type": "code",
   "execution_count": null,
   "metadata": {},
   "outputs": [],
   "source": [
    "print(generate_seq(rnn2, torch.zeros(1,hsize).cuda(),'T',100,m,42))\n",
    "print(generate_seq(rnn, torch.zeros(1,hsize).cuda(),'T',100,m,42))"
   ]
  },
  {
   "cell_type": "markdown",
   "metadata": {},
   "source": [
    "### build RNN network with LSTM"
   ]
  },
  {
   "cell_type": "code",
   "execution_count": null,
   "metadata": {},
   "outputs": [],
   "source": [
    "class RNN(nn.Module):\n",
    "    def __init__(self, input_size, hidden_size, output_size):\n",
    "        super(RNN,self).__init__()\n",
    "        self.hidden_sizes = hidden_size\n",
    "        self.in_size      = input_size\n",
    "        self.out_size     = output_size\n",
    "        \n",
    "        self.h1 = nn.Linear(input_size + hidden_size, hidden_size)        \n",
    "        self.o1 = nn.Linear(input_size + hidden_size, input_size)\n",
    "        \n",
    "        self.softmax = nn.LogSoftmax(dim=1)\n",
    "        \n",
    "    def forward(self, input, hidden):\n",
    "        combined = torch.cat((input, hidden), 1)\n",
    "        hidden = torch.tanh(self.h1(combined))\n",
    "        output = self.o1(combined)\n",
    "        output = self.softmax(output)\n",
    "        return output, hidden\n",
    "\n",
    "    def initHidden(self):\n",
    "        return torch.zeros(hidden_layers[0])"
   ]
  },
  {
   "cell_type": "markdown",
   "metadata": {},
   "source": [
    "\n",
    "### cut input into seq length bits"
   ]
  },
  {
   "cell_type": "code",
   "execution_count": null,
   "metadata": {},
   "outputs": [],
   "source": [
    "data = data[['Open','High','Low','Close']]"
   ]
  },
  {
   "cell_type": "code",
   "execution_count": null,
   "metadata": {},
   "outputs": [],
   "source": [
    "cutoff = 0.2\n",
    "set_train = data[0:round(len(data)*cutoff)]\n",
    "set_test  = data[round(len(data)*cutoff):-1]"
   ]
  },
  {
   "cell_type": "code",
   "execution_count": null,
   "metadata": {},
   "outputs": [],
   "source": [
    "# set_train.head()"
   ]
  },
  {
   "cell_type": "code",
   "execution_count": null,
   "metadata": {},
   "outputs": [],
   "source": [
    "input_sz = set_train.shape[1]\n",
    "hidden_sz = 100\n",
    "output_sz = 1"
   ]
  },
  {
   "cell_type": "code",
   "execution_count": null,
   "metadata": {},
   "outputs": [],
   "source": [
    "rnn = RNN(input_sz, hidden_sz, output_sz)"
   ]
  },
  {
   "cell_type": "code",
   "execution_count": null,
   "metadata": {},
   "outputs": [],
   "source": [
    "# for index, row in set_train.iterrows():\n",
    "#     print(np.array(row))"
   ]
  },
  {
   "cell_type": "code",
   "execution_count": null,
   "metadata": {},
   "outputs": [],
   "source": [
    "lr = 0.005\n",
    "\n",
    "def train(X,Y)\n",
    "    hidden = rnn.initHidden()\n",
    "    \n",
    "    rnn.zero_grad()\n",
    "    \n",
    "    for i in range(X.size()[0]):\n",
    "        output, hidden = rnn(X[i], hidden)\n",
    "        \n",
    "    loss = criterion(output, )"
   ]
  },
  {
   "cell_type": "code",
   "execution_count": null,
   "metadata": {},
   "outputs": [],
   "source": []
  }
 ],
 "metadata": {
  "kernelspec": {
   "display_name": "Python 3",
   "language": "python",
   "name": "python3"
  },
  "language_info": {
   "codemirror_mode": {
    "name": "ipython",
    "version": 3
   },
   "file_extension": ".py",
   "mimetype": "text/x-python",
   "name": "python",
   "nbconvert_exporter": "python",
   "pygments_lexer": "ipython3",
   "version": "3.7.1"
  }
 },
 "nbformat": 4,
 "nbformat_minor": 2
}
