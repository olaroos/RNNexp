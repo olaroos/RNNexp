{
 "cells": [
  {
   "cell_type": "code",
   "execution_count": 1,
   "metadata": {},
   "outputs": [
    {
     "name": "stdout",
     "output_type": "stream",
     "text": [
      "using device cuda:0\n"
     ]
    }
   ],
   "source": [
    "import os \n",
    "import time\n",
    "import copy\n",
    "\n",
    "import torch\n",
    "import torchvision\n",
    "import torchvision.models as models\n",
    "import torchvision.transforms as transforms\n",
    "import torch.nn as nn\n",
    "import torch.nn.init as init\n",
    "import torch.nn.functional as F\n",
    "import torch.optim as optim\n",
    "\n",
    "cuda_available = torch.cuda.is_available()\n",
    "device = torch.device(\"cuda:0\" if cuda_available else \"cpu\")\n",
    "print(f'''using device {device}''')\n",
    "\n",
    "import matplotlib.pyplot as plt\n",
    "import matplotlib.patches as mpatches\n",
    "import numpy as np\n",
    "import pickle\n",
    "import random \n",
    "import pandas as pd"
   ]
  },
  {
   "cell_type": "code",
   "execution_count": 2,
   "metadata": {},
   "outputs": [
    {
     "data": {
      "application/javascript": [
       "IPython.OutputArea.auto_scroll_threshold = 9999;\n"
      ],
      "text/plain": [
       "<IPython.core.display.Javascript object>"
      ]
     },
     "metadata": {},
     "output_type": "display_data"
    }
   ],
   "source": [
    "%%javascript\n",
    "IPython.OutputArea.auto_scroll_threshold = 9999;"
   ]
  },
  {
   "cell_type": "code",
   "execution_count": 3,
   "metadata": {},
   "outputs": [],
   "source": [
    "def usecuda(input):\n",
    "    if torch.cuda.is_available(): return input.cuda()\n",
    "    return input"
   ]
  },
  {
   "cell_type": "code",
   "execution_count": 4,
   "metadata": {},
   "outputs": [
    {
     "name": "stdout",
     "output_type": "stream",
     "text": [
      "/home/r2/Documents/RNNexp\n"
     ]
    }
   ],
   "source": [
    "path = !pwd\n",
    "path = path[0]\n",
    "print(path)"
   ]
  },
  {
   "cell_type": "code",
   "execution_count": 5,
   "metadata": {},
   "outputs": [],
   "source": [
    "# data = pd.read_pickle(path+\"/data/step3_DAT_MT_USDJPY_M1_2018_merged_pickled\") \n",
    "# data.head()"
   ]
  },
  {
   "cell_type": "markdown",
   "metadata": {},
   "source": [
    "### functions"
   ]
  },
  {
   "cell_type": "code",
   "execution_count": 77,
   "metadata": {},
   "outputs": [],
   "source": [
    "class Struct():\n",
    "    pass \n",
    "\n",
    "def load_trumpdata(datapath):\n",
    "    import json \n",
    "    tweets, tweet_str = [], ''\n",
    "    filenames = ['condensed_2018.json', 'condensed_2016.json', 'condensed_2017.json', 'condensed_2018.json']\n",
    "    for fname in filenames:\n",
    "        f = open(datapath+fname,\"r\")\n",
    "        data = f.readline()\n",
    "        f.close()\n",
    "        data_tr = json.loads(data)\n",
    "        for line in range(0,len(data_tr)):\n",
    "            tweet = '*' + data_tr[line][\"text\"].rstrip('\\\\') + '€'\n",
    "            tweets.append(tweet)\n",
    "            tweet_str = tweet_str + tweet            \n",
    "    symbols = list(set(tweet_str))\n",
    "    decoder = {idx: symbols[idx] for idx in range(0,len(symbols))}\n",
    "    encoder = {symbols[idx]: idx for idx in range(0,len(symbols))}        \n",
    "    return tweets, tweet_str, decoder, encoder\n",
    "\n",
    "def pp_trumpdata(filename, prop, bsize=1):\n",
    "    Data, train, valid, test = Struct(), Struct(), Struct(), Struct()        \n",
    "    tweets, tweet_str, Data.decoder, Data.encoder = load_trumpdata(filename)    \n",
    "\n",
    "    train.tweets = tweets[0:round(prop[0]*len(tweets))]\n",
    "    train.tweet_str = tweet_str[0:round(prop[1]*len(tweet_str))]    \n",
    "    valid.tweets = tweets[round(prop[0]*len(tweets)):round(prop[1]*len(tweets))]\n",
    "    valid.tweet_str = tweet_str[round(prop[0]*len(tweet_str)):round(prop[1]*len(tweet_str))]    \n",
    "    test.tweets  = tweets[round(prop[1]*len(tweets)):-1]\n",
    "    test.tweet_str  = tweet_str[round(prop[1]*len(tweet_str)):-1]    \n",
    "\n",
    "\n",
    "    train.batch_str = []\n",
    "    stepsize = round(len(train.tweet_str)/bsize-1)\n",
    "    for i in range(0,bsize):\n",
    "        train.batch_str.append(train.tweet_str[i*stepsize:(i+1)*stepsize])\n",
    "\n",
    "    Data.train, Data.valid, Data.test, Data.bsize = train, valid, test, bsize\n",
    "    return Data\n",
    "\n",
    "def onehencode(symbol, encoder):\n",
    "    x = torch.zeros(len(encoder),1)\n",
    "    x[encoder[symbol]] = 1.0\n",
    "    return usecuda(x.t())\n",
    "\n",
    "def encodestr(string, encoder, seq_len):\n",
    "    x = torch.zeros((seq_len,len(encoder)))\n",
    "    x[[idx for idx in range(0,seq_len)],[encoder[char] for char in string]] = 1\n",
    "    return usecuda(x.reshape(x.shape[0],1,x.shape[1]))\n",
    "\n",
    "def generate_seq(model, hidden, symbol, seq_len, m, seed):\n",
    "    with torch.no_grad():\n",
    "        result_str = symbol\n",
    "        for i in range(seq_len):\n",
    "            x = onehencode(symbol,encoder)\n",
    "            output, new_hidden = model.forward(x,hidden)\n",
    "        \n",
    "            hidden = new_hidden.detach()\n",
    "            prob = np.exp(output.detach().data.cpu().numpy())\n",
    "            cum_prob = np.cumsum(prob)\n",
    "\n",
    "            a = random.random()\n",
    "            idx = np.where(cum_prob - a > 0)[0][0]\n",
    "            symbol = decoder[idx]\n",
    "            result_str += symbol\n",
    "\n",
    "        return result_str\n",
    "    \n",
    "def save_checkpoint(state, filename='models/checkpoint.pth.tar'):\n",
    "    torch.save(state, filename)\n",
    "\n",
    "def load_checkpoint(filename='models/checkpoint.pth.tar'):\n",
    "    checkpoint = torch.load(filename)    \n",
    "    for item in iter(checkpoint):\n",
    "        print(item)\n",
    "    model = RNN(checkpoint['in_sz'],checkpoint['hd_sz'],checkpoint['out_sz'])\n",
    "    model.load_state_dict(checkpoint['state_dict'])\n",
    "    #     optimizer.load_state_dict(checkpoint['optimizer_state_dict'])\n",
    "    epoch = checkpoint['epoch']\n",
    "    loss = checkpoint['loss']\n",
    "    return model, epoch, loss    \n",
    "\n",
    "def get_valid_loss(data_valid, seq_len):\n",
    "    start = time.time()\n",
    "    i, e, itters = 0, 0, 1000 \n",
    "    loss_valid = 0\n",
    "    hidden = usecuda(torch.zeros(1,rnn.hd_sz))\n",
    "    while i < itters:\n",
    "        Xvalid, Yvalid = generate_input(e,seq_len,data_valid.tweet_str)\n",
    "        loss, hidden   = train(Xvalid,Yvalid,hidden,base_lr,use_opt) \n",
    "        loss_valid += loss\n",
    "        i += 1\n",
    "        e += seq_len + 1\n",
    "    print(f\"calculating validation loss took {time.time()-start:.2f} seconds\")\n",
    "    return loss_valid/itters\n",
    "\n",
    "def train_batch(model,X,Y,hidden,lr,optimizer,use_opt):\n",
    "    if use_opt: optimizer.zero_grad() \n",
    "    else: model.zero_grad()\n",
    "    loss = 0\n",
    "    for char in range(X.size()[1]):\n",
    "        x = X[:,char,:].reshape(X.shape[0],X.shape[2])\n",
    "        output, hidden = model.forward(x,hidden)\n",
    "        y = Y[:,char,:]\n",
    "        loss += criterion(output,y.reshape(X.shape[0]))\n",
    "    loss.backward()\n",
    "    if use_opt: optimizer.step()\n",
    "    else:\n",
    "        for p in model.parameters(): p.data.add_(-lr, p.grad.data)\n",
    "\n",
    "    return loss/(X.size()[2]), hidden.detach()\n",
    "\n",
    "def generate_batch(e, Data, seq_len):\n",
    "    X = torch.zeros(Data.bsize,seq_len,len(Data.encoder))\n",
    "    Y = torch.zeros(Data.bsize,seq_len,1)\n",
    "    for i in range(0,Data.bsize):        \n",
    "        x = encodestr(Data.train.batch_str[i][e:e+seq_len],Data.encoder,seq_len)\n",
    "        y = torch.Tensor([Data.encoder[char] for char in Data.train.batch_str[i][e+1:e+seq_len+1]])\n",
    "        X[i,:,:] = x.reshape(seq_len,len(Data.encoder))\n",
    "        Y[i,:,:] = y.reshape(seq_len,1)\n",
    "    return usecuda(X),usecuda(Y.long())"
   ]
  },
  {
   "cell_type": "markdown",
   "metadata": {},
   "source": [
    "## my RNN module"
   ]
  },
  {
   "cell_type": "code",
   "execution_count": 28,
   "metadata": {},
   "outputs": [],
   "source": [
    "class RNN(nn.Module):\n",
    "    def __init__(self, input_size, hidden_size, output_size):\n",
    "        super(RNN,self).__init__()\n",
    "        self.hd_sz  = hidden_size\n",
    "        self.in_sz  = input_size\n",
    "        self.out_sz = output_size\n",
    "        \n",
    "        self.h1 = nn.Linear(input_size + hidden_size, hidden_size)        \n",
    "        self.o1 = nn.Linear(input_size + hidden_size, input_size)\n",
    "        \n",
    "        self.softmax = nn.LogSoftmax(dim=1)\n",
    "        \n",
    "    def forward(self, input, hidden):\n",
    "        combined = torch.cat((input, hidden), 1)\n",
    "        hidden = torch.tanh(self.h1(combined))\n",
    "        output = self.o1(combined)\n",
    "        output = self.softmax(output)\n",
    "        return output, hidden\n",
    "\n",
    "    def initHidden(self):\n",
    "        return torch.zeros(hidden_layers[0])"
   ]
  },
  {
   "cell_type": "markdown",
   "metadata": {},
   "source": [
    "### code"
   ]
  },
  {
   "cell_type": "code",
   "execution_count": 8,
   "metadata": {},
   "outputs": [],
   "source": []
  },
  {
   "cell_type": "code",
   "execution_count": 59,
   "metadata": {},
   "outputs": [],
   "source": [
    "Params = Struct()\n",
    "Params.hidden_sz  = 150\n",
    "Params.input_sz   = len(Data1.encoder)\n",
    "Params.seq_len    = 30\n",
    "Params.intv_print = 200\n",
    "Params.intv_plot  = 100\n",
    "Params.epoches    = 1\n",
    "Params.itters     = 5000\n",
    "Params.use_opt    = True \n",
    "Params.lr         = 0.0005\n",
    "Params.bsize      = 1"
   ]
  },
  {
   "cell_type": "code",
   "execution_count": 75,
   "metadata": {},
   "outputs": [],
   "source": [
    "def do_training(model,Data,Params,optimizer,Plots=0):\n",
    "    if Plots==0:\n",
    "        Plots = Struct()\n",
    "        Plots.loss_train, Plots.loss_valid = [], []\n",
    "#     optimizer = optim.RMSprop(model.parameters(), lr=Params.lr)\n",
    "    start      = time.time()\n",
    "    loss_train = 0\n",
    "    hidden     = usecuda(torch.zeros(Params.bsize,model.hd_sz))\n",
    "    for epoch in range(Params.epoches):\n",
    "        char_idx = 0\n",
    "        i = 0 \n",
    "        while i < Params.itters and char_idx < len(Data.train.batch_str[0])-Params.seq_len-1:\n",
    "            X,Y          = generate_batch(char_idx, Data, Params.seq_len)\n",
    "            loss, hidden = train_batch(model,X,Y,hidden,Params.lr,optimizer,True)\n",
    "            loss_train  += loss\n",
    "            if i%Params.intv_print == 0:\n",
    "                print(loss_train/Params.intv_plot)                \n",
    "            if i%Params.intv_plot  == 0:  \n",
    "                Plots.loss_train.append(loss_train/Params.intv_plot)\n",
    "                loss_train = 0 \n",
    "            char_idx += Params.seq_len + 1\n",
    "            i        += 1\n",
    "        print(f\"\"\"\\n epoch {epoch+1} took {time.time() - start:.2f} seconds\"\"\")  \n",
    "    return Plots"
   ]
  },
  {
   "cell_type": "code",
   "execution_count": 78,
   "metadata": {},
   "outputs": [
    {
     "name": "stdout",
     "output_type": "stream",
     "text": [
      "tensor(0.0050, device='cuda:0', grad_fn=<DivBackward0>)\n",
      "tensor(0.2803, device='cuda:0', grad_fn=<DivBackward0>)\n",
      "tensor(0.2765, device='cuda:0', grad_fn=<DivBackward0>)\n",
      "tensor(0.2653, device='cuda:0', grad_fn=<DivBackward0>)\n",
      "tensor(0.2673, device='cuda:0', grad_fn=<DivBackward0>)\n",
      "tensor(0.2585, device='cuda:0', grad_fn=<DivBackward0>)\n",
      "tensor(0.2540, device='cuda:0', grad_fn=<DivBackward0>)\n",
      "tensor(0.2488, device='cuda:0', grad_fn=<DivBackward0>)\n",
      "tensor(0.2548, device='cuda:0', grad_fn=<DivBackward0>)\n",
      "tensor(0.2509, device='cuda:0', grad_fn=<DivBackward0>)\n",
      "tensor(0.2392, device='cuda:0', grad_fn=<DivBackward0>)\n",
      "tensor(0.2425, device='cuda:0', grad_fn=<DivBackward0>)\n",
      "tensor(0.2372, device='cuda:0', grad_fn=<DivBackward0>)\n",
      "tensor(0.2326, device='cuda:0', grad_fn=<DivBackward0>)\n",
      "tensor(0.2419, device='cuda:0', grad_fn=<DivBackward0>)\n",
      "tensor(0.2362, device='cuda:0', grad_fn=<DivBackward0>)\n",
      "tensor(0.2255, device='cuda:0', grad_fn=<DivBackward0>)\n",
      "tensor(0.2280, device='cuda:0', grad_fn=<DivBackward0>)\n",
      "tensor(0.2395, device='cuda:0', grad_fn=<DivBackward0>)\n",
      "tensor(0.2352, device='cuda:0', grad_fn=<DivBackward0>)\n",
      "tensor(0.2325, device='cuda:0', grad_fn=<DivBackward0>)\n",
      "tensor(0.2327, device='cuda:0', grad_fn=<DivBackward0>)\n",
      "tensor(0.2262, device='cuda:0', grad_fn=<DivBackward0>)\n",
      "tensor(0.2274, device='cuda:0', grad_fn=<DivBackward0>)\n",
      "tensor(0.2215, device='cuda:0', grad_fn=<DivBackward0>)\n",
      "\n",
      " epoch 1 took 89.26 seconds\n",
      "tensor(0.0051, device='cuda:0', grad_fn=<DivBackward0>)\n",
      "tensor(0.2894, device='cuda:0', grad_fn=<DivBackward0>)\n",
      "tensor(0.2828, device='cuda:0', grad_fn=<DivBackward0>)\n",
      "tensor(0.2686, device='cuda:0', grad_fn=<DivBackward0>)\n",
      "tensor(0.2574, device='cuda:0', grad_fn=<DivBackward0>)\n",
      "tensor(0.2506, device='cuda:0', grad_fn=<DivBackward0>)\n",
      "tensor(0.2452, device='cuda:0', grad_fn=<DivBackward0>)\n",
      "tensor(0.2382, device='cuda:0', grad_fn=<DivBackward0>)\n",
      "tensor(0.2346, device='cuda:0', grad_fn=<DivBackward0>)\n",
      "tensor(0.2328, device='cuda:0', grad_fn=<DivBackward0>)\n",
      "tensor(0.2283, device='cuda:0', grad_fn=<DivBackward0>)\n",
      "tensor(0.2243, device='cuda:0', grad_fn=<DivBackward0>)\n",
      "tensor(0.2211, device='cuda:0', grad_fn=<DivBackward0>)\n",
      "tensor(0.2219, device='cuda:0', grad_fn=<DivBackward0>)\n",
      "tensor(0.2204, device='cuda:0', grad_fn=<DivBackward0>)\n",
      "tensor(0.2172, device='cuda:0', grad_fn=<DivBackward0>)\n",
      "tensor(0.2139, device='cuda:0', grad_fn=<DivBackward0>)\n",
      "tensor(0.2142, device='cuda:0', grad_fn=<DivBackward0>)\n",
      "tensor(0.2135, device='cuda:0', grad_fn=<DivBackward0>)\n",
      "tensor(0.2123, device='cuda:0', grad_fn=<DivBackward0>)\n",
      "tensor(0.2087, device='cuda:0', grad_fn=<DivBackward0>)\n",
      "tensor(0.2170, device='cuda:0', grad_fn=<DivBackward0>)\n",
      "tensor(0.2094, device='cuda:0', grad_fn=<DivBackward0>)\n",
      "tensor(0.2058, device='cuda:0', grad_fn=<DivBackward0>)\n",
      "tensor(0.2075, device='cuda:0', grad_fn=<DivBackward0>)\n",
      "\n",
      " epoch 1 took 93.86 seconds\n"
     ]
    }
   ],
   "source": [
    "torch.manual_seed(24)\n",
    "rnn1 = usecuda(RNN(Params.input_sz, Params.hidden_sz, 1))\n",
    "torch.manual_seed(24)\n",
    "rnn2 = usecuda(RNN(Params.input_sz, Params.hidden_sz, 1))\n",
    "\n",
    "criterion = nn.NLLLoss()\n",
    "\n",
    "optimizer1 = optim.RMSprop(rnn1.parameters(), lr=Params.lr)\n",
    "optimizer2 = optim.RMSprop(rnn2.parameters(), lr=Params.lr)\n",
    "\n",
    "Params2 = copy.deepcopy(Params)\n",
    "Params2.bsize = 10\n",
    "\n",
    "Data1 = pp_trumpdata(path+\"/data/trump/\", [0.9,0.95], Params.bsize)\n",
    "Data2 = pp_trumpdata(path+\"/data/trump/\", [0.9,0.95], Params2.bsize)\n",
    "\n",
    "Plots1 = do_training(rnn1,Data1,Params,optimizer1)\n",
    "Plots2 = do_training(rnn2,Data2,Params2,optimizer2)"
   ]
  },
  {
   "cell_type": "code",
   "execution_count": 80,
   "metadata": {},
   "outputs": [
    {
     "data": {
      "text/plain": [
       "[<matplotlib.lines.Line2D at 0x7fbaf36dd160>]"
      ]
     },
     "execution_count": 80,
     "metadata": {},
     "output_type": "execute_result"
    },
    {
     "data": {
      "image/png": "[encoded data removed]",
      "text/plain": [
       "<matplotlib.figure.Figure at 0x7fbb60381940>"
      ]
     },
     "metadata": {
      "needs_background": "light"
     },
     "output_type": "display_data"
    }
   ],
   "source": [
    "import matplotlib.pyplot as plt\n",
    "import matplotlib.ticker as ticker\n",
    "\n",
    "plt.figure()\n",
    "plt.plot(Plots1.loss_train[1:-1])"
   ]
  },
  {
   "cell_type": "code",
   "execution_count": 81,
   "metadata": {},
   "outputs": [
    {
     "data": {
      "text/plain": [
       "[<matplotlib.lines.Line2D at 0x7fbaf38fd320>]"
      ]
     },
     "execution_count": 81,
     "metadata": {},
     "output_type": "execute_result"
    },
    {
     "data": {
      "image/png": "[encoded data removed]",
      "text/plain": [
       "<matplotlib.figure.Figure at 0x7fbaf36dd978>"
      ]
     },
     "metadata": {
      "needs_background": "light"
     },
     "output_type": "display_data"
    }
   ],
   "source": [
    "plt.figure()\n",
    "plt.plot(Plots2.loss_train[1:-1])"
   ]
  },
  {
   "cell_type": "code",
   "execution_count": null,
   "metadata": {},
   "outputs": [],
   "source": [
    "save_checkpoint({\n",
    "            'epoch': epoch,\n",
    "            'arch': \"1_RNN\",\n",
    "            'state_dict': rnn.state_dict(),\n",
    "            'hd_sz': rnn.hd_sz,\n",
    "            'in_sz': rnn.in_sz,\n",
    "            'out_sz': rnn.out_sz,\n",
    "            'loss': loss,\n",
    "            'best_prec1': None,\n",
    "            'optimizer' : None,\n",
    "        })"
   ]
  },
  {
   "cell_type": "code",
   "execution_count": null,
   "metadata": {},
   "outputs": [],
   "source": [
    "rnn2, epoch, loss = load_checkpoint(filename='models/checkpoint.pth.tar')\n",
    "rnn2.cuda()"
   ]
  },
  {
   "cell_type": "code",
   "execution_count": null,
   "metadata": {},
   "outputs": [],
   "source": [
    "print(generate_seq(rnn2, torch.zeros(1,hsize).cuda(),'T',100,m,42))\n",
    "print(generate_seq(rnn, torch.zeros(1,hsize).cuda(),'T',100,m,42))"
   ]
  },
  {
   "cell_type": "markdown",
   "metadata": {},
   "source": [
    "### build RNN network with LSTM"
   ]
  },
  {
   "cell_type": "code",
   "execution_count": null,
   "metadata": {},
   "outputs": [],
   "source": [
    "class RNN(nn.Module):\n",
    "    def __init__(self, input_size, hidden_size, output_size):\n",
    "        super(RNN,self).__init__()\n",
    "        self.hidden_sizes = hidden_size\n",
    "        self.in_size      = input_size\n",
    "        self.out_size     = output_size\n",
    "        \n",
    "        self.h1 = nn.Linear(input_size + hidden_size, hidden_size)        \n",
    "        self.o1 = nn.Linear(input_size + hidden_size, input_size)\n",
    "        \n",
    "        self.softmax = nn.LogSoftmax(dim=1)\n",
    "        \n",
    "    def forward(self, input, hidden):\n",
    "        combined = torch.cat((input, hidden), 1)\n",
    "        hidden = torch.tanh(self.h1(combined))\n",
    "        output = self.o1(combined)\n",
    "        output = self.softmax(output)\n",
    "        return output, hidden\n",
    "\n",
    "    def initHidden(self):\n",
    "        return torch.zeros(hidden_layers[0])"
   ]
  },
  {
   "cell_type": "markdown",
   "metadata": {},
   "source": [
    "\n",
    "### cut input into seq length bits"
   ]
  },
  {
   "cell_type": "code",
   "execution_count": null,
   "metadata": {},
   "outputs": [],
   "source": [
    "data = data[['Open','High','Low','Close']]"
   ]
  },
  {
   "cell_type": "code",
   "execution_count": null,
   "metadata": {},
   "outputs": [],
   "source": [
    "cutoff = 0.2\n",
    "set_train = data[0:round(len(data)*cutoff)]\n",
    "set_test  = data[round(len(data)*cutoff):-1]"
   ]
  },
  {
   "cell_type": "code",
   "execution_count": null,
   "metadata": {},
   "outputs": [],
   "source": [
    "# set_train.head()"
   ]
  },
  {
   "cell_type": "code",
   "execution_count": null,
   "metadata": {},
   "outputs": [],
   "source": [
    "input_sz = set_train.shape[1]\n",
    "hidden_sz = 100\n",
    "output_sz = 1"
   ]
  },
  {
   "cell_type": "code",
   "execution_count": null,
   "metadata": {},
   "outputs": [],
   "source": [
    "rnn = RNN(input_sz, hidden_sz, output_sz)"
   ]
  },
  {
   "cell_type": "code",
   "execution_count": null,
   "metadata": {},
   "outputs": [],
   "source": [
    "# for index, row in set_train.iterrows():\n",
    "#     print(np.array(row))"
   ]
  },
  {
   "cell_type": "code",
   "execution_count": null,
   "metadata": {},
   "outputs": [],
   "source": [
    "lr = 0.005\n",
    "\n",
    "def train(X,Y)\n",
    "    hidden = rnn.initHidden()\n",
    "    \n",
    "    rnn.zero_grad()\n",
    "    \n",
    "    for i in range(X.size()[0]):\n",
    "        output, hidden = rnn(X[i], hidden)\n",
    "        \n",
    "    loss = criterion(output, )"
   ]
  },
  {
   "cell_type": "code",
   "execution_count": null,
   "metadata": {},
   "outputs": [],
   "source": []
  }
 ],
 "metadata": {
  "kernelspec": {
   "display_name": "Python 3",
   "language": "python",
   "name": "python3"
  },
  "language_info": {
   "codemirror_mode": {
    "name": "ipython",
    "version": 3
   },
   "file_extension": ".py",
   "mimetype": "text/x-python",
   "name": "python",
   "nbconvert_exporter": "python",
   "pygments_lexer": "ipython3",
   "version": "3.7.1"
  }
 },
 "nbformat": 4,
 "nbformat_minor": 2
}
