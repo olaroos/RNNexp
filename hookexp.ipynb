{
 "cells": [
  {
   "cell_type": "code",
   "execution_count": 1,
   "metadata": {},
   "outputs": [
    {
     "name": "stdout",
     "output_type": "stream",
     "text": [
      "using device cuda:0\n",
      "/home/r2/Documents/RNNexp\n"
     ]
    }
   ],
   "source": [
    "from ola_models import * \n",
    "from ola_RNN import * \n",
    "\n",
    "import os, time, copy, math, re, json, pickle, random\n",
    "import numpy as np\n",
    "import pandas as pd\n",
    "\n",
    "import torch, torchvision\n",
    "import torchvision.models as models\n",
    "import torchvision.transforms as transforms\n",
    "import torch.nn as nn\n",
    "import torch.nn.init as init\n",
    "import torch.nn.functional as F\n",
    "import torch.optim as optim\n",
    "\n",
    "import matplotlib.pyplot as plt\n",
    "import matplotlib.patches as mpatches\n",
    "import matplotlib.ticker as ticker\n",
    "\n",
    "from functools import partial \n",
    "\n",
    "cuda_available = torch.cuda.is_available()\n",
    "device = torch.device(\"cuda:0\" if cuda_available else \"cpu\")\n",
    "print(f'''using device {device}''')\n",
    "\n",
    "path = !pwd\n",
    "path = path[0]\n",
    "print(path)"
   ]
  },
  {
   "cell_type": "code",
   "execution_count": 2,
   "metadata": {},
   "outputs": [
    {
     "data": {
      "application/javascript": [
       "IPython.OutputArea.auto_scroll_threshold = 9999;\n"
      ],
      "text/plain": [
       "<IPython.core.display.Javascript object>"
      ]
     },
     "metadata": {},
     "output_type": "display_data"
    }
   ],
   "source": [
    "%%javascript\n",
    "IPython.OutputArea.auto_scroll_threshold = 9999;"
   ]
  },
  {
   "cell_type": "code",
   "execution_count": 11,
   "metadata": {},
   "outputs": [],
   "source": [
    "bs  = 30\n",
    "sql = 30 \n",
    "lr  = 0.0005 \n",
    "\n",
    "sched = combine_scheds([0.15, 0.25, 0.2, 0.4], [sched_cos(0.0005, 0.0008), sched_cos(0.0008, 0.0005),sched_lin(0.0005,0.0005),sched_cos(0.0005,0.00005)]) \n",
    "data          = pp_trumpdata(path+\"/data/trump/\", [0.9,0.95], bs)\n",
    "data.train_dl = TweetDataLoader(data,data.train.tweets,bs,sql,shuffle=True)\n",
    "data.valid_dl = TweetDataLoader(data,data.valid.tweets,bs,sql,shuffle=False)\n",
    "\n",
    "model  = cuda(RNN(len(data.decoder), 150, len(data.decoder)))\n",
    "opt    = optim.RMSprop(model.parameters(), lr, weight_decay=0.005, momentum=0.9)\n",
    "learn  = Learner(model,  nn.NLLLoss(), opt , data, lr=lr)"
   ]
  },
  {
   "cell_type": "code",
   "execution_count": 4,
   "metadata": {},
   "outputs": [],
   "source": [
    "\n",
    "    \n",
    "grad_dict = {} \n",
    "def fun_hook(layer_name, grad_input, grad_output):\n",
    "    print(grad_output)\n",
    "\n",
    "def fc_hook(layer_name, grad_input, grad_output): \n",
    "    if layer_name in grad_dict:\n",
    "        grad_dict[layer_name][\"grad_input\"].append(grad_input)\n",
    "        grad_dict[layer_name][\"grad_output\"].append(grad_output)\n",
    "    else :\n",
    "        grad_dict[layer_name] = {}\n",
    "        grad_dict[layer_name][\"grad_input\"] = []\n",
    "        grad_dict[layer_name][\"grad_output\"] = []"
   ]
  },
  {
   "cell_type": "code",
   "execution_count": 111,
   "metadata": {},
   "outputs": [],
   "source": [
    "# for p in model.parameters():\n",
    "#     p.register_hook(lambda grad: torch.clamp(grad, -clip_value, clip_value))    \n",
    "    \n",
    "class HookCallback(Callback):\n",
    "    _order = 15\n",
    "\n",
    "    def begin_fit(self,learn):\n",
    "        super().begin_fit(learn)\n",
    "        learn.stats.grads = []         \n",
    "        for p in model.parameters():\n",
    "            p.register_hook(lambda grad: learn.stats.grads.append(grad.mean().item()))\n",
    "        return True\n",
    "\n",
    "    def after_loss(self,loss):\n",
    "        return True\n",
    "    \n",
    "    def after_step(self):\n",
    "        return True\n",
    "        "
   ]
  },
  {
   "cell_type": "code",
   "execution_count": 112,
   "metadata": {},
   "outputs": [],
   "source": [
    "cbs = CallbackHandler([CounterCallback(4),StatsCallback(),HookCallback()])\n",
    "# learn.model.register_backward_hook(fun_hook)"
   ]
  },
  {
   "cell_type": "code",
   "execution_count": 113,
   "metadata": {},
   "outputs": [],
   "source": [
    "model  = cuda(RNN(len(data.decoder), 150, len(data.decoder)))\n",
    "opt    = optim.RMSprop(model.parameters(), lr, weight_decay=0.005, momentum=0.9)\n",
    "learn  = Learner(model,  nn.NLLLoss(), opt , data, lr=lr)"
   ]
  },
  {
   "cell_type": "code",
   "execution_count": 114,
   "metadata": {},
   "outputs": [
    {
     "name": "stdout",
     "output_type": "stream",
     "text": [
      "learn.n_iters shouldn't be 0\n"
     ]
    }
   ],
   "source": [
    "fit_rnn(1,learn,cbs)"
   ]
  },
  {
   "cell_type": "code",
   "execution_count": 115,
   "metadata": {},
   "outputs": [
    {
     "name": "stdout",
     "output_type": "stream",
     "text": [
      "64\n"
     ]
    }
   ],
   "source": [
    "i = 0 \n",
    "for g in learn.stats.grads:\n",
    "    i+=1\n",
    "print(i)"
   ]
  },
  {
   "cell_type": "code",
   "execution_count": 148,
   "metadata": {},
   "outputs": [],
   "source": [
    "def get_grads(learn):\n",
    "    layers = 0\n",
    "    for p in learn.model.parameters():\n",
    "        layers+=1\n",
    "    tmp = []\n",
    "    for i in range(0,len(learn.stats.grads),layers):\n",
    "        tmp.append(np.array(learn.stats.grads[i:i+layers]).reshape(layers,1))\n",
    "    return np.hstack(tmp)"
   ]
  },
  {
   "cell_type": "code",
   "execution_count": 149,
   "metadata": {},
   "outputs": [],
   "source": [
    "grad_means = get_grads(learn)"
   ]
  },
  {
   "cell_type": "code",
   "execution_count": 150,
   "metadata": {},
   "outputs": [
    {
     "data": {
      "text/plain": [
       "(16, 4)"
      ]
     },
     "execution_count": 150,
     "metadata": {},
     "output_type": "execute_result"
    }
   ],
   "source": [
    "grad_means.shape"
   ]
  },
  {
   "cell_type": "code",
   "execution_count": null,
   "metadata": {},
   "outputs": [],
   "source": []
  }
 ],
 "metadata": {
  "kernelspec": {
   "display_name": "Python 3",
   "language": "python",
   "name": "python3"
  },
  "language_info": {
   "codemirror_mode": {
    "name": "ipython",
    "version": 3
   },
   "file_extension": ".py",
   "mimetype": "text/x-python",
   "name": "python",
   "nbconvert_exporter": "python",
   "pygments_lexer": "ipython3",
   "version": "3.7.3"
  }
 },
 "nbformat": 4,
 "nbformat_minor": 2
}
