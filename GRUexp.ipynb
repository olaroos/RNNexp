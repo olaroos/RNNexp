{
 "cells": [
  {
   "cell_type": "code",
   "execution_count": 2,
   "metadata": {},
   "outputs": [
    {
     "name": "stdout",
     "output_type": "stream",
     "text": [
      "using device cuda:0\n",
      "/home/r2/Documents/RNNexp\n"
     ]
    }
   ],
   "source": [
    "from ola_cb import * \n",
    "from ola_RNN import * \n",
    "\n",
    "import os, time, copy, math, re, json, pickle, random\n",
    "import numpy as np\n",
    "import pandas as pd\n",
    "\n",
    "import torch, torchvision\n",
    "import torchvision.models as models\n",
    "import torchvision.transforms as transforms\n",
    "import torch.nn as nn\n",
    "import torch.nn.init as init\n",
    "import torch.nn.functional as F\n",
    "import torch.optim as optim\n",
    "\n",
    "import matplotlib.pyplot as plt\n",
    "import matplotlib.patches as mpatches\n",
    "import matplotlib.ticker as ticker\n",
    "\n",
    "from functools import partial \n",
    "\n",
    "cuda_available = torch.cuda.is_available()\n",
    "device = torch.device(\"cuda:0\" if cuda_available else \"cpu\")\n",
    "print(f'''using device {device}''')\n",
    "\n",
    "path = !pwd\n",
    "path = path[0]\n",
    "print(path)"
   ]
  },
  {
   "cell_type": "code",
   "execution_count": null,
   "metadata": {},
   "outputs": [],
   "source": [
    "class GRU(nn.Module):\n",
    "    def __init__(self, in_sz, hidd_sz):\n",
    "        super(GRU,self).__init__()\n",
    "        self.in_sz = in_sz\n",
    "        self.hd_sz = hd_sz\n",
    "        \n",
    "        h_lin = nn.Linear(self.hd_sz,3*self.hd_sz)\n",
    "        x_lin = nn.Linear(self.in_sz,3*self.in_sz)\n",
    "        \n",
    "        cm_in = nn.Linear(self.in_sz,r_size)\n",
    "        \n",
    "    def forward(self,input,hidden):\n",
    "\n",
    "        x = x_lin(input)        \n",
    "        h = h_lin(hidden)\n",
    "        \n",
    "        x_u,x_r,x_n = h.chunk(3,1)\n",
    "        h_u,h_r,h_n = x.chunk(3,1)\n",
    "\n",
    "        update_gate = nn.Sigmoid(x_u + h_u)        \n",
    "        reset_gate  = nn.Sigmoid(x_r + h_r)\n",
    "\n",
    "        new_gate    = torch.tanh(x_n + reset_gate @ h_n) \n",
    "        \n",
    "        h_new       = update_gate @ hidden + (1 - update_gate) @ new_gate \n",
    "        \n",
    "        return h_new"
   ]
  }
 ],
 "metadata": {
  "kernelspec": {
   "display_name": "Python 3",
   "language": "python",
   "name": "python3"
  },
  "language_info": {
   "codemirror_mode": {
    "name": "ipython",
    "version": 3
   },
   "file_extension": ".py",
   "mimetype": "text/x-python",
   "name": "python",
   "nbconvert_exporter": "python",
   "pygments_lexer": "ipython3",
   "version": "3.7.3"
  }
 },
 "nbformat": 4,
 "nbformat_minor": 2
}
