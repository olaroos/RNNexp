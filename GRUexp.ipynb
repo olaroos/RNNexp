{
 "cells": [
  {
   "cell_type": "code",
   "execution_count": 1,
   "metadata": {},
   "outputs": [
    {
     "name": "stdout",
     "output_type": "stream",
     "text": [
      "using device cuda:0\n",
      "/home/r2/Documents/RNNexp\n"
     ]
    }
   ],
   "source": [
    "from ola_cb import * \n",
    "from ola_RNN import * \n",
    "\n",
    "import os, time, copy, math, re, json, pickle, random\n",
    "import numpy as np\n",
    "import pandas as pd\n",
    "\n",
    "import torch, torchvision\n",
    "import torchvision.models as models\n",
    "import torchvision.transforms as transforms\n",
    "import torch.nn as nn\n",
    "import torch.nn.init as init\n",
    "import torch.nn.functional as F\n",
    "import torch.optim as optim\n",
    "\n",
    "import matplotlib.pyplot as plt\n",
    "import matplotlib.patches as mpatches\n",
    "import matplotlib.ticker as ticker\n",
    "\n",
    "from functools import partial \n",
    "\n",
    "cuda_available = torch.cuda.is_available()\n",
    "device = torch.device(\"cuda:0\" if cuda_available else \"cpu\")\n",
    "print(f'''using device {device}''')\n",
    "\n",
    "path = !pwd\n",
    "path = path[0]\n",
    "print(path)"
   ]
  },
  {
   "cell_type": "code",
   "execution_count": 94,
   "metadata": {},
   "outputs": [],
   "source": [
    "def one_rnn_batch(xb,yb,cb):\n",
    "    pred, cb.learn.hidden, loss = cb.learn.model.batch_forward(xb,yb,cb.learn.hidden,learn.loss_fn)\n",
    "    if not cb.after_loss(loss): return    \n",
    "    loss.backward()\n",
    "    if not cb.after_backward(): return \n",
    "    cb.learn.opt.step()\n",
    "    if not cb.after_step(): return\n",
    "    cb.learn.opt.zero_grad()\n",
    "\n",
    "def fit_rnn(epoches, learn, cb=None, itters=math.inf):\n",
    "    hidden = learn.model.initHidden(learn.data.train_dl.bs)\n",
    "    if not cb.begin_fit(learn):           return \n",
    "    for epoch in range(epoches):\n",
    "        if not cb.begin_epoch(epoch):     return             \n",
    "        for xb, yb in iter(learn.data.train_dl):   \n",
    "            if not cb.begin_batch(xb,yb): return  \n",
    "            one_rnn_batch(xb,yb,cb)\n",
    "            if not cb.begin_validate():   return     \n",
    "            if cb.do_stop():              break \n",
    "        if not cb.after_epoch():          return\n",
    "    if not cb.after_fit():                return \n",
    "    return "
   ]
  },
  {
   "cell_type": "code",
   "execution_count": 3,
   "metadata": {},
   "outputs": [],
   "source": [
    "class Learner():\n",
    "    def __init__(self, model, loss_fn, opt, data, lr):\n",
    "        self.model, self.opt, self.loss_fn, self.data = model, opt, loss_fn, data\n",
    "        self._lr     = opt.param_groups[0]['lr']\n",
    "        self.hidden  = None    \n",
    "        self.stats   = Struct()\n",
    "        self.stats.valid_loss = []\n",
    "        self.stats.train_loss = []          \n",
    "        self.n_epochs = 0.\n",
    "        self.n_iters  = 0 \n",
    "        \n",
    "    @property\n",
    "    def lr(self):\n",
    "        return self._lr\n",
    "    \n",
    "    @lr.setter\n",
    "    def lr(self,lr):\n",
    "        self._lr = lr\n",
    "        for param_group in self.opt.param_groups:\n",
    "            param_group['lr'] = lr        \n",
    "            \n",
    "    def one_batch(self, i, xb, yb):\n",
    "        try:\n",
    "            self.iter = i \n",
    "            self.xb,self.yb = xb,yb;                       self('begin_batch')\n",
    "            self.pred = self.model(self.xb);               self('after_pred')\n",
    "            self.loss = self.loss_fn(self.pred, self.yb);  self('after_loss')\n",
    "            if not self.in_train: return\n",
    "            self.loss.backwards();                         self('after_backward')\n",
    "            self.opt.step();                               self('after_step')\n",
    "            self.opt.zero_grad();\n",
    "        except CancelBatchException:                       self('after_cancel_ batch')\n",
    "        finally:                                           self('after_batch')\n",
    "            "
   ]
  },
  {
   "cell_type": "code",
   "execution_count": 4,
   "metadata": {},
   "outputs": [],
   "source": [
    "class ParamScheduler(Callback):\n",
    "    _order=5\n",
    "    def __init__(self, pname, sched_func): self.pname,self.sched_func = pname,sched_func\n",
    "\n",
    "    def begin_fit(self,learn):\n",
    "        super().begin_fit(learn)\n",
    "        return True        \n",
    "        \n",
    "    def set_param(self):\n",
    "        for pg in self.learn.opt.param_groups:\n",
    "            pg[self.pname] = self.sched_func(self.learn.n_epochs)\n",
    "        return True\n",
    "    \n",
    "    def begin_batch(self,xb,yb): \n",
    "        if self.learn.in_train: self.set_param()\n",
    "        return True"
   ]
  },
  {
   "cell_type": "code",
   "execution_count": 5,
   "metadata": {},
   "outputs": [],
   "source": [
    "class StatsCallback(Callback):\n",
    "    _order = 10\n",
    "    \n",
    "    def begin_fit(self,learn):\n",
    "        super().begin_fit(learn)\n",
    "        self.learn.stats.lrs = []\n",
    "        return True\n",
    "\n",
    "    def after_loss(self,loss):\n",
    "        self.learn.stats.train_loss.append(loss.detach().cpu())    \n",
    "        return True\n",
    "    \n",
    "    def after_step(self):\n",
    "        self.learn.stats.lrs.append(self.learn.opt.param_groups[-1]['lr'])\n",
    "        return True\n",
    "        \n",
    "    def begin_validate(self):\n",
    "        if self.learn.n_iters%100 == 0:\n",
    "            self.learn.in_train = False            \n",
    "            self.learn.stats.valid_loss.append(get_valid_rnn(self.learn,itters=30))\n",
    "            print(f\"\"\"finished: {self.learn.n_epochs}%\"\"\")\n",
    "        return True\n",
    "    "
   ]
  },
  {
   "cell_type": "code",
   "execution_count": 6,
   "metadata": {},
   "outputs": [],
   "source": [
    "class GRU(nn.Module):\n",
    "    def __init__(self, in_sz, hd_sz):\n",
    "        super(GRU,self).__init__()\n",
    "        self.in_sz = in_sz\n",
    "        self.hd_sz = hd_sz\n",
    "        \n",
    "        self.h_lin = nn.Linear(self.hd_sz,3*self.hd_sz)\n",
    "        self.x_lin = nn.Linear(self.in_sz,3*self.hd_sz)        \n",
    "        \n",
    "        self.up_sig = nn.Sigmoid()\n",
    "        self.re_sig = nn.Sigmoid()\n",
    "            \n",
    "        self.o1      = nn.Linear(self.hd_sz+self.in_sz,self.in_sz)  \n",
    "\n",
    "        self.softmax = nn.LogSoftmax(dim=1)   \n",
    "        self.loss    = 0 \n",
    "            \n",
    "    def forward(self,input,hidden):        \n",
    "        x = self.x_lin(input)        \n",
    "        h = self.h_lin(hidden)        \n",
    "        x_u,x_r,x_n = x.chunk(3,1)\n",
    "        h_u,h_r,h_n = h.chunk(3,1)\n",
    "        update_gate = self.up_sig(x_u+h_u)        \n",
    "        reset_gate  = self.re_sig(x_r+h_r)\n",
    "        new_gate    = torch.tanh(x_n + reset_gate * h_n)         \n",
    "        h_new       = update_gate * hidden + (1 - update_gate) * new_gate \n",
    "        \n",
    "        combined   = torch.cat((input,h_new),1)\n",
    "        combined   = self.o1(combined)\n",
    "\n",
    "        prediction = self.softmax(combined)\n",
    "        \n",
    "        return prediction, h_new\n",
    "    \n",
    "    def batch_forward(self,xb,yb,hidden,loss_fn):\n",
    "        self.train()\n",
    "        if xb[0,0,1].item() == 1: hidden = self.initHidden(xb.shape[0])                   \n",
    "        loss = 0 \n",
    "        for char in range(xb.shape[1]):\n",
    "            x,y           = xb[:,char],yb[:,char]\n",
    "            x,y,hidden    = unpad(x,y,hidden)\n",
    "            if x.shape[0] == 0: break\n",
    "            output,hidden = self.forward(x,hidden)\n",
    "            loss += loss_fn(output,y)    \n",
    "        return output,hidden.detach(),loss/(char+1)\n",
    "\n",
    "    \n",
    "    def initHidden(self, bs):\n",
    "        return cuda(torch.zeros(bs,self.hd_sz))"
   ]
  },
  {
   "cell_type": "code",
   "execution_count": 7,
   "metadata": {},
   "outputs": [],
   "source": [
    "bs  = 20\n",
    "sql = 30 \n",
    "lr  = 0.0005 \n",
    "\n",
    "sched = combine_scheds([0.15, 0.25, 0.2, 0.4], [sched_cos(0.0005, 0.0008), sched_cos(0.0008, 0.0005),sched_lin(0.0005,0.0005),sched_cos(0.0005,0.00005)]) \n",
    "data          = pp_trumpdata(path+\"/data/trump/\", [0.9,0.95], bs)\n",
    "data.train_dl = TweetDataLoader(data,data.train.tweets,bs,sql,shuffle=True)\n",
    "data.valid_dl = TweetDataLoader(data,data.valid.tweets,bs,sql,shuffle=False)\n",
    "\n",
    "model  = cuda(GRU(len(data.decoder), 150))\n",
    "opt    = optim.RMSprop(model.parameters(), lr)\n",
    "learn  = Learner(model,  nn.NLLLoss(), opt , data, lr=lr)\n",
    "# , , ParamScheduler('lr',sched)]) StatsCallback()"
   ]
  },
  {
   "cell_type": "code",
   "execution_count": 8,
   "metadata": {},
   "outputs": [
    {
     "data": {
      "image/png": "[encoded data removed]",
      "text/plain": [
       "<Figure size 432x288 with 1 Axes>"
      ]
     },
     "metadata": {
      "needs_background": "light"
     },
     "output_type": "display_data"
    }
   ],
   "source": [
    "print_sched(sched)"
   ]
  },
  {
   "cell_type": "code",
   "execution_count": 72,
   "metadata": {},
   "outputs": [],
   "source": [
    "cbs    = CallbackHandler([CounterCallback(10000),StatsCallback()])"
   ]
  },
  {
   "cell_type": "code",
   "execution_count": 73,
   "metadata": {},
   "outputs": [
    {
     "name": "stdout",
     "output_type": "stream",
     "text": [
      "getting validation\n",
      "finished: 0.009999999999999995%\n",
      "getting validation\n",
      "finished: 0.019999999999999934%\n",
      "getting validation\n",
      "finished: 0.029999999999999874%\n",
      "getting validation\n",
      "finished: 0.04000000000000012%\n",
      "getting validation\n",
      "finished: 0.050000000000000405%\n",
      "getting validation\n",
      "finished: 0.06000000000000069%\n",
      "getting validation\n",
      "finished: 0.07000000000000098%\n",
      "getting validation\n",
      "finished: 0.08000000000000126%\n",
      "getting validation\n",
      "finished: 0.09000000000000155%\n",
      "getting validation\n",
      "finished: 0.10000000000000184%\n",
      "getting validation\n",
      "finished: 0.11000000000000212%\n",
      "getting validation\n",
      "finished: 0.12000000000000241%\n",
      "getting validation\n",
      "finished: 0.130000000000002%\n",
      "getting validation\n",
      "finished: 0.1400000000000009%\n",
      "getting validation\n",
      "finished: 0.1499999999999998%\n",
      "getting validation\n",
      "finished: 0.1599999999999987%\n",
      "getting validation\n",
      "finished: 0.1699999999999976%\n",
      "getting validation\n",
      "finished: 0.1799999999999965%\n",
      "getting validation\n",
      "finished: 0.1899999999999954%\n",
      "getting validation\n",
      "finished: 0.1999999999999943%\n",
      "getting validation\n",
      "finished: 0.2099999999999932%\n",
      "getting validation\n",
      "finished: 0.2199999999999921%\n",
      "getting validation\n",
      "finished: 0.229999999999991%\n",
      "getting validation\n",
      "finished: 0.2399999999999899%\n",
      "getting validation\n",
      "finished: 0.2499999999999888%\n",
      "getting validation\n",
      "finished: 0.2599999999999877%\n",
      "getting validation\n",
      "finished: 0.2699999999999866%\n",
      "getting validation\n",
      "finished: 0.2799999999999855%\n",
      "getting validation\n",
      "finished: 0.2899999999999844%\n",
      "getting validation\n",
      "finished: 0.2999999999999833%\n",
      "getting validation\n",
      "finished: 0.3099999999999822%\n",
      "getting validation\n",
      "finished: 0.3199999999999811%\n",
      "getting validation\n",
      "finished: 0.32999999999998%\n",
      "getting validation\n",
      "finished: 0.3399999999999789%\n",
      "getting validation\n",
      "finished: 0.3499999999999778%\n",
      "getting validation\n",
      "finished: 0.35999999999997667%\n",
      "getting validation\n",
      "finished: 0.36999999999997557%\n",
      "getting validation\n",
      "finished: 0.37999999999997447%\n",
      "getting validation\n",
      "finished: 0.38999999999997337%\n",
      "getting validation\n",
      "finished: 0.39999999999997227%\n",
      "getting validation\n",
      "finished: 0.40999999999997117%\n",
      "getting validation\n",
      "finished: 0.41999999999997006%\n",
      "getting validation\n",
      "finished: 0.42999999999996896%\n",
      "getting validation\n",
      "finished: 0.43999999999996786%\n",
      "getting validation\n",
      "finished: 0.44999999999996676%\n",
      "getting validation\n",
      "finished: 0.45999999999996566%\n",
      "getting validation\n",
      "finished: 0.46999999999996456%\n",
      "getting validation\n",
      "finished: 0.47999999999996346%\n",
      "getting validation\n",
      "finished: 0.48999999999996235%\n",
      "getting validation\n",
      "finished: 0.49999999999996125%\n",
      "getting validation\n",
      "finished: 0.5099999999999602%\n",
      "getting validation\n",
      "finished: 0.519999999999959%\n",
      "getting validation\n",
      "finished: 0.529999999999958%\n",
      "getting validation\n",
      "finished: 0.5399999999999568%\n",
      "getting validation\n",
      "finished: 0.5499999999999557%\n",
      "getting validation\n",
      "finished: 0.5599999999999546%\n",
      "getting validation\n",
      "finished: 0.5699999999999535%\n",
      "getting validation\n",
      "finished: 0.5799999999999524%\n",
      "getting validation\n",
      "finished: 0.5899999999999513%\n",
      "getting validation\n",
      "finished: 0.5999999999999502%\n",
      "getting validation\n",
      "finished: 0.6099999999999491%\n",
      "getting validation\n",
      "finished: 0.619999999999948%\n",
      "getting validation\n",
      "finished: 0.6299999999999469%\n",
      "getting validation\n",
      "finished: 0.6399999999999458%\n",
      "getting validation\n",
      "finished: 0.6499999999999447%\n",
      "getting validation\n",
      "finished: 0.6599999999999436%\n",
      "getting validation\n",
      "finished: 0.6699999999999425%\n",
      "getting validation\n",
      "finished: 0.6799999999999414%\n",
      "getting validation\n",
      "finished: 0.6899999999999403%\n",
      "getting validation\n",
      "finished: 0.6999999999999392%\n",
      "getting validation\n",
      "finished: 0.7099999999999381%\n",
      "getting validation\n",
      "finished: 0.719999999999937%\n",
      "getting validation\n",
      "finished: 0.7299999999999359%\n",
      "getting validation\n",
      "finished: 0.7399999999999348%\n",
      "getting validation\n",
      "finished: 0.7499999999999337%\n",
      "getting validation\n",
      "finished: 0.7599999999999326%\n"
     ]
    }
   ],
   "source": [
    "fit_gru(1,learn,cbs)"
   ]
  },
  {
   "cell_type": "code",
   "execution_count": 76,
   "metadata": {},
   "outputs": [
    {
     "data": {
      "text/plain": [
       "<matplotlib.legend.Legend at 0x7f7b8bf6d0f0>"
      ]
     },
     "execution_count": 76,
     "metadata": {},
     "output_type": "execute_result"
    },
    {
     "data": {
      "image/png": "[encoded data removed]",
      "text/plain": [
       "<Figure size 432x288 with 1 Axes>"
      ]
     },
     "metadata": {
      "needs_background": "light"
     },
     "output_type": "display_data"
    }
   ],
   "source": [
    "plt.figure()\n",
    "plt.plot([x for x in range(len(learn.stats.train_loss))],learn.stats.train_loss,label='training_loss')\n",
    "plt.legend()      "
   ]
  },
  {
   "cell_type": "code",
   "execution_count": 77,
   "metadata": {},
   "outputs": [
    {
     "data": {
      "text/plain": [
       "0.4957834698756535"
      ]
     },
     "execution_count": 77,
     "metadata": {},
     "output_type": "execute_result"
    },
    {
     "data": {
      "image/png": "[encoded data removed]",
      "text/plain": [
       "<Figure size 432x288 with 1 Axes>"
      ]
     },
     "metadata": {
      "needs_background": "light"
     },
     "output_type": "display_data"
    }
   ],
   "source": [
    "plt.figure()\n",
    "plt.plot([x for x in range(len(learn.stats.valid_loss))],learn.stats.valid_loss,label='vloss')\n",
    "plt.legend()      \n",
    "learn.stats.valid_loss[-1]"
   ]
  },
  {
   "cell_type": "code",
   "execution_count": null,
   "metadata": {},
   "outputs": [],
   "source": [
    "plt.figure()\n",
    "plt.plot([x for x in range(len(learn.stats.lrs))],learn.stats.lrs,label='learningrate')\n",
    "plt.legend()      "
   ]
  },
  {
   "cell_type": "code",
   "execution_count": 78,
   "metadata": {},
   "outputs": [
    {
     "name": "stdout",
     "output_type": "stream",
     "text": [
      "^. fast never goin bett last see would net the Washi Amab!€!€h to give out. #NeroheSton Siek poll nice soneanord.€.Chrol to hasps cand out real step time to approvally will the @BCAMMERAT\"€Cital #TrumpDett2016 #NetermanD Strong in Fanists aure: https://t.co/FON\n",
      "f6XhSP€\"€€/MaryGre8, &amp; seelly in ti\n"
     ]
    }
   ],
   "source": [
    "generate_seq(learn.model,learn.data,300)"
   ]
  },
  {
   "cell_type": "code",
   "execution_count": 91,
   "metadata": {},
   "outputs": [],
   "source": [
    "class RNN(nn.Module):\n",
    "    def __init__(self, input_size, hidden_size):\n",
    "        super(RNN,self).__init__()\n",
    "        self.hd_sz  = hidden_size\n",
    "        self.in_sz  = input_size\n",
    "        \n",
    "        combined = input_size+hidden_size\n",
    "        \n",
    "        self.h1      = nn.Linear(combined, hidden_size)  \n",
    "\n",
    "        self.o1      = nn.Linear(combined, combined)\n",
    "        self.relu    = nn.ReLU(combined)\n",
    "\n",
    "        self.o2      = nn.Linear(combined, combined)\n",
    "        self.relu2   = nn.ReLU(combined)\n",
    "        \n",
    "        self.o3      = nn.Linear(combined, combined)\n",
    "        self.relu3   = nn.ReLU(combined)\n",
    "        \n",
    "        self.o4      = nn.Linear(combined, combined)\n",
    "        self.relu4   = nn.Linear(combined, combined)\n",
    "        \n",
    "        self.o5      = nn.Linear(combined, input_size)\n",
    "        self.softmax = nn.LogSoftmax(dim=1)\n",
    "        \n",
    "    def batch_forward(self,xb,yb,hidden,loss_fn):\n",
    "        self.train()\n",
    "        if xb[0,0,1].item() == 1: hidden = self.initHidden(xb.shape[0])                   \n",
    "        loss = 0 \n",
    "        for char in range(xb.shape[1]):\n",
    "            x,y           = xb[:,char],yb[:,char]\n",
    "            x,y,hidden    = unpad(x,y,hidden)\n",
    "            if x.shape[0] == 0: break\n",
    "            output,hidden = self.forward(x,hidden)\n",
    "            loss += loss_fn(output,y)    \n",
    "        return output,hidden.detach(),loss/(char+1)        \n",
    "        \n",
    "    def forward(self, input, hidden):\n",
    "        combined = torch.cat((input, hidden), 1)    \n",
    "        \n",
    "        hidden   = self.h1(combined)\n",
    "        hidden   = torch.tanh(hidden)\n",
    "        \n",
    "        output   = self.o1(combined)\n",
    "        output   = self.relu(output)\n",
    "        \n",
    "        output   = self.o2(output)\n",
    "        output   = self.relu2(output)\n",
    "        \n",
    "        output   = self.o3(output)\n",
    "        output   = self.relu3(output)\n",
    "        \n",
    "        output   = self.o4(output)\n",
    "        output   = self.relu4(output)\n",
    "        \n",
    "        output   = self.o5(output)\n",
    "        output   = self.softmax(output)\n",
    "        return output, hidden\n",
    "\n",
    "    def initHidden(self,bs):\n",
    "        return cuda(torch.zeros(bs,self.hd_sz))    "
   ]
  },
  {
   "cell_type": "code",
   "execution_count": 92,
   "metadata": {},
   "outputs": [],
   "source": [
    "model2  = cuda(RNN(len(data.decoder), 150))\n",
    "opt2    = optim.RMSprop(model2.parameters(), lr)\n",
    "learn2  = Learner(model2,  nn.NLLLoss(), opt2 , data, lr=lr)"
   ]
  },
  {
   "cell_type": "code",
   "execution_count": 95,
   "metadata": {},
   "outputs": [
    {
     "name": "stdout",
     "output_type": "stream",
     "text": [
      "getting validation\n",
      "finished: 0.009999999999999995%\n",
      "getting validation\n",
      "finished: 0.019999999999999934%\n",
      "getting validation\n",
      "finished: 0.029999999999999874%\n",
      "getting validation\n",
      "finished: 0.04000000000000012%\n",
      "getting validation\n",
      "finished: 0.050000000000000405%\n",
      "getting validation\n",
      "finished: 0.06000000000000069%\n",
      "getting validation\n",
      "finished: 0.07000000000000098%\n",
      "getting validation\n",
      "finished: 0.08000000000000126%\n",
      "getting validation\n",
      "finished: 0.09000000000000155%\n",
      "getting validation\n",
      "finished: 0.10000000000000184%\n",
      "getting validation\n",
      "finished: 0.11000000000000212%\n",
      "getting validation\n",
      "finished: 0.12000000000000241%\n",
      "getting validation\n",
      "finished: 0.130000000000002%\n",
      "getting validation\n",
      "finished: 0.1400000000000009%\n",
      "getting validation\n",
      "finished: 0.1499999999999998%\n",
      "getting validation\n",
      "finished: 0.1599999999999987%\n",
      "getting validation\n",
      "finished: 0.1699999999999976%\n",
      "getting validation\n",
      "finished: 0.1799999999999965%\n",
      "getting validation\n",
      "finished: 0.1899999999999954%\n",
      "getting validation\n",
      "finished: 0.1999999999999943%\n",
      "getting validation\n",
      "finished: 0.2099999999999932%\n",
      "getting validation\n",
      "finished: 0.2199999999999921%\n",
      "getting validation\n",
      "finished: 0.229999999999991%\n",
      "getting validation\n",
      "finished: 0.2399999999999899%\n",
      "getting validation\n",
      "finished: 0.2499999999999888%\n",
      "getting validation\n",
      "finished: 0.2599999999999877%\n",
      "getting validation\n",
      "finished: 0.2699999999999866%\n",
      "getting validation\n",
      "finished: 0.2799999999999855%\n",
      "getting validation\n",
      "finished: 0.2899999999999844%\n",
      "getting validation\n",
      "finished: 0.2999999999999833%\n",
      "getting validation\n",
      "finished: 0.3099999999999822%\n",
      "getting validation\n",
      "finished: 0.3199999999999811%\n",
      "getting validation\n",
      "finished: 0.32999999999998%\n",
      "getting validation\n",
      "finished: 0.3399999999999789%\n",
      "getting validation\n",
      "finished: 0.3499999999999778%\n",
      "getting validation\n",
      "finished: 0.35999999999997667%\n",
      "getting validation\n",
      "finished: 0.36999999999997557%\n",
      "getting validation\n",
      "finished: 0.37999999999997447%\n",
      "getting validation\n",
      "finished: 0.38999999999997337%\n",
      "getting validation\n",
      "finished: 0.39999999999997227%\n",
      "getting validation\n",
      "finished: 0.40999999999997117%\n",
      "getting validation\n",
      "finished: 0.41999999999997006%\n",
      "getting validation\n",
      "finished: 0.42999999999996896%\n",
      "getting validation\n",
      "finished: 0.43999999999996786%\n",
      "getting validation\n",
      "finished: 0.44999999999996676%\n",
      "getting validation\n",
      "finished: 0.45999999999996566%\n",
      "getting validation\n",
      "finished: 0.46999999999996456%\n",
      "getting validation\n",
      "finished: 0.47999999999996346%\n",
      "getting validation\n",
      "finished: 0.48999999999996235%\n",
      "getting validation\n",
      "finished: 0.49999999999996125%\n",
      "getting validation\n",
      "finished: 0.5099999999999602%\n",
      "getting validation\n",
      "finished: 0.519999999999959%\n",
      "getting validation\n",
      "finished: 0.529999999999958%\n",
      "getting validation\n",
      "finished: 0.5399999999999568%\n",
      "getting validation\n",
      "finished: 0.5499999999999557%\n",
      "getting validation\n",
      "finished: 0.5599999999999546%\n",
      "getting validation\n",
      "finished: 0.5699999999999535%\n",
      "getting validation\n",
      "finished: 0.5799999999999524%\n",
      "getting validation\n",
      "finished: 0.5899999999999513%\n",
      "getting validation\n",
      "finished: 0.5999999999999502%\n",
      "getting validation\n",
      "finished: 0.6099999999999491%\n",
      "getting validation\n",
      "finished: 0.619999999999948%\n",
      "getting validation\n",
      "finished: 0.6299999999999469%\n",
      "getting validation\n",
      "finished: 0.6399999999999458%\n",
      "getting validation\n",
      "finished: 0.6499999999999447%\n",
      "getting validation\n",
      "finished: 0.6599999999999436%\n",
      "getting validation\n",
      "finished: 0.6699999999999425%\n",
      "getting validation\n",
      "finished: 0.6799999999999414%\n",
      "getting validation\n",
      "finished: 0.6899999999999403%\n",
      "getting validation\n",
      "finished: 0.6999999999999392%\n",
      "getting validation\n",
      "finished: 0.7099999999999381%\n",
      "getting validation\n",
      "finished: 0.719999999999937%\n",
      "getting validation\n",
      "finished: 0.7299999999999359%\n",
      "getting validation\n",
      "finished: 0.7399999999999348%\n",
      "getting validation\n",
      "finished: 0.7499999999999337%\n"
     ]
    }
   ],
   "source": [
    "fit_rnn(1, learn2, cbs)"
   ]
  },
  {
   "cell_type": "code",
   "execution_count": 96,
   "metadata": {},
   "outputs": [
    {
     "data": {
      "text/plain": [
       "<matplotlib.legend.Legend at 0x7f7b8be8cf60>"
      ]
     },
     "execution_count": 96,
     "metadata": {},
     "output_type": "execute_result"
    },
    {
     "data": {
      "image/png": "[encoded data removed]",
      "text/plain": [
       "<Figure size 432x288 with 1 Axes>"
      ]
     },
     "metadata": {
      "needs_background": "light"
     },
     "output_type": "display_data"
    }
   ],
   "source": [
    "plt.figure()\n",
    "plt.plot([x for x in range(len(learn2.stats.train_loss))],learn2.stats.train_loss,label='training_loss')\n",
    "plt.legend()      "
   ]
  },
  {
   "cell_type": "code",
   "execution_count": 97,
   "metadata": {},
   "outputs": [
    {
     "data": {
      "text/plain": [
       "0.510513029297193"
      ]
     },
     "execution_count": 97,
     "metadata": {},
     "output_type": "execute_result"
    },
    {
     "data": {
      "image/png": "[encoded data removed]",
      "text/plain": [
       "<Figure size 432x288 with 1 Axes>"
      ]
     },
     "metadata": {
      "needs_background": "light"
     },
     "output_type": "display_data"
    }
   ],
   "source": [
    "plt.figure()\n",
    "plt.plot([x for x in range(len(learn2.stats.valid_loss))],learn2.stats.valid_loss,label='vloss')\n",
    "plt.legend()      \n",
    "learn2.stats.valid_loss[-1]"
   ]
  },
  {
   "cell_type": "code",
   "execution_count": null,
   "metadata": {},
   "outputs": [],
   "source": []
  }
 ],
 "metadata": {
  "kernelspec": {
   "display_name": "Python 3",
   "language": "python",
   "name": "python3"
  },
  "language_info": {
   "codemirror_mode": {
    "name": "ipython",
    "version": 3
   },
   "file_extension": ".py",
   "mimetype": "text/x-python",
   "name": "python",
   "nbconvert_exporter": "python",
   "pygments_lexer": "ipython3",
   "version": "3.7.3"
  }
 },
 "nbformat": 4,
 "nbformat_minor": 2
}
