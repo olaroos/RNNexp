{
 "cells": [
  {
   "cell_type": "code",
   "execution_count": 2,
   "metadata": {},
   "outputs": [
    {
     "name": "stdout",
     "output_type": "stream",
     "text": [
      "using device cuda:0\n",
      "/home/r2/Documents/RNNexp\n"
     ]
    }
   ],
   "source": [
    "from ola_models import * \n",
    "from ola_RNN import * \n",
    "\n",
    "import os, time, copy, math, re, json, pickle, random\n",
    "import numpy as np\n",
    "import pandas as pd\n",
    "\n",
    "import torch, torchvision\n",
    "import torchvision.models as models\n",
    "import torchvision.transforms as transforms\n",
    "import torch.nn as nn\n",
    "import torch.nn.init as init\n",
    "import torch.nn.functional as F\n",
    "import torch.optim as optim\n",
    "\n",
    "import matplotlib.pyplot as plt\n",
    "import matplotlib.patches as mpatches\n",
    "import matplotlib.ticker as ticker\n",
    "\n",
    "from functools import partial \n",
    "\n",
    "cuda_available = torch.cuda.is_available()\n",
    "device = torch.device(\"cuda:0\" if cuda_available else \"cpu\")\n",
    "print(f'''using device {device}''')\n",
    "\n",
    "path = !pwd\n",
    "path = path[0]\n",
    "print(path)"
   ]
  },
  {
   "cell_type": "code",
   "execution_count": 3,
   "metadata": {},
   "outputs": [],
   "source": [
    "bs  = 30\n",
    "sql = 30 \n",
    "lr  = 0.0005 \n",
    "\n",
    "sched = combine_scheds([0.15, 0.25, 0.2, 0.4], [sched_cos(0.0005, 0.0008), sched_cos(0.0008, 0.0005),sched_lin(0.0005,0.0005),sched_cos(0.0005,0.00005)]) \n",
    "data          = pp_trumpdata(path+\"/data/trump/\", [0.9,0.95], bs)\n",
    "data.train_dl = TweetDataLoader(data,data.train.tweets,bs,sql,shuffle=True)\n",
    "data.valid_dl = TweetDataLoader(data,data.valid.tweets,bs,sql,shuffle=False)\n",
    "\n",
    "model  = cuda(GRU(len(data.decoder), 150))\n",
    "opt    = optim.RMSprop(model.parameters(), lr)\n",
    "learn  = Learner(model, nn.NLLLoss(), opt , data, lr=lr)"
   ]
  },
  {
   "cell_type": "code",
   "execution_count": 4,
   "metadata": {},
   "outputs": [],
   "source": [
    "cbs    = CallbackHandler([CounterCallback(10000),StatsCallback()])"
   ]
  },
  {
   "cell_type": "code",
   "execution_count": 8,
   "metadata": {},
   "outputs": [
    {
     "name": "stdout",
     "output_type": "stream",
     "text": [
      "getting validation\n",
      "finished: 0.005%\n",
      "getting validation\n",
      "finished: 0.009999999999999995%\n",
      "getting validation\n",
      "finished: 0.014999999999999965%\n",
      "getting validation\n",
      "finished: 0.019999999999999934%\n",
      "getting validation\n",
      "finished: 0.024999999999999904%\n",
      "getting validation\n",
      "finished: 0.029999999999999874%\n",
      "getting validation\n",
      "finished: 0.034999999999999976%\n",
      "getting validation\n",
      "finished: 0.04000000000000012%\n",
      "getting validation\n",
      "finished: 0.04500000000000026%\n",
      "getting validation\n",
      "finished: 0.050000000000000405%\n",
      "getting validation\n",
      "finished: 0.05500000000000055%\n",
      "getting validation\n",
      "finished: 0.06000000000000069%\n",
      "getting validation\n",
      "finished: 0.06500000000000083%\n",
      "getting validation\n",
      "finished: 0.07000000000000098%\n",
      "getting validation\n",
      "finished: 0.07500000000000112%\n",
      "getting validation\n",
      "finished: 0.08000000000000126%\n",
      "getting validation\n",
      "finished: 0.08500000000000141%\n",
      "getting validation\n",
      "finished: 0.09000000000000155%\n",
      "getting validation\n",
      "finished: 0.0950000000000017%\n",
      "getting validation\n",
      "finished: 0.10000000000000184%\n",
      "getting validation\n",
      "finished: 0.10500000000000198%\n",
      "getting validation\n",
      "finished: 0.11000000000000212%\n",
      "getting validation\n",
      "finished: 0.11500000000000227%\n",
      "getting validation\n",
      "finished: 0.12000000000000241%\n",
      "getting validation\n",
      "finished: 0.12500000000000255%\n",
      "getting validation\n",
      "finished: 0.130000000000002%\n",
      "getting validation\n",
      "finished: 0.13500000000000145%\n",
      "getting validation\n",
      "finished: 0.1400000000000009%\n",
      "getting validation\n",
      "finished: 0.14500000000000035%\n",
      "getting validation\n",
      "finished: 0.1499999999999998%\n",
      "getting validation\n",
      "finished: 0.15499999999999925%\n",
      "getting validation\n",
      "finished: 0.1599999999999987%\n",
      "getting validation\n",
      "finished: 0.16499999999999815%\n",
      "getting validation\n",
      "finished: 0.1699999999999976%\n",
      "getting validation\n",
      "finished: 0.17499999999999705%\n",
      "getting validation\n",
      "finished: 0.1799999999999965%\n",
      "getting validation\n",
      "finished: 0.18499999999999595%\n",
      "getting validation\n",
      "finished: 0.1899999999999954%\n",
      "getting validation\n",
      "finished: 0.19499999999999484%\n",
      "getting validation\n",
      "finished: 0.1999999999999943%\n",
      "getting validation\n",
      "finished: 0.20499999999999374%\n",
      "getting validation\n",
      "finished: 0.2099999999999932%\n",
      "getting validation\n",
      "finished: 0.21499999999999264%\n",
      "getting validation\n",
      "finished: 0.2199999999999921%\n",
      "getting validation\n",
      "finished: 0.22499999999999154%\n",
      "getting validation\n",
      "finished: 0.229999999999991%\n",
      "getting validation\n",
      "finished: 0.23499999999999044%\n",
      "getting validation\n",
      "finished: 0.2399999999999899%\n",
      "getting validation\n",
      "finished: 0.24499999999998934%\n",
      "getting validation\n",
      "finished: 0.2499999999999888%\n",
      "getting validation\n",
      "finished: 0.25499999999998824%\n",
      "getting validation\n",
      "finished: 0.2599999999999877%\n",
      "getting validation\n",
      "finished: 0.26499999999998713%\n",
      "getting validation\n",
      "finished: 0.2699999999999866%\n",
      "getting validation\n",
      "finished: 0.27499999999998603%\n",
      "getting validation\n",
      "finished: 0.2799999999999855%\n",
      "getting validation\n",
      "finished: 0.28499999999998493%\n",
      "getting validation\n",
      "finished: 0.2899999999999844%\n",
      "getting validation\n",
      "finished: 0.29499999999998383%\n",
      "getting validation\n",
      "finished: 0.2999999999999833%\n",
      "getting validation\n",
      "finished: 0.30499999999998273%\n",
      "getting validation\n",
      "finished: 0.3099999999999822%\n",
      "getting validation\n",
      "finished: 0.31499999999998163%\n",
      "getting validation\n",
      "finished: 0.3199999999999811%\n",
      "getting validation\n",
      "finished: 0.3249999999999805%\n",
      "getting validation\n",
      "finished: 0.32999999999998%\n",
      "getting validation\n",
      "finished: 0.3349999999999794%\n",
      "getting validation\n",
      "finished: 0.3399999999999789%\n",
      "getting validation\n",
      "finished: 0.3449999999999783%\n",
      "getting validation\n",
      "finished: 0.3499999999999778%\n",
      "getting validation\n",
      "finished: 0.3549999999999772%\n",
      "getting validation\n",
      "finished: 0.35999999999997667%\n",
      "getting validation\n",
      "finished: 0.3649999999999761%\n",
      "getting validation\n",
      "finished: 0.36999999999997557%\n",
      "getting validation\n",
      "finished: 0.374999999999975%\n",
      "getting validation\n",
      "finished: 0.37999999999997447%\n",
      "getting validation\n",
      "finished: 0.3849999999999739%\n",
      "getting validation\n",
      "finished: 0.38999999999997337%\n",
      "getting validation\n",
      "finished: 0.3949999999999728%\n",
      "getting validation\n",
      "finished: 0.39999999999997227%\n",
      "getting validation\n",
      "finished: 0.4049999999999717%\n",
      "getting validation\n",
      "finished: 0.40999999999997117%\n",
      "getting validation\n",
      "finished: 0.4149999999999706%\n",
      "getting validation\n",
      "finished: 0.41999999999997006%\n",
      "getting validation\n",
      "finished: 0.4249999999999695%\n",
      "getting validation\n",
      "finished: 0.42999999999996896%\n",
      "getting validation\n",
      "finished: 0.4349999999999684%\n",
      "getting validation\n",
      "finished: 0.43999999999996786%\n",
      "getting validation\n",
      "finished: 0.4449999999999673%\n",
      "getting validation\n",
      "finished: 0.44999999999996676%\n",
      "getting validation\n",
      "finished: 0.4549999999999662%\n",
      "getting validation\n",
      "finished: 0.45999999999996566%\n",
      "getting validation\n",
      "finished: 0.4649999999999651%\n",
      "getting validation\n",
      "finished: 0.46999999999996456%\n",
      "getting validation\n",
      "finished: 0.474999999999964%\n",
      "getting validation\n",
      "finished: 0.47999999999996346%\n",
      "getting validation\n",
      "finished: 0.4849999999999629%\n",
      "getting validation\n",
      "finished: 0.48999999999996235%\n",
      "getting validation\n",
      "finished: 0.4949999999999618%\n",
      "getting validation\n",
      "finished: 0.49999999999996125%\n",
      "getting validation\n",
      "finished: 0.5049999999999607%\n",
      "getting validation\n",
      "finished: 0.5099999999999602%\n",
      "getting validation\n",
      "finished: 0.5149999999999596%\n",
      "getting validation\n",
      "finished: 0.519999999999959%\n",
      "getting validation\n",
      "finished: 0.5249999999999585%\n"
     ]
    }
   ],
   "source": [
    "fit_rnn(1,learn,cbs)"
   ]
  },
  {
   "cell_type": "code",
   "execution_count": 11,
   "metadata": {},
   "outputs": [
    {
     "data": {
      "image/png": "[encoded data removed]",
      "text/plain": [
       "<Figure size 432x288 with 1 Axes>"
      ]
     },
     "metadata": {
      "needs_background": "light"
     },
     "output_type": "display_data"
    },
    {
     "data": {
      "image/png": "[encoded data removed]",
      "text/plain": [
       "<Figure size 432x288 with 1 Axes>"
      ]
     },
     "metadata": {
      "needs_background": "light"
     },
     "output_type": "display_data"
    },
    {
     "data": {
      "image/png": "[encoded data removed]",
      "text/plain": [
       "<Figure size 432x288 with 1 Axes>"
      ]
     },
     "metadata": {
      "needs_background": "light"
     },
     "output_type": "display_data"
    },
    {
     "data": {
      "image/png": "[encoded data removed]",
      "text/plain": [
       "<Figure size 432x288 with 1 Axes>"
      ]
     },
     "metadata": {
      "needs_background": "light"
     },
     "output_type": "display_data"
    }
   ],
   "source": [
    "plot_list(learn.stats.train_loss[100::], 'train_loss')\n",
    "plot_list(learn.stats.train_mva_loss[100::], 'moving_average_train_loss')\n",
    "plot_list(learn.stats.valid_loss, 'valid loss')\n",
    "plot_list(learn.stats.valid_accu, 'valid accuracy')"
   ]
  },
  {
   "cell_type": "code",
   "execution_count": 10,
   "metadata": {},
   "outputs": [
    {
     "name": "stdout",
     "output_type": "stream",
     "text": [
      "^.coully bese -7nat of s. our on meding tian thar for be the Wempaitert!€0 Itriabsell be felleg we buing!€ Veto htpp://t.co/P1nJ1Epue9h€shO  outh!€\n",
      "!€.€?€/tiday!€€ UT NeTOphows wint cor’t repudedid.....€€bon veruch a meor for and and it why heve for Didman Fakey! The killong le mese to Iadingal well \n"
     ]
    }
   ],
   "source": [
    "generate_seq(learn.model,learn.data,300)"
   ]
  },
  {
   "cell_type": "code",
   "execution_count": null,
   "metadata": {},
   "outputs": [],
   "source": []
  }
 ],
 "metadata": {
  "kernelspec": {
   "display_name": "Python 3",
   "language": "python",
   "name": "python3"
  },
  "language_info": {
   "codemirror_mode": {
    "name": "ipython",
    "version": 3
   },
   "file_extension": ".py",
   "mimetype": "text/x-python",
   "name": "python",
   "nbconvert_exporter": "python",
   "pygments_lexer": "ipython3",
   "version": "3.7.3"
  }
 },
 "nbformat": 4,
 "nbformat_minor": 2
}
