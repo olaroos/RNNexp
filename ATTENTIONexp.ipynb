{
 "cells": [
  {
   "cell_type": "code",
   "execution_count": 1,
   "metadata": {},
   "outputs": [
    {
     "name": "stdout",
     "output_type": "stream",
     "text": [
      "using device cuda:0\n",
      "/home/r2/Documents/RNNexp\n"
     ]
    }
   ],
   "source": [
    "from ola_models import * \n",
    "from ola_RNN import * \n",
    "\n",
    "import os, time, copy, math, re, json, pickle, random\n",
    "import numpy as np\n",
    "import pandas as pd\n",
    "\n",
    "import torch, torchvision\n",
    "import torchvision.models as models\n",
    "import torchvision.transforms as transforms\n",
    "import torch.nn as nn\n",
    "import torch.nn.init as init\n",
    "import torch.nn.functional as F\n",
    "import torch.optim as optim\n",
    "\n",
    "import matplotlib.pyplot as plt\n",
    "import matplotlib.patches as mpatches\n",
    "import matplotlib.ticker as ticker\n",
    "%matplotlib inline \n",
    "import seaborn as sns\n",
    "\n",
    "from functools import partial \n",
    "\n",
    "cuda_available = torch.cuda.is_available()\n",
    "device = torch.device(\"cuda:0\" if cuda_available else \"cpu\")\n",
    "print(f'''using device {device}''')\n",
    "\n",
    "path = !pwd\n",
    "path = path[0]\n",
    "print(path)"
   ]
  },
  {
   "cell_type": "code",
   "execution_count": 2,
   "metadata": {},
   "outputs": [
    {
     "data": {
      "application/javascript": [
       "IPython.OutputArea.auto_scroll_threshold = 9999;\n"
      ],
      "text/plain": [
       "<IPython.core.display.Javascript object>"
      ]
     },
     "metadata": {},
     "output_type": "display_data"
    }
   ],
   "source": [
    "%%javascript\n",
    "IPython.OutputArea.auto_scroll_threshold = 9999;"
   ]
  },
  {
   "cell_type": "code",
   "execution_count": null,
   "metadata": {},
   "outputs": [],
   "source": [
    "class Attention(nn.Module):\n",
    "    def __init__(self,x_sz,h_sz,sql):\n",
    "        self.x_sz = x_sz\n",
    "        self.h_sz = h_sz \n",
    "        \n",
    "        self.score_Wa     = nn.Linear(self.h_sz,self.h_sz)\n",
    "        self.c_t          = None\n",
    "        self.attention_ht = None \n",
    "        self.a_t = torch.zeros(sql,1)\n",
    "        self.h_s = self.InitHidden(self.h_sz)\n",
    "        \n",
    "        self.RNN = cuda(GRU(self.x_sz,self.h_sz))\n",
    "        \n",
    "    def get_hbar(self,X,hidden):\n",
    "        hbar = torch.zeros(self.h_sz,sql) \n",
    "        for idx in range(X.shape[0])\n",
    "            _, hbar[idx] = self.RNN.forward(input,hidden)\n",
    "        return hbar\n",
    "    \n",
    "    def score(self,h_t,hbar_t):\n",
    "        f\"\"\" dot: h_t * hbar_t \"\"\"\n",
    "        f\"\"\" concat: v_a * torch.tanh(self.score_Wa(torch.cat((h_t,hbar_t),1))) \"\"\"\n",
    "        f\"\"\" general \"\"\"\n",
    "        return h_t * self.score_Wa(hbar_t)\n",
    "\n",
    "    def InitHidden(self,bs)\n",
    "        return cuda(torch.zeros(bs,self.h_sz))\n"
   ]
  }
 ],
 "metadata": {
  "kernelspec": {
   "display_name": "Python 3",
   "language": "python",
   "name": "python3"
  },
  "language_info": {
   "codemirror_mode": {
    "name": "ipython",
    "version": 3
   },
   "file_extension": ".py",
   "mimetype": "text/x-python",
   "name": "python",
   "nbconvert_exporter": "python",
   "pygments_lexer": "ipython3",
   "version": "3.7.3"
  }
 },
 "nbformat": 4,
 "nbformat_minor": 2
}
