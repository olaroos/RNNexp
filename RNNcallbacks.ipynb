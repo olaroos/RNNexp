{
 "cells": [
  {
   "cell_type": "code",
   "execution_count": 1,
   "metadata": {},
   "outputs": [
    {
     "name": "stdout",
     "output_type": "stream",
     "text": [
      "using device cuda:0\n",
      "/home/r2/Documents/RNNexp\n"
     ]
    }
   ],
   "source": [
    "from ola_RNN import * \n",
    "from ola_cb import * \n",
    "\n",
    "import os, time, copy, math, re, json, pickle, random\n",
    "import numpy as np\n",
    "import pandas as pd\n",
    "\n",
    "import torch, torchvision\n",
    "import torchvision.models as models\n",
    "import torchvision.transforms as transforms\n",
    "import torch.nn as nn\n",
    "import torch.nn.init as init\n",
    "import torch.nn.functional as F\n",
    "import torch.optim as optim\n",
    "\n",
    "import matplotlib.pyplot as plt\n",
    "import matplotlib.patches as mpatches\n",
    "import matplotlib.ticker as ticker\n",
    "\n",
    "from functools import partial \n",
    "\n",
    "cuda_available = torch.cuda.is_available()\n",
    "device = torch.device(\"cuda:0\" if cuda_available else \"cpu\")\n",
    "print(f'''using device {device}''')\n",
    "\n",
    "path = !pwd\n",
    "path = path[0]\n",
    "print(path)"
   ]
  },
  {
   "cell_type": "code",
   "execution_count": 12,
   "metadata": {},
   "outputs": [],
   "source": []
  },
  {
   "cell_type": "code",
   "execution_count": 13,
   "metadata": {},
   "outputs": [],
   "source": [
    "class Learner():\n",
    "    def __init__(self, model, loss_fn, opt, data, lr):\n",
    "        self.model, self.opt, self.loss_fn, self.data = model, opt, loss_fn, data\n",
    "        self._lr     = opt.param_groups[0]['lr']\n",
    "        self.hidden  = None    \n",
    "        self.stats   = Struct()\n",
    "        self.stats.valid_loss = []\n",
    "        self.stats.train_loss = [] \n",
    "    \n",
    "    @property\n",
    "    def lr(self):\n",
    "        return self._lr\n",
    "    \n",
    "    @lr.setter\n",
    "    def lr(self,lr):\n",
    "        self._lr = lr\n",
    "        for param_group in self.opt.param_groups:\n",
    "            param_group['lr'] = lr        \n",
    "            \n",
    "    def one_batch(self, i, xb, yb):\n",
    "        try:\n",
    "            self.iter = i \n",
    "            self.xb,self.yb = xb,yb;                       self('begin_batch')\n",
    "            self.pred = self.model(self.xb);               self('after_pred')\n",
    "            self.loss = self.loss_fn(self.pred, self.yb);  self('after_loss')\n",
    "            if not self.in_train: return\n",
    "            self.loss.backwards();                         self('after_backward')\n",
    "            self.opt.step();                               self('after_step')\n",
    "            self.opt.zero_grad();\n",
    "        except CancelBatchException:                       self('after_cancel_ batch')\n",
    "        finally:                                           self('after_batch')\n",
    "            "
   ]
  },
  {
   "cell_type": "code",
   "execution_count": 4,
   "metadata": {},
   "outputs": [],
   "source": [
    "class RNN(nn.Module):\n",
    "    def __init__(self, input_size, hidden_size, output_size):\n",
    "        super(RNN,self).__init__()\n",
    "        self.hd_sz  = hidden_size\n",
    "        self.in_sz  = input_size\n",
    "        self.out_sz = output_size\n",
    "        \n",
    "        combined = input_size+hidden_size\n",
    "        \n",
    "        self.h1      = nn.Linear(combined, hidden_size)  \n",
    "\n",
    "        self.o1      = nn.Linear(combined, combined)\n",
    "        self.relu    = nn.ReLU(combined)\n",
    "\n",
    "        self.o2      = nn.Linear(combined, combined)\n",
    "        self.relu2   = nn.ReLU(combined)\n",
    "        \n",
    "        self.o3      = nn.Linear(combined, combined)\n",
    "        self.relu3   = nn.ReLU(combined)\n",
    "        \n",
    "        self.o4      = nn.Linear(combined, combined)\n",
    "        self.relu4   = nn.Linear(combined, combined)\n",
    "        \n",
    "        self.o5      = nn.Linear(combined, input_size)\n",
    "        self.softmax = nn.LogSoftmax(dim=1)\n",
    "        \n",
    "    def forward(self, input, hidden):\n",
    "        combined = torch.cat((input, hidden), 1)    \n",
    "        \n",
    "        hidden   = self.h1(combined)\n",
    "        hidden   = torch.tanh(hidden)\n",
    "        \n",
    "        output   = self.o1(combined)\n",
    "        output   = self.relu(output)\n",
    "        \n",
    "        output   = self.o2(output)\n",
    "        output   = self.relu2(output)\n",
    "        \n",
    "        output   = self.o3(output)\n",
    "        output   = self.relu3(output)\n",
    "        \n",
    "        output   = self.o4(output)\n",
    "        output   = self.relu4(output)\n",
    "        \n",
    "        output   = self.o5(output)\n",
    "        output   = self.softmax(output)\n",
    "        return output, hidden\n",
    "\n",
    "    def initHidden(self,bs):\n",
    "        return cuda(torch.zeros(bs,self.hd_sz))        \n",
    "    "
   ]
  },
  {
   "cell_type": "code",
   "execution_count": 6,
   "metadata": {},
   "outputs": [],
   "source": [
    "def one_rnn_batch(xb,yb,cb):\n",
    "    pred, learn.hidden, loss = rnn_forward(cb.learn,cb.learn.hidden,xb,yb)\n",
    "    if not cb.after_loss(loss): return    \n",
    "    loss.backward()\n",
    "    if not cb.after_backward(): return \n",
    "    cb.learn.opt.step()\n",
    "    if not cb.after_step(): return\n",
    "    cb.learn.opt.zero_grad()\n",
    "\n",
    "def fit_rnn(epoches, learn, cb=None, valid_loss=[], itters=math.inf):\n",
    "    hidden = learn.model.initHidden(15)\n",
    "    if not cb.begin_fit(learn):           return \n",
    "    for epoch in range(epoches):\n",
    "        if not cb.begin_epoch(epoch):     return             \n",
    "        for xb, yb in iter(learn.data.train_dl):   \n",
    "            if not cb.begin_batch(xb,yb): return   \n",
    "            one_rnn_batch(xb,yb,cb)\n",
    "            if not cb.after_batch():      return             \n",
    "            if not cb.begin_validate():   return     \n",
    "            if cb.do_stop():              break \n",
    "        if not cb.after_epoch():          return\n",
    "    if not cb.after_fit():                return \n",
    "    return "
   ]
  },
  {
   "cell_type": "code",
   "execution_count": 7,
   "metadata": {},
   "outputs": [],
   "source": [
    "class TestCallback(Callback):\n",
    "    def begin_fit(self,learn):\n",
    "        learn.model.train()\n",
    "        super().begin_fit(learn)\n",
    "        self.n_iters = 0\n",
    "        self.n_valids = 0 \n",
    "        return True\n",
    "    \n",
    "    def after_step(self):\n",
    "        self.n_iters += 1\n",
    "        return True\n",
    "    \n",
    "    def after_batch(self):\n",
    "        if self.n_iters \n",
    "\n",
    "    def begin_epoch(self,epoch):\n",
    "        self.epoch = epoch \n",
    "        return True\n",
    "    \n",
    "    def begin_validate(self):\n",
    "        self.n_valids += 1\n",
    "        if self.n_iters%100 == 0:\n",
    "            self.learn.stats.valid_loss.append(get_valid_rnn(self.learn,itters=30))\n",
    "        if self.n_valids>=15: self.learn.stop = True\n",
    "        return True"
   ]
  },
  {
   "cell_type": "code",
   "execution_count": 8,
   "metadata": {},
   "outputs": [],
   "source": [
    "cb = CallbackHandler([TestCallback()])"
   ]
  },
  {
   "cell_type": "code",
   "execution_count": 9,
   "metadata": {},
   "outputs": [],
   "source": [
    "bs  = 20\n",
    "sql = 30 \n",
    "lr  = 0.0005 \n",
    "\n",
    "data          = pp_trumpdata(path+\"/data/trump/\", [0.9,0.95], bs)\n",
    "data.train_dl = TweetDataLoader(data,data.train.tweets,bs,sql,shuffle=True)\n",
    "data.valid_dl = TweetDataLoader(data,data.valid.tweets,bs,sql,shuffle=False)\n",
    "\n",
    "model  = cuda(RNN(len(data.decoder), 150, 1))\n",
    "opt    = optim.RMSprop(model.parameters(), lr)\n",
    "\n",
    "learn  = Learner(model,  nn.NLLLoss(), opt , data, lr=lr)"
   ]
  },
  {
   "cell_type": "code",
   "execution_count": 10,
   "metadata": {},
   "outputs": [
    {
     "name": "stdout",
     "output_type": "stream",
     "text": [
      "getting validation\n",
      "getting validation\n",
      "getting validation\n",
      "getting validation\n",
      "getting validation\n",
      "getting validation\n",
      "getting validation\n",
      "getting validation\n",
      "getting validation\n",
      "getting validation\n",
      "getting validation\n",
      "getting validation\n",
      "getting validation\n",
      "getting validation\n",
      "getting validation\n",
      "getting validation\n",
      "getting validation\n",
      "getting validation\n",
      "getting validation\n",
      "getting validation\n",
      "getting validation\n",
      "getting validation\n",
      "getting validation\n",
      "getting validation\n",
      "getting validation\n",
      "getting validation\n",
      "getting validation\n",
      "getting validation\n",
      "getting validation\n",
      "getting validation\n",
      "getting validation\n",
      "getting validation\n",
      "getting validation\n",
      "getting validation\n",
      "getting validation\n",
      "getting validation\n",
      "getting validation\n",
      "getting validation\n",
      "getting validation\n",
      "getting validation\n",
      "getting validation\n",
      "getting validation\n",
      "getting validation\n",
      "getting validation\n",
      "getting validation\n",
      "getting validation\n",
      "getting validation\n",
      "getting validation\n",
      "getting validation\n",
      "getting validation\n",
      "getting validation\n",
      "getting validation\n",
      "getting validation\n",
      "getting validation\n",
      "getting validation\n",
      "getting validation\n",
      "getting validation\n",
      "getting validation\n",
      "getting validation\n",
      "getting validation\n",
      "getting validation\n",
      "getting validation\n",
      "getting validation\n",
      "getting validation\n",
      "getting validation\n",
      "getting validation\n",
      "getting validation\n",
      "getting validation\n",
      "getting validation\n",
      "getting validation\n",
      "getting validation\n",
      "getting validation\n",
      "getting validation\n",
      "getting validation\n",
      "getting validation\n"
     ]
    }
   ],
   "source": [
    "fit_rnn(1,learn,cb)"
   ]
  },
  {
   "cell_type": "code",
   "execution_count": 11,
   "metadata": {},
   "outputs": [
    {
     "data": {
      "text/plain": [
       "<matplotlib.legend.Legend at 0x7f4ba7c9f2b0>"
      ]
     },
     "execution_count": 11,
     "metadata": {},
     "output_type": "execute_result"
    },
    {
     "data": {
      "image/png": "[encoded data removed]",
      "text/plain": [
       "<Figure size 432x288 with 1 Axes>"
      ]
     },
     "metadata": {
      "needs_background": "light"
     },
     "output_type": "display_data"
    }
   ],
   "source": [
    "plt.figure()\n",
    "plt.plot([x for x in range(len(learn.stats.valid_loss))],learn.stats.valid_loss,label='vloss')\n",
    "# plt.plot([x for x in range(len(emadb))],emadb,label='emadb')       \n",
    "plt.legend()      "
   ]
  },
  {
   "cell_type": "code",
   "execution_count": null,
   "metadata": {},
   "outputs": [],
   "source": []
  }
 ],
 "metadata": {
  "kernelspec": {
   "display_name": "Python 3",
   "language": "python",
   "name": "python3"
  },
  "language_info": {
   "codemirror_mode": {
    "name": "ipython",
    "version": 3
   },
   "file_extension": ".py",
   "mimetype": "text/x-python",
   "name": "python",
   "nbconvert_exporter": "python",
   "pygments_lexer": "ipython3",
   "version": "3.7.3"
  }
 },
 "nbformat": 4,
 "nbformat_minor": 2
}
